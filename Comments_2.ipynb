{
  "nbformat": 4,
  "nbformat_minor": 0,
  "metadata": {
    "colab": {
      "name": "Comments.2",
      "provenance": [],
      "collapsed_sections": [],
      "authorship_tag": "ABX9TyNpLjFx87l+DCYncxackfUW",
      "include_colab_link": true
    },
    "kernelspec": {
      "name": "python3",
      "display_name": "Python 3"
    },
    "language_info": {
      "name": "python"
    }
  },
  "cells": [
    {
      "cell_type": "markdown",
      "metadata": {
        "id": "view-in-github",
        "colab_type": "text"
      },
      "source": [
        "<a href=\"https://colab.research.google.com/github/Diptyregar456/Python/blob/main/Comments_2.ipynb\" target=\"_parent\"><img src=\"https://colab.research.google.com/assets/colab-badge.svg\" alt=\"Open In Colab\"/></a>"
      ]
    },
    {
      "cell_type": "code",
      "metadata": {
        "colab": {
          "base_uri": "https://localhost:8080/"
        },
        "id": "jJ59RH4w_2SD",
        "outputId": "e23b677c-9e22-4c16-b0aa-738149a66293"
      },
      "source": [
        "#comments = comments are usually used for defining something important or defining the details of the code. there are two types of comments that we define \n",
        "# in Python \n",
        "# 1.single line comments\n",
        "# 2.Multiline comments\n",
        "\n",
        "#examples for this\n",
        "#1 single line comments:-\n",
        "\n",
        "if 5>>2:\n",
        "  print('5 is larger') #condition here 5 is larger so it will print this condition because its true.\n",
        "else:\n",
        "  print('2 is lesser') #every keyword, function or code has its own body we cant mention everything in one otherwise it will give you indentation error\n",
        "\n",
        "#2 Multiline comments:-\n",
        "\n",
        "''' there is this one condition which cant be true so \n",
        "it has to be true'''\n",
        "num = 0\n",
        "if num >> 5:\n",
        "  print('the number is 5')\n",
        "else:\n",
        "  print('the number is not 5')"
      ],
      "execution_count": null,
      "outputs": [
        {
          "output_type": "stream",
          "text": [
            "5 is larger\n",
            "the number is not 5\n"
          ],
          "name": "stdout"
        }
      ]
    }
  ]
}