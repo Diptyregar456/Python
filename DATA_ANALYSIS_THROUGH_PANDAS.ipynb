{
  "nbformat": 4,
  "nbformat_minor": 0,
  "metadata": {
    "colab": {
      "name": "DATA ANALYSIS THROUGH PANDAS.ipynb",
      "provenance": [],
      "authorship_tag": "ABX9TyPNRZDBAlove6FYvsFHZ08Y",
      "include_colab_link": true
    },
    "kernelspec": {
      "name": "python3",
      "display_name": "Python 3"
    },
    "language_info": {
      "name": "python"
    }
  },
  "cells": [
    {
      "cell_type": "markdown",
      "metadata": {
        "id": "view-in-github",
        "colab_type": "text"
      },
      "source": [
        "<a href=\"https://colab.research.google.com/github/Diptyregar456/Python/blob/main/DATA_ANALYSIS_THROUGH_PANDAS.ipynb\" target=\"_parent\"><img src=\"https://colab.research.google.com/assets/colab-badge.svg\" alt=\"Open In Colab\"/></a>"
      ]
    },
    {
      "cell_type": "markdown",
      "metadata": {
        "id": "jRMbWn-68dbu"
      },
      "source": [
        "**PANDAS:**\n",
        "\n",
        "> PANDAS we use for powerfull data structure-fest end efficient data wranglingg \n",
        " item.(LIST) list is a data structure\n",
        " Data wrangling involves processing the data in various formats like - merging, grouping, concatenating etc. for the purpose of analysing or getting them ready to be used with another set of data.\n",
        "DATA WRANGLING - merging, grouping , concatenating (the process of data in various formates.\n",
        "Python has several methods are available to perform aggregations on data. It is done using the pandas and numpy libraries. The data must be available or converted to a dataframe to apply the aggregation functions.\n",
        "\n",
        "Aggregations : it is a function we use for convert available data to dara frame.\n",
        "pandas, numpy libraries that we use for dataframe\n",
        "\n",
        "easy input and output data with writing to files from files \n",
        "list item\n",
        "\n"
      ]
    },
    {
      "cell_type": "markdown",
      "metadata": {
        "id": "szlD16Wv_EsF"
      },
      "source": [
        "**SERIES**\n",
        "\n",
        "> one dimension dataframe: TWO dimension panel: 3 dimension\n",
        "\n"
      ]
    },
    {
      "cell_type": "markdown",
      "metadata": {
        "id": "EbbOs5shAvgL"
      },
      "source": [
        "# CREATING A PANDAS SERIES\n",
        "\n",
        "> so here i will import pandas in this and will create a series from list.\n",
        "\n"
      ]
    },
    {
      "cell_type": "code",
      "metadata": {
        "id": "6wIeOl5QFMya"
      },
      "source": [
        "import pandas as pd #creating a pandas series\n",
        "list1 = [1,2,3] #creating a series from list\n",
        "#created a list\n",
        "#creating a series from the list.\n",
        "list1=[1,2,3]\n",
        "list1=[1,2,3]\n",
        "series1=pd.Series(list1)\n",
        "print(series1)\n"
      ],
      "execution_count": null,
      "outputs": []
    },
    {
      "cell_type": "code",
      "metadata": {
        "id": "PYYIa0qpJgPc"
      },
      "source": [
        "#creating series from numpy\n",
        "import numpy as np\n",
        "ind = ['a','b','c']\n",
        "arr1 = np.array(list1)\n",
        "#pd.series(data=arr1, index = ind)"
      ],
      "execution_count": null,
      "outputs": []
    },
    {
      "cell_type": "code",
      "metadata": {
        "id": "3N1_fvsGH1_C"
      },
      "source": [
        "import pandas as pd\n",
        "list1 = [1,2,3]\n",
        "series1=pd.Series(list1)\n",
        "print(series1)"
      ],
      "execution_count": null,
      "outputs": []
    },
    {
      "cell_type": "code",
      "metadata": {
        "id": "Vh36x2M5KlWy"
      },
      "source": [
        "import numpy as np\n",
        "ind = ['a','b','c']\n",
        "arr1 = np.array(list1)\n",
        "pd.Series(data=arr1,index=ind)"
      ],
      "execution_count": null,
      "outputs": []
    },
    {
      "cell_type": "code",
      "metadata": {
        "id": "HhKUqq9jo45B"
      },
      "source": [
        "import pandas as pd\n",
        "import numpy as np\n",
        "import matplotlib.pyplot as plt\n",
        "np.random.randn(3,4)*10 #it is showing some random number in between 300 and 400 every time it changes when we execute the code."
      ],
      "execution_count": null,
      "outputs": []
    },
    {
      "cell_type": "markdown",
      "metadata": {
        "id": "yvhsui7RXSMf"
      },
      "source": [
        "**NUMPY WITH ONE DIMENSIONAL SERIES AND 2D SERIES**"
      ]
    },
    {
      "cell_type": "code",
      "metadata": {
        "id": "NjkvBz_pXcRJ"
      },
      "source": [
        "# if we want to convert list into array sepcifically we use numpy'\n",
        "import numpy as np\n",
        "list = np.array([1,2,3,4,5])\n",
        "my_tuple = np.array((1,2,3,4,5), np.int32)\n",
        "print(list)\n",
        "print(my_tuple)\n",
        "print(list.shape)\n",
        "print(my_tuple.shape)"
      ],
      "execution_count": null,
      "outputs": []
    },
    {
      "cell_type": "markdown",
      "metadata": {
        "id": "-GJTc0CaYidM"
      },
      "source": [
        "** 2D ARRAY WITH NUMPY**"
      ]
    },
    {
      "cell_type": "code",
      "metadata": {
        "id": "eEoXW25gYqX0"
      },
      "source": [
        "nd_arr = np.array([[1,2,3,4,5],[6,7,8,9,10],[11,12,13,14,15]]) #here i am creating 3d array\n",
        "print(nd_arr)\n",
        "print(nd_arr.shape) #using shape function to detrmine the array size \n",
        "print(nd_arr)"
      ],
      "execution_count": null,
      "outputs": []
    },
    {
      "cell_type": "code",
      "metadata": {
        "id": "C2wTKizsZmKH"
      },
      "source": [
        "nd_arr[0,1] #0 from column + 1 from column 2 #first is row and second is column"
      ],
      "execution_count": null,
      "outputs": []
    },
    {
      "cell_type": "code",
      "metadata": {
        "id": "B73HYdDAZvBP"
      },
      "source": [
        "nd_arr[0:3,0:2] #3 row 2 column"
      ],
      "execution_count": null,
      "outputs": []
    },
    {
      "cell_type": "code",
      "metadata": {
        "id": "xw1bxoDKa84N"
      },
      "source": [
        "nd_arr.shape"
      ],
      "execution_count": null,
      "outputs": []
    },
    {
      "cell_type": "code",
      "metadata": {
        "id": "E7kL3n8rbE3a"
      },
      "source": [
        "nd_arr.sum()"
      ],
      "execution_count": null,
      "outputs": []
    },
    {
      "cell_type": "code",
      "metadata": {
        "id": "Tze4dvFYbKA4"
      },
      "source": [
        "nd_arr.sum?"
      ],
      "execution_count": null,
      "outputs": []
    },
    {
      "cell_type": "code",
      "metadata": {
        "id": "sE9cXbWvbWfq"
      },
      "source": [
        "#Broadcasting\n",
        "a = np.array([10,-10]) #one dimenstional broadcasting\n",
        "b = np.array([1,-1])\n",
        "print(a)\n",
        "print(b)\n",
        "print(a+b)"
      ],
      "execution_count": null,
      "outputs": []
    },
    {
      "cell_type": "code",
      "metadata": {
        "id": "60flSw6Sb-37"
      },
      "source": [
        "#2d broad casting\n",
        "a = np.array([[10],[-10]])\n",
        "b = np.array([[1,2],[-1,-2]])\n",
        "print(a)\n",
        "print(b)\n",
        "print(a+b)\n",
        "print(a+4)"
      ],
      "execution_count": null,
      "outputs": []
    },
    {
      "cell_type": "code",
      "metadata": {
        "id": "A8xdnGEbcmwg",
        "colab": {
          "base_uri": "https://localhost:8080/",
          "height": 333
        },
        "outputId": "370ab913-8844-424a-941b-e2acf071fdc1"
      },
      "source": [
        "import pandas as pd\n",
        "list1 = [1,2,3,4,5]\n",
        "#series1 = pd.series(list1)\n",
        "#print(series1)"
      ],
      "execution_count": null,
      "outputs": [
        {
          "output_type": "error",
          "ename": "AttributeError",
          "evalue": "ignored",
          "traceback": [
            "\u001b[0;31m---------------------------------------------------------------------------\u001b[0m",
            "\u001b[0;31mAttributeError\u001b[0m                            Traceback (most recent call last)",
            "\u001b[0;32m<ipython-input-21-40d90686dc3a>\u001b[0m in \u001b[0;36m<module>\u001b[0;34m()\u001b[0m\n\u001b[1;32m      1\u001b[0m \u001b[0;32mimport\u001b[0m \u001b[0mpandas\u001b[0m \u001b[0;32mas\u001b[0m \u001b[0mpd\u001b[0m\u001b[0;34m\u001b[0m\u001b[0;34m\u001b[0m\u001b[0m\n\u001b[1;32m      2\u001b[0m \u001b[0mlist1\u001b[0m \u001b[0;34m=\u001b[0m \u001b[0;34m[\u001b[0m\u001b[0;36m1\u001b[0m\u001b[0;34m,\u001b[0m\u001b[0;36m2\u001b[0m\u001b[0;34m,\u001b[0m\u001b[0;36m3\u001b[0m\u001b[0;34m,\u001b[0m\u001b[0;36m4\u001b[0m\u001b[0;34m,\u001b[0m\u001b[0;36m5\u001b[0m\u001b[0;34m]\u001b[0m\u001b[0;34m\u001b[0m\u001b[0;34m\u001b[0m\u001b[0m\n\u001b[0;32m----> 3\u001b[0;31m \u001b[0mseries1\u001b[0m \u001b[0;34m=\u001b[0m \u001b[0mpd\u001b[0m\u001b[0;34m.\u001b[0m\u001b[0mseries\u001b[0m\u001b[0;34m(\u001b[0m\u001b[0mlist1\u001b[0m\u001b[0;34m)\u001b[0m\u001b[0;34m\u001b[0m\u001b[0;34m\u001b[0m\u001b[0m\n\u001b[0m\u001b[1;32m      4\u001b[0m \u001b[0mprint\u001b[0m\u001b[0;34m(\u001b[0m\u001b[0mseries1\u001b[0m\u001b[0;34m)\u001b[0m\u001b[0;34m\u001b[0m\u001b[0;34m\u001b[0m\u001b[0m\n",
            "\u001b[0;32m/usr/local/lib/python3.7/dist-packages/pandas/__init__.py\u001b[0m in \u001b[0;36m__getattr__\u001b[0;34m(name)\u001b[0m\n\u001b[1;32m    256\u001b[0m             \u001b[0;32mreturn\u001b[0m \u001b[0m_SparseArray\u001b[0m\u001b[0;34m\u001b[0m\u001b[0;34m\u001b[0m\u001b[0m\n\u001b[1;32m    257\u001b[0m \u001b[0;34m\u001b[0m\u001b[0m\n\u001b[0;32m--> 258\u001b[0;31m         \u001b[0;32mraise\u001b[0m \u001b[0mAttributeError\u001b[0m\u001b[0;34m(\u001b[0m\u001b[0;34mf\"module 'pandas' has no attribute '{name}'\"\u001b[0m\u001b[0;34m)\u001b[0m\u001b[0;34m\u001b[0m\u001b[0;34m\u001b[0m\u001b[0m\n\u001b[0m\u001b[1;32m    259\u001b[0m \u001b[0;34m\u001b[0m\u001b[0m\n\u001b[1;32m    260\u001b[0m \u001b[0;34m\u001b[0m\u001b[0m\n",
            "\u001b[0;31mAttributeError\u001b[0m: module 'pandas' has no attribute 'series'"
          ]
        }
      ]
    },
    {
      "cell_type": "code",
      "metadata": {
        "id": "rrotpazLsER2"
      },
      "source": [
        ""
      ],
      "execution_count": null,
      "outputs": []
    },
    {
      "cell_type": "code",
      "metadata": {
        "id": "Wr29YzH3dDB3"
      },
      "source": [
        "pd.series?"
      ],
      "execution_count": null,
      "outputs": []
    }
  ]
}