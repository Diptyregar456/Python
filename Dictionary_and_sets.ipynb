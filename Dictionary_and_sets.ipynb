{
  "nbformat": 4,
  "nbformat_minor": 0,
  "metadata": {
    "colab": {
      "name": "Dictionary and sets.ipynb",
      "provenance": [],
      "collapsed_sections": [],
      "authorship_tag": "ABX9TyMaMeHRA1JxZx/pqmaBGja3",
      "include_colab_link": true
    },
    "kernelspec": {
      "name": "python3",
      "display_name": "Python 3"
    },
    "language_info": {
      "name": "python"
    }
  },
  "cells": [
    {
      "cell_type": "markdown",
      "metadata": {
        "id": "view-in-github",
        "colab_type": "text"
      },
      "source": [
        "<a href=\"https://colab.research.google.com/github/Diptyregar456/Python/blob/main/Dictionary_and_sets.ipynb\" target=\"_parent\"><img src=\"https://colab.research.google.com/assets/colab-badge.svg\" alt=\"Open In Colab\"/></a>"
      ]
    },
    {
      "cell_type": "markdown",
      "metadata": {
        "id": "RQ88ar9q_UrI"
      },
      "source": [
        "WHAT ARE DICTIONARIES\n",
        "\n",
        "python s dictionaries allow you to connect pieces of related information. each pieces of information n a dictionary is stores as a key-value pair. when you provide  a key. you can loop through all the key-value paires, all the keys or all the values."
      ]
    },
    {
      "cell_type": "code",
      "metadata": {
        "id": "08r5vov5lWLR"
      },
      "source": [
        ""
      ],
      "execution_count": null,
      "outputs": []
    },
    {
      "cell_type": "markdown",
      "metadata": {
        "id": "XGbRG9hgAAqz"
      },
      "source": [
        "**DEFINING A DICTIONARY\n",
        "\n",
        "USE CURLLY BRACES TO DEFINE A DICTIONARY IT IS STORES INFORMATION AS KEY-VALUE PAIR AND USE COMMAS TO SEPERATE IDIVICUDAL KEY-VALUE PAIRS**"
      ]
    },
    {
      "cell_type": "code",
      "metadata": {
        "colab": {
          "base_uri": "https://localhost:8080/"
        },
        "id": "Zt0BjUERIb5l",
        "outputId": "74ac21c0-d3ed-4deb-90e7-6cb4eda87b79"
      },
      "source": [
        "alien = {'color':'black','fav':'yellow','points':5}\n",
        "alien"
      ],
      "execution_count": null,
      "outputs": [
        {
          "output_type": "execute_result",
          "data": {
            "text/plain": [
              "{'color': 'black', 'fav': 'yellow', 'points': 5}"
            ]
          },
          "metadata": {
            "tags": []
          },
          "execution_count": 2
        }
      ]
    },
    {
      "cell_type": "markdown",
      "metadata": {
        "id": "3bxyYvu2I5df"
      },
      "source": [
        "**ACCESSING VALUES**\n",
        "\n",
        ">to access the value associated with individual key give name of the dictionnary and then the pleace the key in as set of square brackets. if the key you are asking for is not in the dictionary,, an error will occur.\n",
        "you can also use the get method, which returns none instead of an error if the key doesnot exist .\n",
        "\n"
      ]
    },
    {
      "cell_type": "code",
      "metadata": {
        "colab": {
          "base_uri": "https://localhost:8080/"
        },
        "id": "MxSEe47RJnBQ",
        "outputId": "e8e59701-2d06-419d-d312-8538fb93377c"
      },
      "source": [
        "#getting the value associated with a key\n",
        "alien = {'color':'green','points':5}\n",
        "alien['color']\n",
        "alien['points']"
      ],
      "execution_count": null,
      "outputs": [
        {
          "output_type": "execute_result",
          "data": {
            "text/plain": [
              "5"
            ]
          },
          "metadata": {
            "tags": []
          },
          "execution_count": 4
        }
      ]
    },
    {
      "cell_type": "code",
      "metadata": {
        "colab": {
          "base_uri": "https://localhost:8080/"
        },
        "id": "pSf9OeNxKSbM",
        "outputId": "0a2ecefc-890e-4dcb-f5e3-2e71f42de734"
      },
      "source": [
        "#getting the value with get()\n",
        "print(alien.get('color'))\n",
        "print(alien.get('points'))\n",
        "print(alien['color'])"
      ],
      "execution_count": null,
      "outputs": [
        {
          "output_type": "stream",
          "text": [
            "green\n",
            "5\n",
            "green\n"
          ],
          "name": "stdout"
        }
      ]
    },
    {
      "cell_type": "markdown",
      "metadata": {
        "id": "ye7rKncWLghX"
      },
      "source": [
        "**ADDING NEW KEY-VALUE PAIRS**\n",
        "\n",
        "> you can store as many key-value pairs as you want in a dictionary, until your computer runs out of memory. to add a new key-value pair to an existing dictionary give the name of the dictionary and the new key in sqaure brackets and set it equal to the new value.\n",
        "this also allows you to start with an empty dictionary and add key-value pairs as they become relevant.\n",
        "\n"
      ]
    },
    {
      "cell_type": "code",
      "metadata": {
        "colab": {
          "base_uri": "https://localhost:8080/"
        },
        "id": "-hj7rpVBMMSV",
        "outputId": "d1151f52-052a-4bf5-e88f-c8c7f1d2d005"
      },
      "source": [
        "alien['x'] = 0\n",
        "alien['y'] = 23\n",
        "alien['speed'] = 1.5\n",
        "print(alien)"
      ],
      "execution_count": null,
      "outputs": [
        {
          "output_type": "stream",
          "text": [
            "{'color': 'green', 'points': 5, 'x': 0, 'y': 23, 'speed': 1.5}\n"
          ],
          "name": "stdout"
        }
      ]
    },
    {
      "cell_type": "code",
      "metadata": {
        "colab": {
          "base_uri": "https://localhost:8080/"
        },
        "id": "Mz6k5uArMyUo",
        "outputId": "6e135242-4e16-4443-a16c-6fdfde2f2d6b"
      },
      "source": [
        "'''so dictionary does not allow duplicate value and matrix things whatever \n",
        "it is we use '' this and also it does not allow same key but it allows same value'''\n",
        "a = {}\n",
        "a['color'] = 'green'\n",
        "a['fam'] = 'naan'\n",
        "a['x'] = 34\n",
        "a['x'] = 45\n",
        "a['y'] = 34\n",
        "a['speed'] = 1.4\n",
        "print(a)"
      ],
      "execution_count": null,
      "outputs": [
        {
          "output_type": "stream",
          "text": [
            "{'color': 'green', 'fam': 'naan', 'x': 45, 'y': 34, 'speed': 1.4}\n"
          ],
          "name": "stdout"
        }
      ]
    },
    {
      "cell_type": "markdown",
      "metadata": {
        "id": "tuTCG_RJOSXb"
      },
      "source": [
        "**MODIFYING VALUES**\n",
        "\n",
        "> you can modify the value associated with any key in a dictionary. to do so give the name of the dictionary and enclose the key in square brackets, then provide the new value for that key.\n",
        "\n",
        "\n",
        "so everything it can be asscesing the value, adding the new value or modifying the value in dictioanry you just need \n",
        "dictionary_name['key']= 'value'\n",
        "#key-value pair\n",
        "\n"
      ]
    },
    {
      "cell_type": "code",
      "metadata": {
        "colab": {
          "base_uri": "https://localhost:8080/"
        },
        "id": "12mwNeu7PVPF",
        "outputId": "ba7851e9-c6ae-4bfd-a5bb-3250745ca988"
      },
      "source": [
        "#modifying values\n",
        "a\n",
        "a['color'] = 'yellow'\n",
        "a['speed'] = 4.5\n",
        "a"
      ],
      "execution_count": null,
      "outputs": [
        {
          "output_type": "execute_result",
          "data": {
            "text/plain": [
              "{'color': 'yellow', 'fam': 'naan', 'speed': 4.5, 'x': 45, 'y': 34}"
            ]
          },
          "metadata": {
            "tags": []
          },
          "execution_count": 25
        }
      ]
    },
    {
      "cell_type": "markdown",
      "metadata": {
        "id": "zYkYKImLPrmN"
      },
      "source": [
        "#REMOVING KEY-VALUE PAIRS\n",
        "\n",
        "> you can remove any key-value pair you want from a dictionary. to do so use the del keyword and the dictionary name, followed by the key in square brackets. this will delete the key and its associated value. \n",
        "\n"
      ]
    },
    {
      "cell_type": "code",
      "metadata": {
        "colab": {
          "base_uri": "https://localhost:8080/"
        },
        "id": "fUkvdm8oZnjN",
        "outputId": "6c6fc721-c0d8-48e9-f065-ec4120c4a424"
      },
      "source": [
        "a\n",
        "#del a['color']\n",
        "print(a)\n",
        "del a['x']\n",
        "print(a) "
      ],
      "execution_count": null,
      "outputs": [
        {
          "output_type": "stream",
          "text": [
            "{'fam': 'naan', 'x': 45, 'y': 34, 'speed': 4.5}\n",
            "{'fam': 'naan', 'y': 34, 'speed': 4.5}\n"
          ],
          "name": "stdout"
        }
      ]
    },
    {
      "cell_type": "code",
      "metadata": {
        "colab": {
          "base_uri": "https://localhost:8080/"
        },
        "id": "AOiO0W3VaITQ",
        "outputId": "d4fe5479-b8c6-4735-842a-eb92673753cf"
      },
      "source": [
        "a\n",
        "del a['fam']\n",
        "a\n"
      ],
      "execution_count": null,
      "outputs": [
        {
          "output_type": "execute_result",
          "data": {
            "text/plain": [
              "{'y': 34}"
            ]
          },
          "metadata": {
            "tags": []
          },
          "execution_count": 41
        }
      ]
    },
    {
      "cell_type": "code",
      "metadata": {
        "colab": {
          "base_uri": "https://localhost:8080/"
        },
        "id": "jUQ_7uDya1aJ",
        "outputId": "625b01b2-7785-4d8e-9753-f6118bed42c6"
      },
      "source": [
        "a['x'] = 45\n",
        "a['color'] = 'green'\n",
        "print(a)"
      ],
      "execution_count": null,
      "outputs": [
        {
          "output_type": "stream",
          "text": [
            "{'y': 34, 'x': 45, 'color': 'green'}\n"
          ],
          "name": "stdout"
        }
      ]
    },
    {
      "cell_type": "markdown",
      "metadata": {
        "id": "4sWIwMUda4ap"
      },
      "source": [
        "#LOOPING THROUGH A DICTIONARY\n",
        "\n",
        "YOU CAN LOOP THROUGH A DICTIONARY IN THREE WAYS:\n",
        "1 you can loop through all the key-value pairs\n",
        "2 all the keys\n",
        "3 all the values\n",
        "4 A dictionary only tracks the dictionary between keys and values.it does not track the order of items in the dictionary. if you want to process the information in order, you can sort the keys in your loop.\n",
        "\n"
      ]
    },
    {
      "cell_type": "code",
      "metadata": {
        "colab": {
          "base_uri": "https://localhost:8080/"
        },
        "id": "m8adDjBYcrxR",
        "outputId": "df1cb34d-421a-41cc-8aa2-663f410dcb62"
      },
      "source": [
        "#looping through all key-value pairs\n",
        "fav_languages = { 'jen': 'python', 'sarah': 'c', 'edward': 'ruby', 'phil': 'python'}\n",
        "print(fav_languages) \n",
        "for name, language in fav_languages.items():\n",
        "  print(name+ ':' +language)\n"
      ],
      "execution_count": null,
      "outputs": [
        {
          "output_type": "stream",
          "text": [
            "{'jen': 'python', 'sarah': 'c', 'edward': 'ruby', 'phil': 'python'}\n",
            "jen:python\n",
            "sarah:c\n",
            "edward:ruby\n",
            "phil:python\n"
          ],
          "name": "stdout"
        }
      ]
    },
    {
      "cell_type": "code",
      "metadata": {
        "colab": {
          "base_uri": "https://localhost:8080/"
        },
        "id": "t1i5PCSAes9q",
        "outputId": "62bee025-05dd-4b74-f3c7-8674cbd86ea2"
      },
      "source": [
        "fav_languages = { 'jen': 'python', 'sarah': 'c', 'edward': 'ruby', 'phil': 'python', } \n",
        "print(fav_languages)\n",
        "for name, language in fav_languages.items():\n",
        "  print(name+ ' : ' + language)"
      ],
      "execution_count": null,
      "outputs": [
        {
          "output_type": "stream",
          "text": [
            "{'jen': 'python', 'sarah': 'c', 'edward': 'ruby', 'phil': 'python'}\n",
            "jen : python\n",
            "sarah : c\n",
            "edward : ruby\n",
            "phil : python\n"
          ],
          "name": "stdout"
        }
      ]
    },
    {
      "cell_type": "code",
      "metadata": {
        "colab": {
          "base_uri": "https://localhost:8080/"
        },
        "id": "h3C7E6rcfIAD",
        "outputId": "ebf01f2a-c629-4d35-b6d8-9b96378ed77a"
      },
      "source": [
        "#looping through all the keys\n",
        "for name in fav_languages:\n",
        "  print(name)"
      ],
      "execution_count": null,
      "outputs": [
        {
          "output_type": "stream",
          "text": [
            "jen\n",
            "sarah\n",
            "edward\n",
            "phil\n"
          ],
          "name": "stdout"
        }
      ]
    },
    {
      "cell_type": "code",
      "metadata": {
        "colab": {
          "base_uri": "https://localhost:8080/"
        },
        "id": "RKW_rrYVfRn7",
        "outputId": "bf11e3af-d936-487a-ac1d-a638ed8da3fe"
      },
      "source": [
        "#looping thorugh al,the keys in order\n",
        "for name in sorted(fav_languages):\n",
        "  print(name)"
      ],
      "execution_count": null,
      "outputs": [
        {
          "output_type": "stream",
          "text": [
            "edward\n",
            "jen\n",
            "phil\n",
            "sarah\n"
          ],
          "name": "stdout"
        }
      ]
    },
    {
      "cell_type": "code",
      "metadata": {
        "colab": {
          "base_uri": "https://localhost:8080/"
        },
        "id": "GfsukdlDfm1z",
        "outputId": "d52398e5-2529-499a-c066-df26421b5756"
      },
      "source": [
        "#looping thorugh all the values\n",
        "for language in fav_languages.values():\n",
        "  print(language)"
      ],
      "execution_count": null,
      "outputs": [
        {
          "output_type": "stream",
          "text": [
            "python\n",
            "c\n",
            "ruby\n",
            "python\n"
          ],
          "name": "stdout"
        }
      ]
    },
    {
      "cell_type": "code",
      "metadata": {
        "colab": {
          "base_uri": "https://localhost:8080/"
        },
        "id": "8S6Po_h2f3hw",
        "outputId": "b7f4f595-8e95-47cc-8a3f-384eb3ba4184"
      },
      "source": [
        "#looping thorugh keys\n",
        "for name in fav_languages:\n",
        "  print(name)\n",
        "for name in sorted(fav_languages):\n",
        "  print(name)\n",
        "for language in fav_languages.values():\n",
        "  print(language)\n",
        "for name in sorted(fav_languages.keys()):\n",
        "  print(name)"
      ],
      "execution_count": null,
      "outputs": [
        {
          "output_type": "stream",
          "text": [
            "jen\n",
            "sarah\n",
            "edward\n",
            "phil\n",
            "edward\n",
            "jen\n",
            "phil\n",
            "sarah\n",
            "python\n",
            "c\n",
            "ruby\n",
            "python\n",
            "edward\n",
            "jen\n",
            "phil\n",
            "sarah\n"
          ],
          "name": "stdout"
        }
      ]
    },
    {
      "cell_type": "code",
      "metadata": {
        "colab": {
          "base_uri": "https://localhost:8080/"
        },
        "id": "_mKKxk_YgxDZ",
        "outputId": "ce228d69-d89f-47b6-b45f-f17d05ef9e24"
      },
      "source": [
        "#dictionary length\n",
        "print(len(fav_languages))\n",
        "print(type(fav_languages))\n",
        "a = len(fav_languages)\n",
        "a"
      ],
      "execution_count": null,
      "outputs": [
        {
          "output_type": "stream",
          "text": [
            "4\n",
            "<class 'dict'>\n"
          ],
          "name": "stdout"
        },
        {
          "output_type": "execute_result",
          "data": {
            "text/plain": [
              "4"
            ]
          },
          "metadata": {
            "tags": []
          },
          "execution_count": 68
        }
      ]
    },
    {
      "cell_type": "markdown",
      "metadata": {
        "id": "bw12FKx-hXV4"
      },
      "source": [
        "**NESTING - A LIST OF DICTIONARY**\n",
        "ITS SOMETIME USEFUL TO STORE A SET OF DICTIONARIES IN A LIST;\n",
        "THIS IS CALLED NESTING"
      ]
    },
    {
      "cell_type": "code",
      "metadata": {
        "colab": {
          "base_uri": "https://localhost:8080/"
        },
        "id": "cTGYOf3lmHtS",
        "outputId": "9eef2c38-323c-47dc-905f-261625fcd6fa"
      },
      "source": [
        "#start an empty list\n",
        "users = []\n",
        "#make a new_user, add them to the list\n",
        "new_user = {'last':'fermi','cole':'love','tom':'life'}\n",
        "new_user\n",
        "users.append(new_user)\n",
        "print(users)\n",
        "#make another new user, add them as well.\n",
        "another_user = { 'last': 'curie', 'cole': 'marie', 'tom': 'mcurie', }\n",
        "users.append(another_user)\n",
        "print(users)\n",
        "for user_dict in (users):\n",
        "  for k, v in user_dict.items():\n",
        "    print(k + ' : ' +v)\n",
        "  print(\"\\n\")\n",
        "  "
      ],
      "execution_count": null,
      "outputs": [
        {
          "output_type": "stream",
          "text": [
            "[{'last': 'fermi', 'cole': 'love', 'tom': 'life'}]\n",
            "[{'last': 'fermi', 'cole': 'love', 'tom': 'life'}, {'last': 'curie', 'cole': 'marie', 'tom': 'mcurie'}]\n",
            "last : fermi\n",
            "cole : love\n",
            "tom : life\n",
            "\n",
            "\n",
            "last : curie\n",
            "cole : marie\n",
            "tom : mcurie\n",
            "\n",
            "\n"
          ],
          "name": "stdout"
        }
      ]
    },
    {
      "cell_type": "code",
      "metadata": {
        "colab": {
          "base_uri": "https://localhost:8080/"
        },
        "id": "hxCarnb_qpk_",
        "outputId": "411dd970-2c06-49e5-83db-db6d80d43d6a"
      },
      "source": [
        "#you can also define a list of dictionaries directly, without using append\n",
        "users = [{'last':\"name\",\"love\":\"tom\",\"crush\":\"cole\"},{'student':'me',\"feminist\":'me',\"life\":'me'}]\n",
        "print(users)\n",
        "for name in users:\n",
        "  for k,v in name.items():\n",
        "    print(k+ ' : ' +v)\n",
        "  print(\"\\n\")"
      ],
      "execution_count": null,
      "outputs": [
        {
          "output_type": "stream",
          "text": [
            "[{'last': 'name', 'love': 'tom', 'crush': 'cole'}, {'student': 'me', 'feminist': 'me', 'life': 'me'}]\n",
            "last : name\n",
            "love : tom\n",
            "crush : cole\n",
            "\n",
            "\n",
            "student : me\n",
            "feminist : me\n",
            "life : me\n",
            "\n",
            "\n"
          ],
          "name": "stdout"
        }
      ]
    },
    {
      "cell_type": "markdown",
      "metadata": {
        "id": "eP5XBITPtwfi"
      },
      "source": [
        "#NESTING - LISTS IN A DICTIONARY\n",
        "storing a list inside a dictionary you to associate more than one value with each key"
      ]
    },
    {
      "cell_type": "code",
      "metadata": {
        "colab": {
          "base_uri": "https://localhost:8080/"
        },
        "id": "03ir-NAduswX",
        "outputId": "897874ac-7efc-4116-fdfe-5bc568d13785"
      },
      "source": [
        "fav_languages\n",
        "fav_languages={'edward':['ruby','python'],'jen':['python','go'],'phill':['python','css'],'sarah':['c']}\n",
        "for name, language in fav_languages.items():\n",
        "  print(name)\n",
        "  for lang in language:\n",
        "    print(language)"
      ],
      "execution_count": null,
      "outputs": [
        {
          "output_type": "stream",
          "text": [
            "edward\n",
            "['ruby', 'python']\n",
            "['ruby', 'python']\n",
            "jen\n",
            "['python', 'go']\n",
            "['python', 'go']\n",
            "phill\n",
            "['python', 'css']\n",
            "['python', 'css']\n",
            "sarah\n",
            "['c']\n"
          ],
          "name": "stdout"
        }
      ]
    },
    {
      "cell_type": "code",
      "metadata": {
        "colab": {
          "base_uri": "https://localhost:8080/"
        },
        "id": "sKTcKL0MwC9H",
        "outputId": "bb9dd303-c7c1-4f16-ebb7-729d133051ae"
      },
      "source": [
        "#Nesting a dictionary of dicnories\n",
        "''' you can store a dictionary inside another dictionary. in this in this case each vallue\n",
        "associated with a key is itself a dictionary.'''\n",
        "users = {'aeinstein':{'first':'albert','last':'location'}, 'mcurie':{'last':'maie','second':'toto'}}\n",
        "users\n",
        "for name,language in sorted(users.items()):\n",
        "  print(name)\n",
        "  for lang in sorted(language.keys()):\n",
        "    print(language)"
      ],
      "execution_count": null,
      "outputs": [
        {
          "output_type": "stream",
          "text": [
            "aeinstein\n",
            "{'first': 'albert', 'last': 'location'}\n",
            "{'first': 'albert', 'last': 'location'}\n",
            "mcurie\n",
            "{'last': 'maie', 'second': 'toto'}\n",
            "{'last': 'maie', 'second': 'toto'}\n"
          ],
          "name": "stdout"
        }
      ]
    },
    {
      "cell_type": "markdown",
      "metadata": {
        "id": "1H2cay6XrI5f"
      },
      "source": [
        "#LEVELS OF NESTING\n",
        "\n",
        "> Nesting is extremely useful in certain situation. However be aware of making your code overly complex. if your are nesting items much deeper than what you see here there are probably simpler ways of managing your data, such as using classes.\n",
        "\n"
      ]
    },
    {
      "cell_type": "code",
      "metadata": {
        "id": "i2VyDLmjCwcY"
      },
      "source": [
        "#preserving the order of keys and values\n",
        "fav_languages = OrderedDict()\n",
        "fav_languages[]"
      ],
      "execution_count": null,
      "outputs": []
    }
  ]
}