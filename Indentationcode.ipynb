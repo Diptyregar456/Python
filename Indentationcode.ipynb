{
  "nbformat": 4,
  "nbformat_minor": 0,
  "metadata": {
    "colab": {
      "name": "Indentationcode.ipynb",
      "provenance": [],
      "collapsed_sections": [],
      "authorship_tag": "ABX9TyOPOOW4vghC9bf/9RmErksw",
      "include_colab_link": true
    },
    "kernelspec": {
      "name": "python3",
      "display_name": "Python 3"
    },
    "language_info": {
      "name": "python"
    }
  },
  "cells": [
    {
      "cell_type": "markdown",
      "metadata": {
        "id": "view-in-github",
        "colab_type": "text"
      },
      "source": [
        "<a href=\"https://colab.research.google.com/github/Diptyregar456/Python/blob/main/Indentationcode.ipynb\" target=\"_parent\"><img src=\"https://colab.research.google.com/assets/colab-badge.svg\" alt=\"Open In Colab\"/></a>"
      ]
    },
    {
      "cell_type": "code",
      "metadata": {
        "colab": {
          "base_uri": "https://localhost:8080/"
        },
        "id": "rNHbdSVs_397",
        "outputId": "d9b65d29-b64f-405a-c34b-a0f4a4a4ac8c"
      },
      "source": [
        "#indentation = indentation is called when you give no. of blockes before the code called indentation. it is really important to give indentation in python.\n",
        "# if you give diffenrt number of space it will create an error. which will be called indentation error. we can use any nukber of indentation bt alteast we have \n",
        "# to use one it defines the block of code.\n",
        "#example\n",
        "print('  hello Dipty')  #whitespaces\n",
        "#  print('heloo') '''Indentationerror : unexpected indent\n",
        "\n",
        "if 5<<7:\n",
        "  print('5 is less then 7') # 1 indetation\n",
        "  print('5 is more the 6')\n",
        "  #else   '''invalid syntax indentation\n",
        "print('5 is more the 6')\n",
        "\n",
        "if 2<<4:\n",
        "  print('2 is less then 4')\n",
        "   #print('2 is less then 4') ''' unexpected indentation\n",
        "#if 5>2:\n",
        "#print(\"5 is >> 2\") #expected an indented block = IndentationError"
      ],
      "execution_count": null,
      "outputs": [
        {
          "output_type": "stream",
          "text": [
            "  hello Dipty\n",
            "5 is less then 7\n",
            "5 is more the 6\n",
            "5 is more the 6\n",
            "2 is less then 4\n"
          ],
          "name": "stdout"
        }
      ]
    }
  ]
}