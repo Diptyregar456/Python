{
  "nbformat": 4,
  "nbformat_minor": 0,
  "metadata": {
    "colab": {
      "name": "List.ipynb",
      "provenance": [],
      "authorship_tag": "ABX9TyM1uJ8URj/wzVjCmeC7Fnkd",
      "include_colab_link": true
    },
    "kernelspec": {
      "name": "python3",
      "display_name": "Python 3"
    },
    "language_info": {
      "name": "python"
    }
  },
  "cells": [
    {
      "cell_type": "markdown",
      "metadata": {
        "id": "view-in-github",
        "colab_type": "text"
      },
      "source": [
        "<a href=\"https://colab.research.google.com/github/Diptyregar456/Python/blob/main/List.ipynb\" target=\"_parent\"><img src=\"https://colab.research.google.com/assets/colab-badge.svg\" alt=\"Open In Colab\"/></a>"
      ]
    },
    {
      "cell_type": "markdown",
      "metadata": {
        "id": "pU2E2YeV6ZeM"
      },
      "source": [
        "**LIST\n",
        "\n",
        "```\n",
        "# list is most powerful and important feature of python.\n",
        "- list can  store  series of items at one place in a particular way.\n",
        "-- particular way means its oerdered way.\n",
        "-- []\n",
        "-- can store few items or million of items at one time.\n",
        "-- mutable--(can change  and modifiED)\n",
        "-- also canbe perfromes other operations like +,-,*,/ and other too.\n",
        "-- it allows duplicate values.\n",
        "-- use , to separate other  items or individual items from each other.\n",
        "-- always use plural form of list so it can makecode easier.\n",
        "-- enumerate is also a builtin ttype cn  be use with list.\n",
        "\n",
        "\n",
        "\n",
        "```\n",
        "\n",
        "**"
      ]
    },
    {
      "cell_type": "code",
      "source": [
        ""
      ],
      "metadata": {
        "id": "OlVzZ0MNXzlF"
      },
      "execution_count": null,
      "outputs": []
    },
    {
      "cell_type": "markdown",
      "metadata": {
        "id": "HRHQvR1Y8C38"
      },
      "source": [
        "**DEFINING A LIST\n",
        "\n",
        "```\n",
        "#-- use[]\n",
        "  -- commas(,)\n",
        "  -- use plural form.\n",
        "```\n",
        "\n",
        "**"
      ]
    },
    {
      "cell_type": "markdown",
      "metadata": {
        "id": "WWJ-WWnNAcfM"
      },
      "source": [
        "**MAKING A LIST**"
      ]
    },
    {
      "cell_type": "code",
      "metadata": {
        "colab": {
          "base_uri": "https://localhost:8080/"
        },
        "id": "77_TsuOcAiYj",
        "outputId": "ccecb7f6-e864-4379-cb59-9244d1faf14d"
      },
      "source": [
        "users = []   #empty list\n",
        "users"
      ],
      "execution_count": null,
      "outputs": [
        {
          "output_type": "execute_result",
          "data": {
            "text/plain": [
              "[]"
            ]
          },
          "metadata": {},
          "execution_count": 1
        }
      ]
    },
    {
      "cell_type": "code",
      "metadata": {
        "colab": {
          "base_uri": "https://localhost:8080/"
        },
        "id": "iCHxcFgWA_6p",
        "outputId": "bdc07917-aa12-4131-ac8f-f88691eff636"
      },
      "source": [
        "users1 = ['mia','tia','lili','lolo']  #string list (charcter items)\n",
        "users1"
      ],
      "execution_count": null,
      "outputs": [
        {
          "output_type": "execute_result",
          "data": {
            "text/plain": [
              "['mia', 'tia', 'lili', 'lolo']"
            ]
          },
          "metadata": {},
          "execution_count": 3
        }
      ]
    },
    {
      "cell_type": "code",
      "metadata": {
        "colab": {
          "base_uri": "https://localhost:8080/"
        },
        "id": "ftjXdAx1BOTe",
        "outputId": "ac354eee-5cd2-47f2-aaa3-152316572e59"
      },
      "source": [
        "users3 = [1,2,3,4,5.0,7.1] #numbers list\n",
        "users3"
      ],
      "execution_count": null,
      "outputs": [
        {
          "output_type": "execute_result",
          "data": {
            "text/plain": [
              "[1, 2, 3, 4, 5.0, 7.1]"
            ]
          },
          "metadata": {},
          "execution_count": 4
        }
      ]
    },
    {
      "cell_type": "code",
      "metadata": {
        "colab": {
          "base_uri": "https://localhost:8080/"
        },
        "id": "DC9e0hi4BfcH",
        "outputId": "414dba2a-efa7-4bf2-861c-7bdaca79e4c3"
      },
      "source": [
        "users4 = [1,2,3,4.0,7.1,'1','lili','a','Diipty regar']\n",
        "users4"
      ],
      "execution_count": null,
      "outputs": [
        {
          "output_type": "execute_result",
          "data": {
            "text/plain": [
              "[1, 2, 3, 4.0, 7.1, '1', 'lili', 'a', 'Diipty regar']"
            ]
          },
          "metadata": {},
          "execution_count": 5
        }
      ]
    },
    {
      "cell_type": "markdown",
      "metadata": {
        "id": "wOk4eCk0CZGS"
      },
      "source": [
        "**ACCESSING THE ELEMENTS\n",
        "\n",
        "```\n",
        "# INDIVIDUAL ELEMENT IN LIST CAN BE ACCESSABLE ACCORDING TO their position, called  the indexing.\n",
        "```\n",
        "\n",
        "**"
      ]
    },
    {
      "cell_type": "code",
      "metadata": {
        "colab": {
          "base_uri": "https://localhost:8080/"
        },
        "id": "noUkFaFHC46I",
        "outputId": "911d820d-593b-494e-b0bc-293474a5fe35"
      },
      "source": [
        "import random\n",
        "print(users1)\n",
        "print(users4)\n",
        "print(users3)\n",
        "users1.append('tintin')\n",
        "users1.append('chinchin')\n",
        "print(users1)"
      ],
      "execution_count": null,
      "outputs": [
        {
          "output_type": "stream",
          "name": "stdout",
          "text": [
            "['mia', 'tia', 'lili', 'lolo', 'tintin', 'chinchin', 'tintin', 'chinchin', 'tintin', 'chinchin']\n",
            "[1, 2, 3, 4.0, 7.1, '1', 'lili', 'a', 'Diipty regar']\n",
            "[1, 2, 3, 4, 5.0, 7.1]\n",
            "['mia', 'tia', 'lili', 'lolo', 'tintin', 'chinchin', 'tintin', 'chinchin', 'tintin', 'chinchin', 'tintin', 'chinchin']\n"
          ]
        }
      ]
    },
    {
      "cell_type": "code",
      "metadata": {
        "colab": {
          "base_uri": "https://localhost:8080/",
          "height": 340
        },
        "id": "NTfE_dhOESeM",
        "outputId": "3e1bf029-9721-447f-d6a6-52fb05221067"
      },
      "source": [
        "import random\n",
        "users1 = [1,2,3,4,5]\n",
        "users2 = ['l','lili','chinchin','titi','lili']\n",
        "users3 = ['a','b','c','d','e']\n",
        "#random.choices(users2,users3)"
      ],
      "execution_count": null,
      "outputs": [
        {
          "output_type": "error",
          "ename": "TypeError",
          "evalue": "ignored",
          "traceback": [
            "\u001b[0;31m---------------------------------------------------------------------------\u001b[0m",
            "\u001b[0;31mTypeError\u001b[0m                                 Traceback (most recent call last)",
            "\u001b[0;32m<ipython-input-1-f2701ffb4213>\u001b[0m in \u001b[0;36m<module>\u001b[0;34m()\u001b[0m\n\u001b[1;32m      3\u001b[0m \u001b[0musers2\u001b[0m \u001b[0;34m=\u001b[0m \u001b[0;34m[\u001b[0m\u001b[0;34m'l'\u001b[0m\u001b[0;34m,\u001b[0m\u001b[0;34m'lili'\u001b[0m\u001b[0;34m,\u001b[0m\u001b[0;34m'chinchin'\u001b[0m\u001b[0;34m,\u001b[0m\u001b[0;34m'titi'\u001b[0m\u001b[0;34m,\u001b[0m\u001b[0;34m'lili'\u001b[0m\u001b[0;34m]\u001b[0m\u001b[0;34m\u001b[0m\u001b[0;34m\u001b[0m\u001b[0m\n\u001b[1;32m      4\u001b[0m \u001b[0musers3\u001b[0m \u001b[0;34m=\u001b[0m \u001b[0;34m[\u001b[0m\u001b[0;34m'a'\u001b[0m\u001b[0;34m,\u001b[0m\u001b[0;34m'b'\u001b[0m\u001b[0;34m,\u001b[0m\u001b[0;34m'c'\u001b[0m\u001b[0;34m,\u001b[0m\u001b[0;34m'd'\u001b[0m\u001b[0;34m,\u001b[0m\u001b[0;34m'e'\u001b[0m\u001b[0;34m]\u001b[0m\u001b[0;34m\u001b[0m\u001b[0;34m\u001b[0m\u001b[0m\n\u001b[0;32m----> 5\u001b[0;31m \u001b[0mrandom\u001b[0m\u001b[0;34m.\u001b[0m\u001b[0mchoices\u001b[0m\u001b[0;34m(\u001b[0m\u001b[0musers2\u001b[0m\u001b[0;34m,\u001b[0m\u001b[0musers3\u001b[0m\u001b[0;34m)\u001b[0m\u001b[0;34m\u001b[0m\u001b[0;34m\u001b[0m\u001b[0m\n\u001b[0m",
            "\u001b[0;32m/usr/lib/python3.7/random.py\u001b[0m in \u001b[0;36mchoices\u001b[0;34m(self, population, weights, cum_weights, k)\u001b[0m\n\u001b[1;32m    364\u001b[0m         \u001b[0mhi\u001b[0m \u001b[0;34m=\u001b[0m \u001b[0mlen\u001b[0m\u001b[0;34m(\u001b[0m\u001b[0mcum_weights\u001b[0m\u001b[0;34m)\u001b[0m \u001b[0;34m-\u001b[0m \u001b[0;36m1\u001b[0m\u001b[0;34m\u001b[0m\u001b[0;34m\u001b[0m\u001b[0m\n\u001b[1;32m    365\u001b[0m         return [population[bisect(cum_weights, random() * total, 0, hi)]\n\u001b[0;32m--> 366\u001b[0;31m                 for i in range(k)]\n\u001b[0m\u001b[1;32m    367\u001b[0m \u001b[0;34m\u001b[0m\u001b[0m\n\u001b[1;32m    368\u001b[0m \u001b[0;31m## -------------------- real-valued distributions  -------------------\u001b[0m\u001b[0;34m\u001b[0m\u001b[0;34m\u001b[0m\u001b[0;34m\u001b[0m\u001b[0m\n",
            "\u001b[0;32m/usr/lib/python3.7/random.py\u001b[0m in \u001b[0;36m<listcomp>\u001b[0;34m(.0)\u001b[0m\n\u001b[1;32m    364\u001b[0m         \u001b[0mhi\u001b[0m \u001b[0;34m=\u001b[0m \u001b[0mlen\u001b[0m\u001b[0;34m(\u001b[0m\u001b[0mcum_weights\u001b[0m\u001b[0;34m)\u001b[0m \u001b[0;34m-\u001b[0m \u001b[0;36m1\u001b[0m\u001b[0;34m\u001b[0m\u001b[0;34m\u001b[0m\u001b[0m\n\u001b[1;32m    365\u001b[0m         return [population[bisect(cum_weights, random() * total, 0, hi)]\n\u001b[0;32m--> 366\u001b[0;31m                 for i in range(k)]\n\u001b[0m\u001b[1;32m    367\u001b[0m \u001b[0;34m\u001b[0m\u001b[0m\n\u001b[1;32m    368\u001b[0m \u001b[0;31m## -------------------- real-valued distributions  -------------------\u001b[0m\u001b[0;34m\u001b[0m\u001b[0;34m\u001b[0m\u001b[0;34m\u001b[0m\u001b[0m\n",
            "\u001b[0;31mTypeError\u001b[0m: can't multiply sequence by non-int of type 'float'"
          ]
        }
      ]
    },
    {
      "cell_type": "markdown",
      "metadata": {
        "id": "4-xWYhJhRuf_"
      },
      "source": [
        "** for choices population and type  of data needs to be same\n",
        "\n",
        "```\n",
        "-- list,  list(poplation, typeofdata)\n",
        "-- tuple, list (population, type of data)\n",
        "```\n",
        "\n",
        "**"
      ]
    },
    {
      "cell_type": "code",
      "metadata": {
        "colab": {
          "base_uri": "https://localhost:8080/"
        },
        "id": "f03eZ389SJUu",
        "outputId": "da1cdf04-fdfb-4ad5-fb32-8c3bd183f0dc"
      },
      "source": [
        "import random\n",
        "users = [1,2,3,4,5]\n",
        "users1 = [7,8,9,10,11]\n",
        "users2 = [11,12,13,13,14]\n",
        "random.choices(users, users1)"
      ],
      "execution_count": null,
      "outputs": [
        {
          "output_type": "execute_result",
          "data": {
            "text/plain": [
              "[2]"
            ]
          },
          "metadata": {},
          "execution_count": 32
        }
      ]
    },
    {
      "cell_type": "code",
      "metadata": {
        "colab": {
          "base_uri": "https://localhost:8080/"
        },
        "id": "C4FnJ69DSgGP",
        "outputId": "15a547e0-1188-4e68-b8c0-9428f287ebb9"
      },
      "source": [
        "random.random() #(0.0 o 0.1]"
      ],
      "execution_count": null,
      "outputs": [
        {
          "output_type": "execute_result",
          "data": {
            "text/plain": [
              "0.4590705363850257"
            ]
          },
          "metadata": {},
          "execution_count": 24
        }
      ]
    },
    {
      "cell_type": "code",
      "metadata": {
        "colab": {
          "base_uri": "https://localhost:8080/"
        },
        "id": "ZHn2v6_USqj0",
        "outputId": "d6cc0aab-da03-4ca2-d0bc-a6e99a6d880b"
      },
      "source": [
        "random.choice(users1)"
      ],
      "execution_count": null,
      "outputs": [
        {
          "output_type": "execute_result",
          "data": {
            "text/plain": [
              "8"
            ]
          },
          "metadata": {},
          "execution_count": 26
        }
      ]
    },
    {
      "cell_type": "code",
      "metadata": {
        "colab": {
          "base_uri": "https://localhost:8080/",
          "height": 35
        },
        "id": "s0vzl9asS22B",
        "outputId": "f5310aa5-eb33-4b80-ebc8-36ef24d706b1"
      },
      "source": [
        "import random\n",
        "li = ['a','b','c']\n",
        "l2 = ['e','f','g']\n",
        "l3 = ['h','lili','tili']\n",
        "random.choice(li)"
      ],
      "execution_count": null,
      "outputs": [
        {
          "output_type": "execute_result",
          "data": {
            "application/vnd.google.colaboratory.intrinsic+json": {
              "type": "string"
            },
            "text/plain": [
              "'a'"
            ]
          },
          "metadata": {},
          "execution_count": 36
        }
      ]
    },
    {
      "cell_type": "markdown",
      "metadata": {
        "id": "m2aZg7KleOm9"
      },
      "source": [
        "**ACCESSING INDIVIDUAL ELEMENTS**\n",
        "\n",
        "```\n",
        "# BY INDEXING (POSITIVE AND NEGATIVE)\n",
        "```\n",
        "\n"
      ]
    },
    {
      "cell_type": "code",
      "metadata": {
        "colab": {
          "base_uri": "https://localhost:8080/"
        },
        "id": "nvurYN0fecFb",
        "outputId": "61069683-ae08-4c15-d3a8-41b25375b2d3"
      },
      "source": [
        "users = ['lili','mia','tia','lolo','momo','toto']\n",
        "first_user = users[0]\n",
        "second_user = users[1]\n",
        "third_user =users[2]\n",
        "last_user = users[-1]\n",
        "second_last = users[-2]\n",
        "print(first_user)\n",
        "print(second_user)\n",
        "print(third_user)\n",
        "print(last_user)\n",
        "print(second_user)\n",
        "print(users[3])\n",
        "print(users[-3])"
      ],
      "execution_count": null,
      "outputs": [
        {
          "output_type": "stream",
          "name": "stdout",
          "text": [
            "lili\n",
            "mia\n",
            "tia\n",
            "toto\n",
            "mia\n",
            "lolo\n",
            "lolo\n"
          ]
        }
      ]
    },
    {
      "cell_type": "markdown",
      "metadata": {
        "id": "qBEDecdOfXB3"
      },
      "source": [
        "**modifying individual items\n",
        "by their position number  orindex number"
      ]
    },
    {
      "cell_type": "code",
      "metadata": {
        "colab": {
          "base_uri": "https://localhost:8080/"
        },
        "id": "lFgDg5pbgW4M",
        "outputId": "980b98e8-924a-4532-ab20-8198b594293f"
      },
      "source": [
        "users = ['lili','mia','tia','lolo','momo','toto']\n",
        "print(users)\n",
        "users[0]= 'ven'\n",
        "users[-3]= 'tintin'\n",
        "print(users)"
      ],
      "execution_count": null,
      "outputs": [
        {
          "output_type": "stream",
          "name": "stdout",
          "text": [
            "['lili', 'mia', 'tia', 'lolo', 'momo', 'toto']\n",
            "['ven', 'mia', 'tia', 'tintin', 'momo', 'toto']\n"
          ]
        }
      ]
    },
    {
      "cell_type": "markdown",
      "metadata": {
        "id": "dlYOfGNSs4Bd"
      },
      "source": [
        "**Range\n",
        "\n",
        "```\n",
        "by default it starts with 0 and one less then you passed it in range\n",
        "```\n",
        "\n",
        "**"
      ]
    },
    {
      "cell_type": "code",
      "metadata": {
        "colab": {
          "base_uri": "https://localhost:8080/"
        },
        "id": "4ZgkImLNtS0_",
        "outputId": "003dd5ba-c0d7-48ed-ff8b-7d5be76cbdc3"
      },
      "source": [
        "#print numbers 26\n",
        "for numbers in range(27):\n",
        "  print(numbers)"
      ],
      "execution_count": null,
      "outputs": [
        {
          "output_type": "stream",
          "name": "stdout",
          "text": [
            "0\n",
            "1\n",
            "2\n",
            "3\n",
            "4\n",
            "5\n",
            "6\n",
            "7\n",
            "8\n",
            "9\n",
            "10\n",
            "11\n",
            "12\n",
            "13\n",
            "14\n",
            "15\n",
            "16\n",
            "17\n",
            "18\n",
            "19\n",
            "20\n",
            "21\n",
            "22\n",
            "23\n",
            "24\n",
            "25\n",
            "26\n"
          ]
        }
      ]
    },
    {
      "cell_type": "code",
      "metadata": {
        "colab": {
          "base_uri": "https://localhost:8080/"
        },
        "id": "T2vbEQGptiIg",
        "outputId": "dd33b987-5a83-49d5-fbb3-114aeb6fc72a"
      },
      "source": [
        "import random\n",
        "#for numbers in range(23,28):\n",
        "#  print(numbers)\n",
        "random.randrange(23,28) #28 would not print\n",
        "random.randint(23,28) #28 will print too.\n",
        "numbers = list(range(1,12))# it will print a list of range from 1 to 11\n",
        "print(numbers)"
      ],
      "execution_count": null,
      "outputs": [
        {
          "output_type": "stream",
          "name": "stdout",
          "text": [
            "[1, 2, 3, 4, 5, 6, 7, 8, 9, 10, 11]\n"
          ]
        }
      ]
    },
    {
      "cell_type": "code",
      "metadata": {
        "colab": {
          "base_uri": "https://localhost:8080/"
        },
        "id": "7K4NLQaLvEyp",
        "outputId": "3c89f463-f7bf-4b36-b30d-661142901091"
      },
      "source": [
        "#li = list(range('a','d'))  str obj. cant be interpreted as integer\n",
        "#print(l1)\n",
        "#for n in range(2.3): range function wors only integer. and random() it works for float. \n",
        "# print(n)\n",
        "import random\n",
        "n = [0.0,0.2,0.3,0.4,0.6,0.7]\n",
        "print(n)\n",
        "for numbers in n:\n",
        "  print(numbers)\n",
        "random.choice(n)"
      ],
      "execution_count": null,
      "outputs": [
        {
          "output_type": "stream",
          "name": "stdout",
          "text": [
            "[0.0, 0.2, 0.3, 0.4, 0.6, 0.7]\n",
            "0.0\n",
            "0.2\n",
            "0.3\n",
            "0.4\n",
            "0.6\n",
            "0.7\n"
          ]
        },
        {
          "output_type": "execute_result",
          "data": {
            "text/plain": [
              "0.4"
            ]
          },
          "metadata": {},
          "execution_count": 35
        }
      ]
    },
    {
      "cell_type": "markdown",
      "metadata": {
        "id": "WeNjrNsR0jwq"
      },
      "source": [
        "**Simple statistics\n",
        "\n",
        "```\n",
        "#find the miminum value in the list\n",
        "```\n",
        "\n",
        "**"
      ]
    },
    {
      "cell_type": "code",
      "metadata": {
        "colab": {
          "base_uri": "https://localhost:8080/"
        },
        "id": "Itd3xffZ0ykd",
        "outputId": "2dc197f6-5634-4b56-8765-b7fbc55a4c8e"
      },
      "source": [
        "n = [2,3,6,0.1,0.001,00.4,2.6,7.2,-0.0000001]\n",
        "print(n)\n",
        "print(min(n))\n",
        "print(max(n))\n",
        "print(sum(n))"
      ],
      "execution_count": null,
      "outputs": [
        {
          "output_type": "stream",
          "name": "stdout",
          "text": [
            "[2, 3, 6, 0.1, 0.001, 0.4, 2.6, 7.2, -1e-07]\n",
            "-1e-07\n",
            "7.2\n",
            "21.300999899999997\n"
          ]
        }
      ]
    }
  ]
}