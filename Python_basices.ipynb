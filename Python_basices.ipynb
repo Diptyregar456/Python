{
  "cells": [
    {
      "cell_type": "markdown",
      "metadata": {
        "id": "view-in-github",
        "colab_type": "text"
      },
      "source": [
        "<a href=\"https://colab.research.google.com/github/Diptyregar456/Python/blob/main/Python_basices.ipynb\" target=\"_parent\"><img src=\"https://colab.research.google.com/assets/colab-badge.svg\" alt=\"Open In Colab\"/></a>"
      ]
    },
    {
      "cell_type": "markdown",
      "metadata": {
        "id": "OcOoSFNu_Yp_"
      },
      "source": [
        "**String**\n",
        "\n",
        "```\n",
        "# String is a series of  charactors or data stored as text.\n",
        "```\n",
        "\n"
      ]
    },
    {
      "cell_type": "code",
      "execution_count": null,
      "metadata": {
        "colab": {
          "base_uri": "https://localhost:8080/"
        },
        "id": "dkfY-VHq_pUP",
        "outputId": "fab44bb2-898a-4a1a-b247-721531958c8e"
      },
      "outputs": [
        {
          "name": "stdout",
          "output_type": "stream",
          "text": [
            "Hello\n"
          ]
        }
      ],
      "source": [
        "my_string = \"Hello\"\n",
        "print(my_string)"
      ]
    },
    {
      "cell_type": "markdown",
      "metadata": {
        "id": "RpD_34N2_4IG"
      },
      "source": [
        "**String Operations**"
      ]
    },
    {
      "cell_type": "markdown",
      "metadata": {
        "id": "hDD1M-xQ_-ho"
      },
      "source": [
        "**Return String with all uppercase**"
      ]
    },
    {
      "cell_type": "code",
      "execution_count": null,
      "metadata": {
        "colab": {
          "base_uri": "https://localhost:8080/",
          "height": 35
        },
        "id": "Hi3FdWq8AFd0",
        "outputId": "6d4fc47f-7a4f-482f-87e9-d174a206499a"
      },
      "outputs": [
        {
          "data": {
            "application/vnd.google.colaboratory.intrinsic+json": {
              "type": "string"
            },
            "text/plain": [
              "'HELLO'"
            ]
          },
          "execution_count": 3,
          "metadata": {},
          "output_type": "execute_result"
        }
      ],
      "source": [
        "my_string.upper()"
      ]
    },
    {
      "cell_type": "markdown",
      "metadata": {
        "id": "KA_t1YA3AWnJ"
      },
      "source": [
        "**Return String with small or lower case**"
      ]
    },
    {
      "cell_type": "code",
      "execution_count": null,
      "metadata": {
        "colab": {
          "base_uri": "https://localhost:8080/",
          "height": 35
        },
        "id": "wFCvwNPJAeVT",
        "outputId": "8c74ed4c-db63-4d18-9659-0b41d035b76c"
      },
      "outputs": [
        {
          "data": {
            "application/vnd.google.colaboratory.intrinsic+json": {
              "type": "string"
            },
            "text/plain": [
              "'hello'"
            ]
          },
          "execution_count": 4,
          "metadata": {},
          "output_type": "execute_result"
        }
      ],
      "source": [
        "my_string.lower()"
      ]
    },
    {
      "cell_type": "markdown",
      "metadata": {
        "id": "fYqGARsPAjuj"
      },
      "source": [
        "**Return the length of a String**"
      ]
    },
    {
      "cell_type": "code",
      "execution_count": null,
      "metadata": {
        "colab": {
          "base_uri": "https://localhost:8080/"
        },
        "id": "ENx56JstA1J0",
        "outputId": "5eeb7f6e-73da-4774-e74d-5d9a5c5cb3e2"
      },
      "outputs": [
        {
          "data": {
            "text/plain": [
              "5"
            ]
          },
          "execution_count": 5,
          "metadata": {},
          "output_type": "execute_result"
        }
      ],
      "source": [
        "len(my_string) #len is math function"
      ]
    },
    {
      "cell_type": "markdown",
      "metadata": {
        "id": "oQzp5uFGBAss"
      },
      "source": [
        "**Return the index of the first instance of the string inside the subject string otherwise -1**"
      ]
    },
    {
      "cell_type": "code",
      "execution_count": null,
      "metadata": {
        "colab": {
          "base_uri": "https://localhost:8080/"
        },
        "id": "xmTHqzzfBXvz",
        "outputId": "d00f54d1-3c21-4673-9850-eeefbbc5d8ec"
      },
      "outputs": [
        {
          "data": {
            "text/plain": [
              "2"
            ]
          },
          "execution_count": 6,
          "metadata": {},
          "output_type": "execute_result"
        }
      ],
      "source": [
        "my_string.find('l')"
      ]
    },
    {
      "cell_type": "markdown",
      "metadata": {
        "id": "xzJ7G6pQBdbM"
      },
      "source": [
        "**Replaces any instance of the first string with the second in my_string**"
      ]
    },
    {
      "cell_type": "code",
      "execution_count": null,
      "metadata": {
        "colab": {
          "base_uri": "https://localhost:8080/",
          "height": 35
        },
        "id": "Tvrfq8zEBqmF",
        "outputId": "145fe3df-dc21-4e79-e763-7067953dc5e8"
      },
      "outputs": [
        {
          "data": {
            "application/vnd.google.colaboratory.intrinsic+json": {
              "type": "string"
            },
            "text/plain": [
              "'cello'"
            ]
          },
          "execution_count": 8,
          "metadata": {},
          "output_type": "execute_result"
        }
      ],
      "source": [
        "my_string.replace('H','c')"
      ]
    },
    {
      "cell_type": "markdown",
      "metadata": {
        "id": "G9JWH0iPCHTI"
      },
      "source": [
        "**Integer** - A whole number"
      ]
    },
    {
      "cell_type": "code",
      "execution_count": null,
      "metadata": {
        "id": "qTuShvRuCRFs"
      },
      "outputs": [],
      "source": [
        "my_integer = 12331"
      ]
    },
    {
      "cell_type": "markdown",
      "metadata": {
        "id": "ObTJP5caFcAz"
      },
      "source": [
        "**Float** - A decimal number"
      ]
    },
    {
      "cell_type": "code",
      "execution_count": null,
      "metadata": {
        "id": "xyv_XaqQFjdO"
      },
      "outputs": [],
      "source": [
        "my_decimal = 3.14"
      ]
    },
    {
      "cell_type": "markdown",
      "metadata": {
        "id": "kSQeHN5wFoOD"
      },
      "source": [
        "**Boolean** - Discrete value true or false"
      ]
    },
    {
      "cell_type": "code",
      "execution_count": null,
      "metadata": {
        "id": "g_QnY6DWFvov"
      },
      "outputs": [],
      "source": [
        "a = True #1\n",
        "b = False #0"
      ]
    },
    {
      "cell_type": "markdown",
      "metadata": {
        "id": "HN84DELBF2xN"
      },
      "source": [
        "**Dictionary** - Its changable connection of key-value pairs"
      ]
    },
    {
      "cell_type": "code",
      "execution_count": null,
      "metadata": {
        "colab": {
          "base_uri": "https://localhost:8080/"
        },
        "id": "jxTOynUrGCOV",
        "outputId": "6d414900-a6a3-4836-b43e-016b285bf7a2"
      },
      "outputs": [
        {
          "name": "stdout",
          "output_type": "stream",
          "text": [
            "{'banana': 1, 12: 'laptop', (0, 0): 'center'}\n"
          ]
        }
      ],
      "source": [
        "my_dictionary = {'banana':1, 12:'laptop',(0,0): \"center\"}\n",
        "print(my_dictionary)"
      ]
    },
    {
      "cell_type": "markdown",
      "metadata": {
        "id": "SRa8RQ5IGb2a"
      },
      "source": [
        "**Dictionary's Operation**  - Its mutable or changeable collection of key-value pair"
      ]
    },
    {
      "cell_type": "markdown",
      "metadata": {
        "id": "e28PsBtHHmXi"
      },
      "source": [
        "**Access value using key**"
      ]
    },
    {
      "cell_type": "code",
      "execution_count": null,
      "metadata": {
        "colab": {
          "base_uri": "https://localhost:8080/"
        },
        "id": "lwUDpp5IHsLu",
        "outputId": "bab47a51-88a5-4ec1-8552-f7701a9f1d0e"
      },
      "outputs": [
        {
          "data": {
            "text/plain": [
              "1"
            ]
          },
          "execution_count": 5,
          "metadata": {},
          "output_type": "execute_result"
        }
      ],
      "source": [
        "#my_dictionary[1] keyerror : 1\n",
        "my_dictionary['banana']"
      ]
    },
    {
      "cell_type": "markdown",
      "metadata": {
        "id": "Q8X119lhIASg"
      },
      "source": [
        "**Get all keys in a dictionary as a list**"
      ]
    },
    {
      "cell_type": "code",
      "execution_count": null,
      "metadata": {
        "colab": {
          "base_uri": "https://localhost:8080/"
        },
        "id": "Epx0TuMGIL7L",
        "outputId": "a14d049b-dcac-4e6e-951f-73a9f6c67e41"
      },
      "outputs": [
        {
          "data": {
            "text/plain": [
              "dict_keys(['banana', 12, (0, 0)])"
            ]
          },
          "execution_count": 16,
          "metadata": {},
          "output_type": "execute_result"
        }
      ],
      "source": [
        "my_dictionary.keys()"
      ]
    },
    {
      "cell_type": "markdown",
      "metadata": {
        "id": "h_XGS-0uIR1k"
      },
      "source": [
        "**Get all values in a dictionary as a list**"
      ]
    },
    {
      "cell_type": "code",
      "execution_count": null,
      "metadata": {
        "colab": {
          "base_uri": "https://localhost:8080/"
        },
        "id": "6r6GXNE4Ia08",
        "outputId": "efd8016f-620a-4682-c920-2ec046eb3cc0"
      },
      "outputs": [
        {
          "data": {
            "text/plain": [
              "dict_values([1, 'laptop', 'center'])"
            ]
          },
          "execution_count": 17,
          "metadata": {},
          "output_type": "execute_result"
        }
      ],
      "source": [
        "my_dictionary.values()"
      ]
    },
    {
      "cell_type": "markdown",
      "metadata": {
        "id": "k23vlgg89lxb"
      },
      "source": [
        "**Tuple** -- Unchangeable collection of objects"
      ]
    },
    {
      "cell_type": "code",
      "execution_count": null,
      "metadata": {
        "colab": {
          "base_uri": "https://localhost:8080/"
        },
        "id": "c_Exzzum91F2",
        "outputId": "dd188a19-a1af-49d6-ed76-e533b084acb3"
      },
      "outputs": [
        {
          "name": "stdout",
          "output_type": "stream",
          "text": [
            "(1, 3.12, False, 'hi')\n"
          ]
        }
      ],
      "source": [
        "tuple = (1,3.12,False,'hi')\n",
        "print(tuple)"
      ]
    },
    {
      "cell_type": "markdown",
      "metadata": {
        "id": "aPgxSY_4BMWz"
      },
      "source": [
        "**List** :-- Changeable Collection of objects "
      ]
    },
    {
      "cell_type": "code",
      "execution_count": null,
      "metadata": {
        "colab": {
          "base_uri": "https://localhost:8080/"
        },
        "id": "_eLtsYHlCGiC",
        "outputId": "d34bf0cc-8e21-458e-b2c0-4778d459d74f"
      },
      "outputs": [
        {
          "data": {
            "text/plain": [
              "[1, 3.12, False, True, 'hi']"
            ]
          },
          "execution_count": 2,
          "metadata": {},
          "output_type": "execute_result"
        }
      ],
      "source": [
        "my_collection = [1,3.12,False, True, 'hi']\n",
        "my_collection"
      ]
    },
    {
      "cell_type": "markdown",
      "metadata": {
        "id": "lUZBIV_mC_i_"
      },
      "source": [
        "**List Operation** :-- "
      ]
    },
    {
      "cell_type": "markdown",
      "metadata": {
        "id": "AD8ojnUaDFn3"
      },
      "source": [
        "**Returns the length of a list**"
      ]
    },
    {
      "cell_type": "code",
      "execution_count": null,
      "metadata": {
        "colab": {
          "base_uri": "https://localhost:8080/"
        },
        "id": "mXixTuvADMhA",
        "outputId": "08faa41f-6b4d-42e5-b277-bfe47348e485"
      },
      "outputs": [
        {
          "data": {
            "text/plain": [
              "5"
            ]
          },
          "execution_count": 3,
          "metadata": {},
          "output_type": "execute_result"
        }
      ],
      "source": [
        "len(my_collection)"
      ]
    },
    {
      "cell_type": "markdown",
      "metadata": {
        "id": "9uqh2Vk9DRsY"
      },
      "source": [
        "**Add multiple items to a list**"
      ]
    },
    {
      "cell_type": "code",
      "execution_count": null,
      "metadata": {
        "colab": {
          "base_uri": "https://localhost:8080/"
        },
        "id": "RY7kdzNHDWVu",
        "outputId": "49708df1-0b66-40a1-ca63-4cb8fd87084b"
      },
      "outputs": [
        {
          "name": "stdout",
          "output_type": "stream",
          "text": [
            "[1, 3.12, False, True, 'hi', 'hi', 'Dipty Regar', 'More', 'Items']\n"
          ]
        }
      ],
      "source": [
        "my_collection.extend(['hi','Dipty Regar', 'More','Items'])\n",
        "print(my_collection)"
      ]
    },
    {
      "cell_type": "markdown",
      "metadata": {
        "id": "X2f2OwOrKu80"
      },
      "source": [
        "**Add single item to list**"
      ]
    },
    {
      "cell_type": "code",
      "execution_count": null,
      "metadata": {
        "colab": {
          "base_uri": "https://localhost:8080/"
        },
        "id": "F0HOxXb-K27t",
        "outputId": "d7c74421-de63-4603-a818-9856ea43bc9e"
      },
      "outputs": [
        {
          "name": "stdout",
          "output_type": "stream",
          "text": [
            "[1, 3.12, False, True, 'hi', 'hi', 'Dipty Regar', 'More', 'Items', 'single', 'single']\n"
          ]
        }
      ],
      "source": [
        "my_collection.count(3.12) #it will count  the particular item in the list\n",
        "#and its a method\n",
        "my_collection.append('single')\n",
        "print(my_collection)"
      ]
    },
    {
      "cell_type": "markdown",
      "metadata": {
        "id": "yOosowKQL-Oj"
      },
      "source": [
        "**Delete the object of a list at specified index**"
      ]
    },
    {
      "cell_type": "code",
      "execution_count": null,
      "metadata": {
        "colab": {
          "base_uri": "https://localhost:8080/"
        },
        "id": "kREirY-6MdWI",
        "outputId": "0d84ff1c-cf00-480b-ba18-c290d6df200c"
      },
      "outputs": [
        {
          "name": "stdout",
          "output_type": "stream",
          "text": [
            "[1, 3.12, True, 'hi', 'hi', 'Dipty Regar', 'More', 'Items', 'single', 'single']\n"
          ]
        }
      ],
      "source": [
        "del(my_collection[2])\n",
        "print(my_collection)"
      ]
    },
    {
      "cell_type": "markdown",
      "metadata": {
        "id": "2cg7HWTPM0Yv"
      },
      "source": [
        "**Clone a list**"
      ]
    },
    {
      "cell_type": "code",
      "execution_count": null,
      "metadata": {
        "colab": {
          "base_uri": "https://localhost:8080/"
        },
        "id": "LjU2v1eYM3To",
        "outputId": "eb87fcc9-4424-4e6d-94b4-57167d8ecb50"
      },
      "outputs": [
        {
          "name": "stdout",
          "output_type": "stream",
          "text": [
            "[1, 3.12, True, 'hi', 'hi', 'Dipty Regar', 'More', 'Items', 'single', 'single']\n"
          ]
        }
      ],
      "source": [
        "Clone = my_collection[:]\n",
        "print(Clone)"
      ]
    },
    {
      "cell_type": "markdown",
      "metadata": {
        "id": "gZt8B-FMNCP7"
      },
      "source": [
        "**Concatenate two lists**"
      ]
    },
    {
      "cell_type": "code",
      "execution_count": null,
      "metadata": {
        "colab": {
          "base_uri": "https://localhost:8080/"
        },
        "id": "iug4pePQNHEq",
        "outputId": "f12ed2c6-1e82-4b5e-b8d8-ff5956e4d02c"
      },
      "outputs": [
        {
          "name": "stdout",
          "output_type": "stream",
          "text": [
            "[1, 3.12, True, 'hi', 'hi', 'Dipty Regar', 'More', 'Items', 'single', 'single', 1, 3.12, True, 'hi', 'hi', 'Dipty Regar', 'More', 'Items', 'single', 'single']\n"
          ]
        }
      ],
      "source": [
        "my_collection1 = my_collection + Clone\n",
        "print(my_collection1)"
      ]
    },
    {
      "cell_type": "markdown",
      "metadata": {
        "id": "tlBFzqEyNYhZ"
      },
      "source": [
        "**Calculate the sum of a list of ints or flots**"
      ]
    },
    {
      "cell_type": "code",
      "execution_count": null,
      "metadata": {
        "colab": {
          "base_uri": "https://localhost:8080/"
        },
        "id": "XNo0yQKLNiH8",
        "outputId": "606d2101-0ad3-47b2-85d6-dc1ba7b328cc"
      },
      "outputs": [
        {
          "data": {
            "text/plain": [
              "15"
            ]
          },
          "execution_count": 18,
          "metadata": {},
          "output_type": "execute_result"
        }
      ],
      "source": [
        "number_collection = [1,2,3,4,5]\n",
        "sum(number_collection)\n",
        "#sum(my_collection1) #unsupported operand type - float + str + ints not possible"
      ]
    },
    {
      "cell_type": "markdown",
      "metadata": {
        "id": "-MLr1xfUOpBb"
      },
      "source": [
        "**Check if we changge the original what happens with clone one**"
      ]
    },
    {
      "cell_type": "code",
      "execution_count": null,
      "metadata": {
        "colab": {
          "base_uri": "https://localhost:8080/"
        },
        "id": "rf-FnxM4PWvf",
        "outputId": "77b8025d-1aaa-4669-acb9-bca19d82d70b"
      },
      "outputs": [
        {
          "name": "stdout",
          "output_type": "stream",
          "text": [
            "[1, 'hi', 'more', 'single', 'single']\n",
            "[1, 'hi', 'more', 'single', 'single']\n",
            "[1, 'hi', 'more', 'single', 'single']\n",
            "[1, 'hi', 'more', 'single', 'single']\n",
            "[1, 'hi', 'more', 'single', 'single', 'nomore']\n",
            "[1, 'hi', 'more', 'single', 'single']\n"
          ]
        }
      ],
      "source": [
        "#print(my_collection)\n",
        "#my_collection.extend(['2','hi','hi'])\n",
        "#print(my_collection)\n",
        "#del(my_collection[2])\n",
        "Clone = my_collection[:]\n",
        "print(Clone)\n",
        "print(my_collection)\n",
        "#my_collection.append('single')\n",
        "print(my_collection)\n",
        "print(Clone)\n",
        "Clone.append('nomore')\n",
        "print(Clone)\n",
        "print(my_collection)\n",
        "''' so if  change  anything in original  then copywill  also changebut if  change anything in copy then it wont affect the original  one'''"
      ]
    },
    {
      "cell_type": "markdown",
      "metadata": {
        "id": "UtUpjpUyS53w"
      },
      "source": [
        "**Check if an item isin a list,return boolean item.(mebership Operator)**"
      ]
    },
    {
      "cell_type": "code",
      "execution_count": null,
      "metadata": {
        "colab": {
          "base_uri": "https://localhost:8080/"
        },
        "id": "h6eeIto0TO4z",
        "outputId": "9d0f0016-f531-46b3-d8e4-5a1df85ca05e"
      },
      "outputs": [
        {
          "data": {
            "text/plain": [
              "True"
            ]
          },
          "execution_count": 75,
          "metadata": {},
          "output_type": "execute_result"
        }
      ],
      "source": [
        "'hi' in my_collection \n",
        "3.12 in my_collection\n",
        "#if not\n",
        "3.12 not in my_collection"
      ]
    },
    {
      "cell_type": "markdown",
      "metadata": {
        "id": "koP7rfi6T6QZ"
      },
      "source": [
        "**Tuples and Lists allows duplicate items. its Unchangeable and  Changeable collection of objects.\n",
        "Dictionary is Changeable  collection  of key_value pairs(ordered)(Does not allow Duplicate value).\n",
        "But Set is (Unordered) collection of unique objects(Does not  allow Duplicate)andits changeable.mutable**"
      ]
    },
    {
      "cell_type": "code",
      "execution_count": null,
      "metadata": {
        "colab": {
          "base_uri": "https://localhost:8080/"
        },
        "id": "8jEKBsqnUkL5",
        "outputId": "f0026a91-3a4e-4156-ba63-94f8890f77a4"
      },
      "outputs": [
        {
          "name": "stdout",
          "output_type": "stream",
          "text": [
            "{'hi': 'Dipty', 2: 'three', 1: 'two'}\n"
          ]
        }
      ],
      "source": [
        "my_dictionary = {'hi':'Dipty',2: 'three', 1 : 'two', 2 :'three'}\n",
        "print(my_dictionary)"
      ]
    },
    {
      "cell_type": "code",
      "execution_count": null,
      "metadata": {
        "colab": {
          "background_save": true,
          "base_uri": "https://localhost:8080/"
        },
        "id": "RW2Bd3z3YDg4",
        "outputId": "0652a83d-a97c-44ed-eac7-f92b47ef4bdb"
      },
      "outputs": [
        {
          "name": "stdout",
          "output_type": "stream",
          "text": [
            "[1]\n",
            "[1]\n",
            "[1]\n",
            "[1]\n"
          ]
        }
      ],
      "source": [
        "a = []\n",
        "a.append(1)\n",
        "print(a)\n",
        "b = a[:]\n",
        "print(b)\n",
        "print(a)\n",
        "print(b)"
      ]
    },
    {
      "cell_type": "markdown",
      "source": [
        "**Shallow copy vs Deep copy python**"
      ],
      "metadata": {
        "id": "88wMktaMKodC"
      }
    },
    {
      "cell_type": "code",
      "source": [
        "## = , copy(),deepcopy()\n",
        "lst1=[1,2,3,4]\n",
        "lst = lst1\n",
        "lst1,lst\n",
        "lst2 = lst1[:]\n",
        "lst2,lst1"
      ],
      "metadata": {
        "colab": {
          "base_uri": "https://localhost:8080/"
        },
        "id": "dhYdxaIVLv6E",
        "outputId": "9e8979a2-3f9d-4fca-fe4e-f0c948d20f13"
      },
      "execution_count": null,
      "outputs": [
        {
          "output_type": "execute_result",
          "data": {
            "text/plain": [
              "([1, 2, 3, 4], [1, 2, 3, 4])"
            ]
          },
          "metadata": {},
          "execution_count": 3
        }
      ]
    },
    {
      "cell_type": "code",
      "source": [
        "lst = [4,2,3.3,2]\n",
        "lst1 = lst\n",
        "print(lst1)"
      ],
      "metadata": {
        "colab": {
          "base_uri": "https://localhost:8080/"
        },
        "id": "dlqLyQfnmZVC",
        "outputId": "24d4d1c5-2ac6-43a4-a0ab-52229414c1a9"
      },
      "execution_count": null,
      "outputs": [
        {
          "output_type": "stream",
          "name": "stdout",
          "text": [
            "[4, 2, 3.3]\n"
          ]
        }
      ]
    },
    {
      "cell_type": "code",
      "source": [
        "# = operation\n",
        "lst1 = [1,2,3,4,5]\n",
        "lst = lst1\n",
        "lst,lst1"
      ],
      "metadata": {
        "colab": {
          "base_uri": "https://localhost:8080/"
        },
        "id": "O861CmF9KvSq",
        "outputId": "a035f573-8946-42c6-b8c7-1e78d46a18bc"
      },
      "execution_count": null,
      "outputs": [
        {
          "output_type": "execute_result",
          "data": {
            "text/plain": [
              "([1, 2, 3, 4, 5], [1, 2, 3, 4, 5])"
            ]
          },
          "metadata": {},
          "execution_count": 1
        }
      ]
    },
    {
      "cell_type": "code",
      "source": [
        "lst[0:3]"
      ],
      "metadata": {
        "colab": {
          "base_uri": "https://localhost:8080/"
        },
        "id": "Rz9Ww7n7zB44",
        "outputId": "199e6c04-6e48-4cd8-e309-ae46591cdcea"
      },
      "execution_count": null,
      "outputs": [
        {
          "output_type": "execute_result",
          "data": {
            "text/plain": [
              "[1, 2, 3]"
            ]
          },
          "metadata": {},
          "execution_count": 3
        }
      ]
    },
    {
      "cell_type": "code",
      "source": [
        "lst[1] = 1000\n",
        "lst,lst1 #Both the  variable are  acually refeering to the same memory location.\n",
        "#if one of the variable changes the elment then it will also get \n",
        "#refelcted in the memory locationS\n",
        "#they bothare referring to the same  memory location."
      ],
      "metadata": {
        "colab": {
          "base_uri": "https://localhost:8080/"
        },
        "id": "kETKafIszF_W",
        "outputId": "3ab00d00-c487-4295-8755-7bd2729a48b8"
      },
      "execution_count": null,
      "outputs": [
        {
          "output_type": "execute_result",
          "data": {
            "text/plain": [
              "([1, 1000, 3, 4, 5], [1, 1000, 3, 4, 5])"
            ]
          },
          "metadata": {},
          "execution_count": 5
        }
      ]
    },
    {
      "cell_type": "code",
      "source": [
        "#copy operation\n",
        "##its also called the  shallowcopy operation\n",
        "#In shallow copy we  have to use copy operation(method)\n",
        "lst1 = [1,2,3,4]\n",
        "lst2 = lst1.copy()\n",
        "lst2\n",
        "lst2[2]=1000\n",
        "lst2,lst1\n",
        "#this are reffering to diffenrent memory location"
      ],
      "metadata": {
        "colab": {
          "base_uri": "https://localhost:8080/"
        },
        "id": "YqHpoeBy3I-J",
        "outputId": "ca295719-5f1c-4378-cfda-b3c55d3e4bcd"
      },
      "execution_count": null,
      "outputs": [
        {
          "output_type": "execute_result",
          "data": {
            "text/plain": [
              "([1, 2, 1000, 4], [1, 2, 3, 4])"
            ]
          },
          "metadata": {},
          "execution_count": 7
        }
      ]
    },
    {
      "cell_type": "code",
      "source": [
        "#shallow copy with nested list(multiple list-Nested list)\n",
        "lst1 = [[1,2,3,4],[5,6,7,8]]\n",
        "lst2 = lst1.copy()\n",
        "lst1,lst2"
      ],
      "metadata": {
        "colab": {
          "base_uri": "https://localhost:8080/"
        },
        "id": "ZQSn0BV-4J51",
        "outputId": "61f01bf6-1c4d-4cc2-85f2-4084cf8ef672"
      },
      "execution_count": null,
      "outputs": [
        {
          "output_type": "execute_result",
          "data": {
            "text/plain": [
              "([[1, 2, 3, 4], [5, 6, 7, 8]], [[1, 2, 3, 4], [5, 6, 7, 8]])"
            ]
          },
          "metadata": {},
          "execution_count": 8
        }
      ]
    },
    {
      "cell_type": "code",
      "source": [
        "lst1[0][1] = 100\n",
        "print(lst1,  lst2)#here this list has 2 items and every itemsh 4 objects which are reffering to  the  same memory  location\n",
        "#item  will  not getcopied  but if youare making the  changes  on  the object which are present  in side the  item  will gonna change\n",
        "lst1.append([1,2,3,4])\n",
        "print(lst1)\n",
        "print(lst2)"
      ],
      "metadata": {
        "colab": {
          "base_uri": "https://localhost:8080/"
        },
        "id": "yxSF9QHN4z9J",
        "outputId": "5a63941f-56c1-4292-ad05-63e4437731eb"
      },
      "execution_count": null,
      "outputs": [
        {
          "output_type": "stream",
          "name": "stdout",
          "text": [
            "[[1, 100, 3, 4], [5, 6, 7, 8], [1, 2, 3, 4], [1, 2, 3, 4]] [[1, 100, 3, 4], [5, 6, 7, 8]]\n",
            "[[1, 100, 3, 4], [5, 6, 7, 8], [1, 2, 3, 4], [1, 2, 3, 4], [1, 2, 3, 4]]\n",
            "[[1, 100, 3, 4], [5, 6, 7, 8]]\n"
          ]
        }
      ]
    },
    {
      "cell_type": "code",
      "source": [
        "#collection of items = [1,2,3,4]\n",
        "#objects presentin the  items are = 1,2,3,4"
      ],
      "metadata": {
        "id": "tdUsKScB6fZO"
      },
      "execution_count": null,
      "outputs": []
    },
    {
      "cell_type": "code",
      "source": [
        "#Deep Copy\n",
        "import copy\n",
        "lst1 = [1,2,3,4]\n",
        "lst2 = copy.deepcopy(lst1)\n",
        "print(lst2)\n",
        "lst2[1]=1000\n",
        "print(lst2)\n",
        "print(lst1)\n",
        "# In a normal list shallow copyis equalto deepcopy"
      ],
      "metadata": {
        "colab": {
          "base_uri": "https://localhost:8080/"
        },
        "id": "3qiTkj0f6wF1",
        "outputId": "b67ecc84-810f-45d7-bde8-26c19e481f62"
      },
      "execution_count": null,
      "outputs": [
        {
          "output_type": "stream",
          "name": "stdout",
          "text": [
            "[1, 2, 3, 4]\n",
            "[1, 1000, 3, 4]\n",
            "[1, 2, 3, 4]\n",
            "[1, 2, 3, 4]\n"
          ]
        }
      ]
    },
    {
      "cell_type": "code",
      "source": [
        "lst1 = [[1,2,3,4],[2,3,4,5],[6,7,8,9]]\n",
        "lst2 = copy.deepcopy(lst1)\n",
        "print(lst2)\n",
        "lst2[1][2]=1000\n",
        "print(lst2)\n",
        "print(lst1)\n",
        "#in deepcopy every item and  objects in item having separate memory location "
      ],
      "metadata": {
        "colab": {
          "base_uri": "https://localhost:8080/"
        },
        "id": "lf62nSiN8XyZ",
        "outputId": "c08ca317-f61d-4021-a4f3-d52e4afad663"
      },
      "execution_count": null,
      "outputs": [
        {
          "output_type": "stream",
          "name": "stdout",
          "text": [
            "[[1, 2, 3, 4], [2, 3, 4, 5], [6, 7, 8, 9]]\n",
            "[[1, 2, 3, 4], [2, 3, 1000, 5], [6, 7, 8, 9]]\n",
            "[[1, 2, 3, 4], [2, 3, 4, 5], [6, 7, 8, 9]]\n"
          ]
        }
      ]
    },
    {
      "cell_type": "code",
      "source": [
        "lst_1 = [1, 2, 3]\n",
        "lst_2 = [x*2 for x in lst_1 if x % 2 == 0]\n",
        "lst_2"
      ],
      "metadata": {
        "colab": {
          "base_uri": "https://localhost:8080/"
        },
        "id": "ea5op3nDJMfB",
        "outputId": "ca07e15d-a941-4d0e-f72a-1484ada9cd09"
      },
      "execution_count": null,
      "outputs": [
        {
          "output_type": "execute_result",
          "data": {
            "text/plain": [
              "[4]"
            ]
          },
          "metadata": {},
          "execution_count": 1
        }
      ]
    }
  ],
  "metadata": {
    "colab": {
      "name": "Python basices.ipynb",
      "provenance": [],
      "collapsed_sections": [],
      "authorship_tag": "ABX9TyOsrpe+mPHK2Jn8DVDSOtgp",
      "include_colab_link": true
    },
    "kernelspec": {
      "display_name": "Python 3",
      "name": "python3"
    },
    "language_info": {
      "name": "python"
    }
  },
  "nbformat": 4,
  "nbformat_minor": 0
}