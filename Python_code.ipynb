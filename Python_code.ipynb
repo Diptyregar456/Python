{
  "nbformat": 4,
  "nbformat_minor": 0,
  "metadata": {
    "colab": {
      "name": "Python_code.ipynb",
      "provenance": [],
      "collapsed_sections": [],
      "authorship_tag": "ABX9TyNuDziFYpXjqqrADKj2goFi",
      "include_colab_link": true
    },
    "kernelspec": {
      "name": "python3",
      "display_name": "Python 3"
    },
    "language_info": {
      "name": "python"
    }
  },
  "cells": [
    {
      "cell_type": "markdown",
      "metadata": {
        "id": "view-in-github",
        "colab_type": "text"
      },
      "source": [
        "<a href=\"https://colab.research.google.com/github/Diptyregar456/Python/blob/main/Python_code.ipynb\" target=\"_parent\"><img src=\"https://colab.research.google.com/assets/colab-badge.svg\" alt=\"Open In Colab\"/></a>"
      ]
    },
    {
      "cell_type": "markdown",
      "source": [
        "**Simple Program**"
      ],
      "metadata": {
        "id": "O8Zbm34rbCoG"
      }
    },
    {
      "cell_type": "code",
      "source": [
        "print('hello, new world my name is Dipty regar')"
      ],
      "metadata": {
        "colab": {
          "base_uri": "https://localhost:8080/"
        },
        "id": "jYDy1HuMbGXr",
        "outputId": "0c186ad8-a89b-4d26-d93f-573c01401ec4"
      },
      "execution_count": null,
      "outputs": [
        {
          "output_type": "stream",
          "name": "stdout",
          "text": [
            "/nhello, new world my name is Dipty regar\n"
          ]
        }
      ]
    },
    {
      "cell_type": "markdown",
      "source": [
        "**Checking the latest version of Python**"
      ],
      "metadata": {
        "id": "sTt8NNVVbvoM"
      }
    },
    {
      "cell_type": "code",
      "source": [
        "import sys\n",
        "print(sys.version)"
      ],
      "metadata": {
        "colab": {
          "base_uri": "https://localhost:8080/"
        },
        "id": "FFJBM55bb7OM",
        "outputId": "5c95fe65-6df7-4b06-8532-f722f06e232d"
      },
      "execution_count": null,
      "outputs": [
        {
          "output_type": "stream",
          "name": "stdout",
          "text": [
            "3.7.12 (default, Sep 10 2021, 00:21:48) \n",
            "[GCC 7.5.0]\n"
          ]
        }
      ]
    },
    {
      "cell_type": "markdown",
      "source": [
        "**Data Types**"
      ],
      "metadata": {
        "id": "5JksF2jScm8h"
      }
    },
    {
      "cell_type": "code",
      "source": [
        "a=11 #integer\n",
        "b = 11.2 #real number or float\n",
        "c = 'this isme' #string- number of characters\n",
        "d = True #bolean\n",
        "print(a)\n",
        "print(b)\n",
        "print(c)\n",
        "print(d)"
      ],
      "metadata": {
        "colab": {
          "base_uri": "https://localhost:8080/"
        },
        "id": "2CvtfdI_5ZyH",
        "outputId": "6def3c8c-db1e-4795-99a1-c13a3913d43e"
      },
      "execution_count": null,
      "outputs": [
        {
          "output_type": "stream",
          "name": "stdout",
          "text": [
            "11\n",
            "11.2\n",
            "this isme\n",
            "True\n"
          ]
        }
      ]
    },
    {
      "cell_type": "markdown",
      "source": [
        "**variable**\n",
        "\n",
        "```\n",
        "container to store data values. In python there no syntax of declaration. It created when it assignthe value.\n",
        "```\n",
        "\n",
        "**"
      ],
      "metadata": {
        "id": "zUufkorL5vXd"
      }
    },
    {
      "cell_type": "code",
      "source": [
        ""
      ],
      "metadata": {
        "id": "y-tabVqXF1mM"
      },
      "execution_count": null,
      "outputs": []
    },
    {
      "cell_type": "markdown",
      "source": [
        "**How to receiving input from user #getting input**"
      ],
      "metadata": {
        "id": "VXJ4RAmB7BS0"
      }
    },
    {
      "cell_type": "code",
      "source": [
        "name = input('What is your name? ')\n",
        "print('Hi ' + name)"
      ],
      "metadata": {
        "colab": {
          "base_uri": "https://localhost:8080/"
        },
        "id": "dNMwG8MCTr23",
        "outputId": "0e325d85-c09b-49e0-e82a-da268adff057"
      },
      "execution_count": null,
      "outputs": [
        {
          "output_type": "stream",
          "name": "stdout",
          "text": [
            "What is your name? Dipty regar\n",
            "Hi Dipty regar\n"
          ]
        }
      ]
    },
    {
      "cell_type": "markdown",
      "source": [
        "**Q1: persons name and favourite colorthen print a messagges like 'Mosh Likes Blue'**"
      ],
      "metadata": {
        "id": "dEpHeN_YUplI"
      }
    },
    {
      "cell_type": "code",
      "source": [
        "name = input('What is your name? ')\n",
        "favourite_color = input('What is your favourite color? ')\n",
        "print('Hi ' + name)\n",
        "print('and ' + favourite_color + ' is your fvuorite color ')"
      ],
      "metadata": {
        "colab": {
          "base_uri": "https://localhost:8080/"
        },
        "id": "iQJSXcQUVFqj",
        "outputId": "39edd511-9f30-4326-cfa3-c7ecbaa636b6"
      },
      "execution_count": null,
      "outputs": [
        {
          "output_type": "stream",
          "name": "stdout",
          "text": [
            "What is your name? Dipty regar\n",
            "What is your favourite color? green\n",
            "Hi Dipty regar\n",
            "and green is your fvuorite color \n"
          ]
        }
      ]
    },
    {
      "cell_type": "markdown",
      "source": [
        "**Q2: print a message Dipty likes green**"
      ],
      "metadata": {
        "id": "qaWDef6_Wbki"
      }
    },
    {
      "cell_type": "code",
      "source": [
        "print(name + ' loves ' + favourite_color)"
      ],
      "metadata": {
        "colab": {
          "base_uri": "https://localhost:8080/"
        },
        "id": "lv37aL4xWqKC",
        "outputId": "8398f399-0c6f-4212-ef11-faf9b5328f14"
      },
      "execution_count": null,
      "outputs": [
        {
          "output_type": "stream",
          "name": "stdout",
          "text": [
            "Dipty regar loves green\n"
          ]
        }
      ]
    },
    {
      "cell_type": "markdown",
      "source": [
        "**Type Conversion: Q1 : calculate your age**"
      ],
      "metadata": {
        "id": "gLD3Z031XU5C"
      }
    },
    {
      "cell_type": "code",
      "source": [
        "birth_year = input(' What is your birth year? ') #birth_year is string: what ever we pass through singleor doublequote is string even if number.\n",
        "age = 2022 - int(birth_year)\n",
        "print(age)"
      ],
      "metadata": {
        "colab": {
          "base_uri": "https://localhost:8080/"
        },
        "id": "YG1yz1GTXg4S",
        "outputId": "8e88f5f0-b9c5-4aba-dc8e-91cbd1c5d3f2"
      },
      "execution_count": null,
      "outputs": [
        {
          "output_type": "stream",
          "name": "stdout",
          "text": [
            " What is your birth year? 1996\n",
            "26\n"
          ]
        }
      ]
    },
    {
      "cell_type": "markdown",
      "source": [
        "**what is the type of birth_year and age**"
      ],
      "metadata": {
        "id": "f_4ZK_vDZQMW"
      }
    },
    {
      "cell_type": "code",
      "source": [
        "print(type(birth_year))  #the input function  is  always going to return value is in string.\n",
        "print(type(age))"
      ],
      "metadata": {
        "colab": {
          "base_uri": "https://localhost:8080/"
        },
        "id": "NPOaqLfwZW0D",
        "outputId": "afa794f3-984b-483c-9d16-5268459dc6f4"
      },
      "execution_count": null,
      "outputs": [
        {
          "output_type": "stream",
          "name": "stdout",
          "text": [
            "<class 'str'>\n",
            "<class 'int'>\n"
          ]
        }
      ]
    },
    {
      "cell_type": "markdown",
      "source": [
        "**Q2: Ask a user their weight(in pounds), convert it to kilograms and print on the terminal?**"
      ],
      "metadata": {
        "id": "5ySv47qEamWo"
      }
    },
    {
      "cell_type": "code",
      "source": [
        "weight_lbs = input(' What is your weight(lbs)? ')\n",
        "weight_kg = 0.45 * float(weight_lbs)\n",
        "print(weight_kg)\n",
        "print(type(weight_lbs))\n",
        "print(type(weight_kg))"
      ],
      "metadata": {
        "colab": {
          "base_uri": "https://localhost:8080/"
        },
        "id": "v7abt9fja3F8",
        "outputId": "91a246b1-eb8f-459d-d96a-93e88bc74d47"
      },
      "execution_count": null,
      "outputs": [
        {
          "output_type": "stream",
          "name": "stdout",
          "text": [
            " What is your weight(lbs)? 115\n",
            "51.75\n",
            "<class 'str'>\n",
            "<class 'float'>\n"
          ]
        }
      ]
    },
    {
      "cell_type": "markdown",
      "source": [
        "**String : single string**"
      ],
      "metadata": {
        "id": "pMW4ilEiggwy"
      }
    },
    {
      "cell_type": "code",
      "source": [
        "course = \"Python's for beginners\"\n",
        "print(course)\n",
        "course = 'Python is for \"beginners\"'\n",
        "print(course)"
      ],
      "metadata": {
        "colab": {
          "base_uri": "https://localhost:8080/"
        },
        "id": "rNlFq2z4pmgn",
        "outputId": "40254219-72e7-4e12-c687-8571208287e2"
      },
      "execution_count": null,
      "outputs": [
        {
          "output_type": "stream",
          "name": "stdout",
          "text": [
            "Python's for beginners\n",
            "Python is for \"beginners\"\n"
          ]
        }
      ]
    },
    {
      "cell_type": "markdown",
      "source": [
        "**Multiple line string : \"\"\"......\"\"\", '''----'''**"
      ],
      "metadata": {
        "id": "v3D0h-jMqsN3"
      }
    },
    {
      "cell_type": "code",
      "source": [
        "course = \"\"\"\n",
        "Hi Team,\n",
        "I have doughts that I want to clear out before proceeding with my application.\n",
        "could you please give me a call..\n",
        "I hope to hear from you soon.\n",
        "Regards,\n",
        "Dipty Regar\"\"\"\n",
        "print(course)"
      ],
      "metadata": {
        "colab": {
          "base_uri": "https://localhost:8080/"
        },
        "id": "KJDFNh-zq4w2",
        "outputId": "2f4baad3-b986-4574-9f10-f27fac64b9a3"
      },
      "execution_count": null,
      "outputs": [
        {
          "output_type": "stream",
          "name": "stdout",
          "text": [
            "\n",
            "Hi Team,\n",
            "I have doughts that I want to clear out before proceeding with my application.\n",
            "could you please give me a call..\n",
            "I hope to hear from you soon.\n",
            "Regards,\n",
            "Dipty Regar\n"
          ]
        }
      ]
    },
    {
      "cell_type": "markdown",
      "source": [
        "**Indexing: single line string**"
      ],
      "metadata": {
        "id": "LybIHVFFrwPJ"
      }
    },
    {
      "cell_type": "code",
      "source": [
        "# Print the 1st letter of string\n",
        "course = 'Python for beginners'\n",
        "#positive indexing \n",
        "print(course[0]) \n",
        "\n",
        "#negative indexing\n",
        "print(course[-6]) \n",
        "\n",
        "#range (n, n-1), positvie range\n",
        "print(course[0:5])\n",
        "\n",
        "#range (n, n-1), negative indexing range\n",
        "print(course[0:-6])\n",
        "print(course[-5:-1])\n",
        "\n",
        "#full indexing\n",
        "print(course[:])\n",
        "print(course[0:])\n",
        "print(course[2:])\n",
        "print(course[:9])\n",
        "\n",
        "name = 'Jennifer'\n",
        "print(name[1:-1])"
      ],
      "metadata": {
        "colab": {
          "base_uri": "https://localhost:8080/"
        },
        "id": "eeg4ZR86r6eP",
        "outputId": "2657751a-bb72-4e59-ce13-d7148f38c004"
      },
      "execution_count": null,
      "outputs": [
        {
          "output_type": "stream",
          "name": "stdout",
          "text": [
            "P\n",
            "i\n",
            "Pytho\n",
            "Python for beg\n",
            "nner\n",
            "Python for beginners\n",
            "Python for beginners\n",
            "thon for beginners\n",
            "Python fo\n",
            "ennife\n"
          ]
        }
      ]
    },
    {
      "cell_type": "markdown",
      "source": [
        "**Formatted Strings : f '  ' (f string)**"
      ],
      "metadata": {
        "id": "b4YDMu-iwEXL"
      }
    },
    {
      "cell_type": "code",
      "source": [
        "# Print Dipty [Regar] is a coder \n",
        "#Performing arithmetic Operation (concatenatination)\n",
        "first = 'Dipty'\n",
        "last = 'Regar'\n",
        "message = first + ' [' + last +'] is a coder'\n",
        "# with f string we can easily visualize what the output looks like\n",
        "msg = f'{first} [{last}] is a coder'\n",
        "# curly braces holds value and easy to make statement. 2 placeholder\n",
        "print(message)\n",
        "print(msg)"
      ],
      "metadata": {
        "colab": {
          "base_uri": "https://localhost:8080/"
        },
        "id": "i_dpAPP-wIIC",
        "outputId": "4619bdd1-195f-4708-9cff-b5fadfb1931f"
      },
      "execution_count": null,
      "outputs": [
        {
          "output_type": "stream",
          "name": "stdout",
          "text": [
            "Dipty [Regar] is a coder\n",
            "Dipty [Regar] is a coder\n"
          ]
        }
      ]
    },
    {
      "cell_type": "markdown",
      "source": [
        "# **String Methods :  String is immutable we cant change or update the string but we can perform operation on it. \n",
        "\n",
        "Method ⁉\n",
        "upper()\n",
        "lower()\n",
        "find()\n",
        "replace()\n",
        "in operator (existence operator\n",
        "title()**"
      ],
      "metadata": {
        "id": "Fmw-VKh2y-_9"
      }
    },
    {
      "cell_type": "code",
      "source": [
        "course = 'Python For Beginners'\n",
        "#count the number of string\n",
        "print(len(course)) #lenis function and course is argumentwe passing into function parenthesis.\n",
        "#using this method we can enforce a limit of number of chracters inany input field.\n",
        "# len we will use in list and tuple so it is general purpose function.\n",
        "# whatever we use as (.) is called method.\n",
        "#Example: Change this string into UPPER CASE\n",
        "one = course.upper()\n",
        "# here if change anything  in original the copy will be affeted.\n",
        "#but if do anyhing in copy, original wontbe affeted.\n",
        "print(one) #new string has been created\n",
        "print(course) #the original\n",
        "\n",
        "#Example :  Change this string into lower case\n",
        "print(course.lower())\n",
        "\n",
        "#find anything in string\n",
        "print(course.find('n'))\n",
        "print(course.find('b'))\n",
        "print(course.find('ner'))\n",
        "\n",
        "#replace something\n",
        "print(course.replace('Beginners' , 'Absolute Beginner'))\n",
        "\n",
        "#existance Operator (in) {boolean expression}, Expression:- Piece of code\n",
        "print('Python' in course)\n",
        "print('python' in course)\n",
        "\n",
        "#title \n",
        "print(course.title())"
      ],
      "metadata": {
        "colab": {
          "base_uri": "https://localhost:8080/"
        },
        "id": "0vX4PLxnzEbn",
        "outputId": "81b3b8b9-a520-4383-c98e-58f209e23143"
      },
      "execution_count": null,
      "outputs": [
        {
          "output_type": "stream",
          "name": "stdout",
          "text": [
            "20\n",
            "PYTHON FOR BEGINNERS\n",
            "Python For Beginners\n",
            "python for beginners\n",
            "5\n",
            "-1\n",
            "16\n",
            "Python For Absolute Beginner\n",
            "True\n",
            "False\n",
            "Python For Beginners\n"
          ]
        }
      ]
    },
    {
      "cell_type": "markdown",
      "source": [
        "**Arithmetic Operator**"
      ],
      "metadata": {
        "id": "rnTA1xewAkik"
      }
    },
    {
      "cell_type": "code",
      "source": [
        "print(10*3)\n",
        "print(10+3)\n",
        "print(10-3)\n",
        "print(10/3)\n",
        "print(10//3)\n",
        "print(10%3)\n",
        "print(10**3)"
      ],
      "metadata": {
        "colab": {
          "base_uri": "https://localhost:8080/"
        },
        "id": "dLG9W3ePApSC",
        "outputId": "282af8f6-f23a-497d-85e2-01bac4ee9098"
      },
      "execution_count": null,
      "outputs": [
        {
          "output_type": "stream",
          "name": "stdout",
          "text": [
            "30\n",
            "13\n",
            "7\n",
            "3.3333333333333335\n",
            "3\n",
            "1\n",
            "1000\n"
          ]
        }
      ]
    },
    {
      "cell_type": "markdown",
      "source": [
        "**Augmented , Assigment Operator**\n",
        "+={augmented assignment operator},\n",
        "-= {augmented assignment operator}\n"
      ],
      "metadata": {
        "id": "Rk5aMeszBmY2"
      }
    },
    {
      "cell_type": "code",
      "source": [
        "#increment operator\n",
        "x = 10\n",
        "x = x+3\n",
        "#Shorter form\n",
        "x += 3\n",
        "print(x)\n",
        "x -= 3\n",
        "print(x)"
      ],
      "metadata": {
        "colab": {
          "base_uri": "https://localhost:8080/"
        },
        "id": "kW7yaQJkBsbX",
        "outputId": "41dcdfd0-0fdc-439d-f733-89c599d09718"
      },
      "execution_count": null,
      "outputs": [
        {
          "output_type": "stream",
          "name": "stdout",
          "text": [
            "16\n",
            "13\n"
          ]
        }
      ]
    },
    {
      "cell_type": "code",
      "source": [
        "v=8 > 3 and 8 > 9\n",
        "print(v)\n",
        "x='hello' == 'hello'\n",
        "print(x)"
      ],
      "metadata": {
        "colab": {
          "base_uri": "https://localhost:8080/"
        },
        "id": "usuZAGla0FPj",
        "outputId": "868c0fed-7505-40f0-a9aa-7629393606b3"
      },
      "execution_count": null,
      "outputs": [
        {
          "output_type": "stream",
          "name": "stdout",
          "text": [
            "False\n",
            "True\n"
          ]
        }
      ]
    },
    {
      "cell_type": "markdown",
      "source": [
        "**Operator Precedence(Priority)**\n",
        "paranthesis (),\n",
        "Exponentiation 2**3,\n",
        "multiplication or division,\n",
        "addition or subtration,\n"
      ],
      "metadata": {
        "id": "dh7GcgxSCt6X"
      }
    },
    {
      "cell_type": "code",
      "source": [
        "x = 10 + 3 * 2\n",
        "print(x)\n",
        "x = 10 +3*2**2\n",
        "print(x)\n",
        "\n",
        "x = (2+3)*10-3**2\n",
        "print(x)"
      ],
      "metadata": {
        "colab": {
          "base_uri": "https://localhost:8080/"
        },
        "id": "s8cLMiRyCz3-",
        "outputId": "7559289c-a573-4b5f-d27a-a1455384fdf5"
      },
      "execution_count": null,
      "outputs": [
        {
          "output_type": "stream",
          "name": "stdout",
          "text": [
            "16\n",
            "22\n",
            "41\n"
          ]
        }
      ]
    },
    {
      "cell_type": "markdown",
      "source": [
        "**Math Functions**"
      ],
      "metadata": {
        "id": "ImxRCnWnE9eL"
      }
    },
    {
      "cell_type": "code",
      "source": [
        "# Round Function\n",
        "x = 2.7\n",
        "print(round(x))\n",
        "\n",
        "# ABS :- Absolute Function : it always return a positive number.\n",
        "print(abs(-2.7))\n",
        "print(abs(2.7))"
      ],
      "metadata": {
        "colab": {
          "base_uri": "https://localhost:8080/"
        },
        "id": "SXub9Y5JFEaU",
        "outputId": "557dd2a0-a0d8-4fe5-8c63-a5f228cc6168"
      },
      "execution_count": null,
      "outputs": [
        {
          "output_type": "stream",
          "name": "stdout",
          "text": [
            "3\n",
            "2.7\n",
            "2.7\n"
          ]
        }
      ]
    },
    {
      "cell_type": "code",
      "source": [
        "# If you are doing complex methematical calculation you need to import module\n",
        "#Module :- it contains bunch of mathematcal function 0r methods that are specific to math module\n",
        "import math\n",
        "print(math.ceil(2.9))\n",
        "print(math.floor(2.9))\n",
        "print(math.factorial(2)) #fec. only accepts inegral value\n",
        "#f = [3,3.4,4.6]\n",
        "print(math.fsum([3,3.4,4.6]))\n",
        "#iterables only used in tuple,list,arrays"
      ],
      "metadata": {
        "colab": {
          "base_uri": "https://localhost:8080/"
        },
        "id": "GJtxxZqoG3Xm",
        "outputId": "40fdbdf2-609c-49c7-bfa3-8058738c24ec"
      },
      "execution_count": null,
      "outputs": [
        {
          "output_type": "stream",
          "name": "stdout",
          "text": [
            "3\n",
            "2\n",
            "2\n",
            "11.0\n"
          ]
        }
      ]
    },
    {
      "cell_type": "markdown",
      "source": [
        "**Decision Making :**\n",
        "If statment\n",
        "# if its hot, \n",
        "its hot day,\n",
        "drink plenty ofwater,\n",
        "otherwise if its cold,\n",
        "its a cold day,\n",
        "waer warm clothes,\n",
        "otherwise,\n",
        "its a lovely day,"
      ],
      "metadata": {
        "id": "0sW47GASJRy-"
      }
    },
    {
      "cell_type": "code",
      "source": [
        "is_hot = False\n",
        "if is_hot:\n",
        "  print(\"it's hot day\")\n",
        "  print('drink water')\n",
        "else:\n",
        "  print(\"it's cold day\")\n",
        "  print('wear warm clothes')\n",
        "print(\"it's lovely day\")"
      ],
      "metadata": {
        "colab": {
          "base_uri": "https://localhost:8080/"
        },
        "id": "qDlzmK98Y6jf",
        "outputId": "00c3f684-b176-464f-d246-6db449dc7bb1"
      },
      "execution_count": null,
      "outputs": [
        {
          "output_type": "stream",
          "name": "stdout",
          "text": [
            "it's cold day\n",
            "wear warm clothes\n",
            "it's lovely day\n"
          ]
        }
      ]
    },
    {
      "cell_type": "code",
      "source": [
        "#elif statment\n",
        "is_hot = False\n",
        "is_cold = False\n",
        "if is_hot:\n",
        "  print(\"it's hot day\")\n",
        "  print('drink water')\n",
        "elif is_cold:\n",
        "  print(\"it's cold day\")\n",
        "  print(\"wear warm cloths\")\n",
        "else:\n",
        "  print(\"it's lovely day\")\n",
        "print(\"emjoy your day\")"
      ],
      "metadata": {
        "colab": {
          "base_uri": "https://localhost:8080/"
        },
        "id": "s4fwRFenlGa-",
        "outputId": "90e1035a-829f-430f-9b0e-461f25b83242"
      },
      "execution_count": null,
      "outputs": [
        {
          "output_type": "stream",
          "name": "stdout",
          "text": [
            "it's lovely day\n",
            "emjoy your day\n"
          ]
        }
      ]
    },
    {
      "cell_type": "code",
      "source": [
        "'''price of a house is $1m,\n",
        "if buyer has good credit,\n",
        "they need to put down 10%\n",
        "otherwise \n",
        "they need to put down 20%\n",
        "print the down payment'''\n",
        "price = 1000000\n",
        "has_good_credit = False\n",
        "if has_good_credit:\n",
        "  down_payment = 0.1 * price\n",
        "  print(down_payment)\n",
        "else:\n",
        "  down_payment = 0.2 * price\n",
        "  print(down_payment)\n",
        "print(f\"Down payment:, ${down_payment}\")"
      ],
      "metadata": {
        "colab": {
          "base_uri": "https://localhost:8080/"
        },
        "id": "BdKDot8nlTl3",
        "outputId": "e869bd33-86c6-4bca-865f-375a479e4b22"
      },
      "execution_count": null,
      "outputs": [
        {
          "output_type": "stream",
          "name": "stdout",
          "text": [
            "200000.0\n",
            "Down payment:, $200000.0\n"
          ]
        }
      ]
    },
    {
      "cell_type": "code",
      "source": [
        "price = 1000000\n",
        "has_good_credit = True\n",
        "if has_good_credit:\n",
        "  down_payment = 0.1*price\n",
        "  print(down_payment)\n",
        "else:\n",
        "  down_payment = 0.2*price\n",
        "  print(down_payment)\n",
        "print(f'Down payment:,${down_payment}')"
      ],
      "metadata": {
        "id": "NHitDECkzC0C",
        "colab": {
          "base_uri": "https://localhost:8080/"
        },
        "outputId": "5cbf8f68-b6f4-42b9-d6bf-955edd741866"
      },
      "execution_count": null,
      "outputs": [
        {
          "output_type": "stream",
          "name": "stdout",
          "text": [
            "100000.0\n",
            "Down payment:,$100000.0\n"
          ]
        }
      ]
    },
    {
      "cell_type": "markdown",
      "source": [
        "**Logical Operator**"
      ],
      "metadata": {
        "id": "KgUgGLKGoy05"
      }
    },
    {
      "cell_type": "code",
      "source": [
        "'cat'!= 'dog'\n",
        "8 > 3 and 8 > 9\n",
        "'hello' == 'hello' or 'cat' == 'dog'\n",
        "a=8 < 4\n",
        "print(a)\n",
        "b=8 != 4\n",
        "print(b)\n",
        "c=8 != 8\n",
        "print(c)\n",
        "d=8 >= 2\n",
        "print(d)\n",
        "e=8 <= 2\n",
        "print(e)\n",
        "f='hello' == 'hello'\n",
        "print(f)"
      ],
      "metadata": {
        "id": "GO9JwlKAo3Qa",
        "colab": {
          "base_uri": "https://localhost:8080/"
        },
        "outputId": "4e646ed9-e594-4cff-8397-9a7240aeb5bf"
      },
      "execution_count": null,
      "outputs": [
        {
          "output_type": "execute_result",
          "data": {
            "text/plain": [
              "True"
            ]
          },
          "metadata": {},
          "execution_count": 5
        }
      ]
    },
    {
      "cell_type": "code",
      "source": [
        "def foo(a=4):\n",
        "  a=5\n",
        "  print(a)\n",
        "foo(6)"
      ],
      "metadata": {
        "colab": {
          "base_uri": "https://localhost:8080/"
        },
        "id": "IFMhzu06ow6Z",
        "outputId": "6715625d-1b0d-4f91-ff5a-c21449bd4dfe"
      },
      "execution_count": null,
      "outputs": [
        {
          "output_type": "stream",
          "name": "stdout",
          "text": [
            "5\n"
          ]
        }
      ]
    },
    {
      "cell_type": "code",
      "source": [
        "x=(2+3)*10-3\n",
        "print(x) \n",
        "\n",
        "a = 10\n",
        "b = 0\n",
        "#print(d) NameError : d is not defined\n",
        "#c = a/b  ZeroDivisionError : division byzero\n",
        "\n",
        "a = [1,4,5,7]\n",
        "a.pop(2)\n",
        "print(a)"
      ],
      "metadata": {
        "id": "xyHd8z7LiSY6",
        "colab": {
          "base_uri": "https://localhost:8080/"
        },
        "outputId": "09785cd6-42b3-4054-bfa6-5f7d3018f930"
      },
      "execution_count": null,
      "outputs": [
        {
          "output_type": "stream",
          "name": "stdout",
          "text": [
            "47\n",
            "[1, 4, 7]\n"
          ]
        }
      ]
    },
    {
      "cell_type": "code",
      "source": [
        "a=5,4\n",
        "list(a) #int object is not iterable"
      ],
      "metadata": {
        "id": "2yNpxTP1O2Z8",
        "colab": {
          "base_uri": "https://localhost:8080/"
        },
        "outputId": "3d2c27d9-90c0-45fc-fc71-71cf6e4685ae"
      },
      "execution_count": null,
      "outputs": [
        {
          "output_type": "execute_result",
          "data": {
            "text/plain": [
              "[5, 4]"
            ]
          },
          "metadata": {},
          "execution_count": 8
        }
      ]
    }
  ]
}