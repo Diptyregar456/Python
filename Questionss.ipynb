{
  "nbformat": 4,
  "nbformat_minor": 0,
  "metadata": {
    "colab": {
      "name": "Questionss.ipynb",
      "provenance": [],
      "authorship_tag": "ABX9TyMoQ+LSNp6QhqCzfg55NT29",
      "include_colab_link": true
    },
    "kernelspec": {
      "name": "python3",
      "display_name": "Python 3"
    },
    "language_info": {
      "name": "python"
    }
  },
  "cells": [
    {
      "cell_type": "markdown",
      "metadata": {
        "id": "view-in-github",
        "colab_type": "text"
      },
      "source": [
        "<a href=\"https://colab.research.google.com/github/Diptyregar456/Python/blob/main/Questionss.ipynb\" target=\"_parent\"><img src=\"https://colab.research.google.com/assets/colab-badge.svg\" alt=\"Open In Colab\"/></a>"
      ]
    },
    {
      "cell_type": "code",
      "metadata": {
        "id": "Fg23Ep0MfQj4"
      },
      "source": [
        "def testgun(index):\n",
        "  weekdays = ['s','m','t','w','t','f']\n",
        "  yield weekdays[index]\n",
        "  yield weekdasys[index+1]\n",
        "  day = testgun(0)\n",
        "  next(day),next(day)"
      ],
      "execution_count": null,
      "outputs": []
    },
    {
      "cell_type": "code",
      "metadata": {
        "colab": {
          "base_uri": "https://localhost:8080/"
        },
        "id": "tXAWe1_xtNwq",
        "outputId": "67309a84-20fa-45a1-ab70-0eb9d32d33ec"
      },
      "source": [
        "list = ['a','b','c','d','e']  #converting a list into string.\n",
        "\n",
        "print(''.join(list))"
      ],
      "execution_count": null,
      "outputs": [
        {
          "output_type": "stream",
          "name": "stdout",
          "text": [
            "abcde\n"
          ]
        }
      ]
    },
    {
      "cell_type": "code",
      "metadata": {
        "colab": {
          "base_uri": "https://localhost:8080/"
        },
        "id": "i7PaqcADttLV",
        "outputId": "f1836438-1784-4357-ab44-40f39358350a"
      },
      "source": [
        "#converting a list into tuple\n",
        "list = ['a','b','c','d','e']\n",
        "print(tuple(list))"
      ],
      "execution_count": null,
      "outputs": [
        {
          "output_type": "stream",
          "name": "stdout",
          "text": [
            "('a', 'b', 'c', 'd', 'e')\n"
          ]
        }
      ]
    },
    {
      "cell_type": "code",
      "metadata": {
        "colab": {
          "base_uri": "https://localhost:8080/"
        },
        "id": "luFVamr9w6e7",
        "outputId": "cb4b7804-3f5b-4693-afad-2c878f92e953"
      },
      "source": [
        "#converting list into set\n",
        "list = ['a','b','c','d','e']\n",
        "print(set(list))"
      ],
      "execution_count": null,
      "outputs": [
        {
          "output_type": "stream",
          "name": "stdout",
          "text": [
            "{'d', 'c', 'e', 'b', 'a'}\n"
          ]
        }
      ]
    },
    {
      "cell_type": "code",
      "metadata": {
        "colab": {
          "base_uri": "https://localhost:8080/"
        },
        "id": "snphJCxq7mMc",
        "outputId": "e7866714-40bd-4434-d162-b1bff55927bb"
      },
      "source": [
        "import array\n",
        "a = [1,2,3]\n",
        "print(a[-3])\n",
        "print(a[-2])\n",
        "print(a[-1])\n",
        "lin= ['a','b','c','d','e']\n",
        "print(lin[-1][-1])"
      ],
      "execution_count": null,
      "outputs": [
        {
          "output_type": "stream",
          "name": "stdout",
          "text": [
            "1\n",
            "2\n",
            "3\n",
            "e\n"
          ]
        }
      ]
    }
  ]
}