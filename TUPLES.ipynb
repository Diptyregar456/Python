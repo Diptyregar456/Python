{
  "nbformat": 4,
  "nbformat_minor": 0,
  "metadata": {
    "colab": {
      "name": "TUPLES.ipynb",
      "provenance": [],
      "collapsed_sections": [],
      "authorship_tag": "ABX9TyPHFfKjWAkT0WlJ0DFb/8Gy",
      "include_colab_link": true
    },
    "kernelspec": {
      "name": "python3",
      "display_name": "Python 3"
    },
    "language_info": {
      "name": "python"
    }
  },
  "cells": [
    {
      "cell_type": "markdown",
      "metadata": {
        "id": "view-in-github",
        "colab_type": "text"
      },
      "source": [
        "<a href=\"https://colab.research.google.com/github/Diptyregar456/Python/blob/main/TUPLES.ipynb\" target=\"_parent\"><img src=\"https://colab.research.google.com/assets/colab-badge.svg\" alt=\"Open In Colab\"/></a>"
      ]
    },
    {
      "cell_type": "markdown",
      "metadata": {
        "id": "8XuhJ14czib8"
      },
      "source": [
        "**TUPLES**\n",
        "\n",
        "> A tuple is like a list, except you can't change th values in the tuple once it's defined. Tuples are good for storing information that shouldnot bbe chnaged throghout the life of a program. Tuples are designed by parentheses instead of square brackets()\n",
        "### you can overwrite the entire tuple, but you can't change the indiviudal elements in a tuple.\n",
        "\n"
      ]
    },
    {
      "cell_type": "markdown",
      "metadata": {
        "id": "_RlbmR4a0uza"
      },
      "source": [
        "**DEFINING A TUPLE**\n",
        "\n",
        "> ()\n",
        "\n"
      ]
    },
    {
      "cell_type": "code",
      "metadata": {
        "colab": {
          "base_uri": "https://localhost:8080/"
        },
        "id": "4G7OSU1R03Hm",
        "outputId": "8ec86042-daf0-410c-bf8f-b58ad4b140c7"
      },
      "source": [
        "dimensions = (800,600) #we cant change the tuple but we can over write the entire tuple\n",
        "# but we cant change the individual item in tuple\n",
        "print(dimensions) #storing the information which we want to store and should not want to chnge\n",
        "#in the entire life time of tuple\n",
        "print(type(dimensions)) #type\n",
        "print(len(dimensions))#length\n",
        "print(sorted(dimensions)) #we can sort\n",
        "print(sorted(dimensions, reverse = True)) #not sort\n",
        "for x in dimensions: #looping\n",
        "  print(x)\n",
        "x = dimensions[:] #copying the tuple\n",
        "print(x)\n",
        "x = dimensions[0] #we can also slicing the tuple\n",
        "print(x)\n",
        "x = dimensions[:1]\n",
        "print(x)\n",
        "x = dimensions[:-2]\n",
        "print(x)\n",
        "dimensions = (800,600)  # overwriting the tuple\n",
        "print(dimensions)\n",
        "dimensions = (1200,900)\n",
        "print(dimensions)\n",
        "x = (400,900,400,500,900,'mia') # storing duplicate value\n",
        "print(x)\n",
        "x = [40,50.5,40,60,'mia']\n",
        "print(type(x))"
      ],
      "execution_count": null,
      "outputs": [
        {
          "output_type": "stream",
          "text": [
            "(800, 600)\n",
            "<class 'tuple'>\n",
            "2\n",
            "[600, 800]\n",
            "[800, 600]\n",
            "800\n",
            "600\n",
            "(800, 600)\n",
            "800\n",
            "(800,)\n",
            "()\n",
            "(800, 600)\n",
            "(1200, 900)\n",
            "(400, 900, 400, 500, 900, 'mia')\n",
            "<class 'list'>\n"
          ],
          "name": "stdout"
        }
      ]
    },
    {
      "cell_type": "markdown",
      "metadata": {
        "id": "9R_ZWgwe35Ad"
      },
      "source": [
        "**DATA STRUCTURE**\n",
        "\n",
        "> LISTS\n",
        "\n"
      ]
    },
    {
      "cell_type": "markdown",
      "metadata": {
        "id": "j-pSEWBc4G_E"
      },
      "source": [
        "**BUILD A LIST AND PRINT THE ITEMS IN THE FIRST**"
      ]
    },
    {
      "cell_type": "code",
      "metadata": {
        "colab": {
          "base_uri": "https://localhost:8080/"
        },
        "id": "ydw3gj6j4OJq",
        "outputId": "77d2f0ab-c0a7-4552-f6c8-a2f14888c44f"
      },
      "source": [
        "dogs = []\n",
        "dogs.append(\"mia\")\n",
        "dogs.append(\"toto\")\n",
        "dogs.append(\"tintin\")\n",
        "print(dogs)\n",
        "print(type(dogs))\n",
        "print(len(dogs))\n",
        "dogs.sort()\n",
        "print(dogs)\n",
        "dogs.insert(0,'chocho')\n",
        "dogs.insert(1,\"titi\")\n",
        "print(dogs)\n",
        "del dogs[0]\n",
        "print(dogs)\n",
        "dogs.remove('mia')\n",
        "print(dogs)\n",
        "print(dogs.pop())\n",
        "x = dogs.pop(0)\n",
        "print(dogs)"
      ],
      "execution_count": null,
      "outputs": [
        {
          "output_type": "stream",
          "text": [
            "['mia', 'toto', 'tintin']\n",
            "<class 'list'>\n",
            "3\n",
            "['mia', 'tintin', 'toto']\n",
            "['chocho', 'titi', 'mia', 'tintin', 'toto']\n",
            "['titi', 'mia', 'tintin', 'toto']\n",
            "['titi', 'tintin', 'toto']\n",
            "toto\n",
            "['tintin']\n"
          ],
          "name": "stdout"
        }
      ]
    }
  ]
}