{
  "nbformat": 4,
  "nbformat_minor": 0,
  "metadata": {
    "colab": {
      "name": "data anlysis with pandas.ipyng",
      "provenance": [],
      "collapsed_sections": [],
      "authorship_tag": "ABX9TyM3fhPIjnnSxUJbxh+vGmwO",
      "include_colab_link": true
    },
    "kernelspec": {
      "name": "python3",
      "display_name": "Python 3"
    },
    "language_info": {
      "name": "python"
    }
  },
  "cells": [
    {
      "cell_type": "markdown",
      "metadata": {
        "id": "view-in-github",
        "colab_type": "text"
      },
      "source": [
        "<a href=\"https://colab.research.google.com/github/Diptyregar456/Python/blob/main/data_anlysis_with_pandas_ipyng.ipynb\" target=\"_parent\"><img src=\"https://colab.research.google.com/assets/colab-badge.svg\" alt=\"Open In Colab\"/></a>"
      ]
    },
    {
      "cell_type": "markdown",
      "metadata": {
        "id": "L6FYnH_BsOf-"
      },
      "source": [
        "***PANDAS***\n",
        "\n",
        "> pandas we use for data structure and data analysis tool. ither then also we this as to create aggregation function which helps to create data frames.\n",
        "data structure is like list.\n",
        "\n"
      ]
    },
    {
      "cell_type": "code",
      "metadata": {
        "colab": {
          "base_uri": "https://localhost:8080/"
        },
        "id": "pTrwcFS5sm1Z",
        "outputId": "31772fe7-5c18-412f-ce84-ba1400583c4f"
      },
      "source": [
        "import pandas as pd  #importing the pandas \n",
        "list = [1,2,3,4,5] #one dimentional series\n",
        "pd.Series([1,2,3,4,5])\n",
        "series1 = pd.Series([1,2,3,4,5])\n",
        "print(series1)"
      ],
      "execution_count": null,
      "outputs": [
        {
          "output_type": "stream",
          "text": [
            "0    1\n",
            "1    2\n",
            "2    3\n",
            "3    4\n",
            "4    5\n",
            "dtype: int64\n"
          ],
          "name": "stdout"
        }
      ]
    },
    {
      "cell_type": "code",
      "metadata": {
        "id": "vm0r05aGtk-H"
      },
      "source": [
        "import pandas as pd\n",
        "list = [1,2,3,4,5]\n",
        "pd.Series"
      ],
      "execution_count": null,
      "outputs": []
    },
    {
      "cell_type": "code",
      "metadata": {
        "colab": {
          "base_uri": "https://localhost:8080/"
        },
        "id": "pUwBXUVgwkHk",
        "outputId": "5d6db3bd-2bf0-453f-bc6b-2ea6e2228998"
      },
      "source": [
        "#creating a pandas series #one dimensional\n",
        "import pandas as pd \n",
        "list1 = [1,2,3]  #creating a list\n",
        "series1 = pd.Series(list1) #series here is 0,1,2 (indices number)\n",
        "print(series1) "
      ],
      "execution_count": null,
      "outputs": [
        {
          "output_type": "stream",
          "text": [
            "0    1\n",
            "1    2\n",
            "2    3\n",
            "dtype: int64\n"
          ],
          "name": "stdout"
        }
      ]
    },
    {
      "cell_type": "code",
      "metadata": {
        "colab": {
          "base_uri": "https://localhost:8080/"
        },
        "id": "WHMS-c4PIEsA",
        "outputId": "be6d88ab-57c5-4971-dfe9-bf17b6ffb19a"
      },
      "source": [
        "import numpy as np\n",
        "ind = ['a','b','c']\n",
        "arr1 = np.array(list1)\n",
        "pd.Series(data = arr1, index = ind)"
      ],
      "execution_count": null,
      "outputs": [
        {
          "output_type": "execute_result",
          "data": {
            "text/plain": [
              "a    1\n",
              "b    2\n",
              "c    3\n",
              "dtype: int64"
            ]
          },
          "metadata": {
            "tags": []
          },
          "execution_count": 26
        }
      ]
    },
    {
      "cell_type": "code",
      "metadata": {
        "colab": {
          "base_uri": "https://localhost:8080/"
        },
        "id": "QVNLFRXSJnOR",
        "outputId": "37564f5c-60fd-4ec6-e717-6819c924d552"
      },
      "source": [
        "import numpy as np\n",
        "ind = [1,2,3]\n",
        "arr1 = np.array(list1) #converting a list into array\n",
        "pd.Series(data = arr1, index = ind) #connecting as series with pandas"
      ],
      "execution_count": null,
      "outputs": [
        {
          "output_type": "execute_result",
          "data": {
            "text/plain": [
              "1    1\n",
              "2    2\n",
              "3    3\n",
              "dtype: int64"
            ]
          },
          "metadata": {
            "tags": []
          },
          "execution_count": 30
        }
      ]
    },
    {
      "cell_type": "code",
      "metadata": {
        "colab": {
          "base_uri": "https://localhost:8080/"
        },
        "id": "bgL-3aKBKqTi",
        "outputId": "15584c1e-2af8-41a4-82f6-f0435c7ffda7"
      },
      "source": [
        "#creating a series with dictionary\n",
        "dict = {'lili':'teacher','mala':'student',\"laptop\":'notes'} #datatype =object\n",
        "pd.Series(dict) #dict is object\n",
        "#here coverting a dict into series with the help of pandas"
      ],
      "execution_count": null,
      "outputs": [
        {
          "output_type": "execute_result",
          "data": {
            "text/plain": [
              "lili      teacher\n",
              "mala      student\n",
              "laptop      notes\n",
              "dtype: object"
            ]
          },
          "metadata": {
            "tags": []
          },
          "execution_count": 34
        }
      ]
    },
    {
      "cell_type": "code",
      "metadata": {
        "colab": {
          "base_uri": "https://localhost:8080/"
        },
        "id": "539JKXO6MM_B",
        "outputId": "765a46f8-525c-4f97-b1ea-99efc744e14a"
      },
      "source": [
        "dict = {\"titi\":100,\"mia\":90.78,'dodo':100}\n",
        "pd.Series(dict) #datatype = integar(if all the values is integar)\n",
        "# but it will show float if one of them is float or all of them is float"
      ],
      "execution_count": null,
      "outputs": [
        {
          "output_type": "execute_result",
          "data": {
            "text/plain": [
              "titi    100.00\n",
              "mia      90.78\n",
              "dodo    100.00\n",
              "dtype: float64"
            ]
          },
          "metadata": {
            "tags": []
          },
          "execution_count": 36
        }
      ]
    },
    {
      "cell_type": "code",
      "metadata": {
        "colab": {
          "base_uri": "https://localhost:8080/"
        },
        "id": "bcsjy0CPNhOK",
        "outputId": "98de09a2-48a5-47a5-a1d9-153299b3a6b7"
      },
      "source": [
        "a = None\n",
        "if(a is not None):\n",
        "  print(false)\n",
        "else:\n",
        "  print(True)\n",
        "print(not a)\n",
        "#bool(None)- false\n",
        "#not None - true"
      ],
      "execution_count": null,
      "outputs": [
        {
          "output_type": "stream",
          "text": [
            "True\n",
            "True\n"
          ],
          "name": "stdout"
        }
      ]
    },
    {
      "cell_type": "markdown",
      "metadata": {
        "id": "S3Xus1CUPgab"
      },
      "source": [
        "**\\INDEXES**\n",
        "\n",
        "> PANDAS USE INDEX TO FOR EASY SEARCHING (SIMILAR TO DICTIONARY OR HASHING)\n",
        "\n"
      ]
    },
    {
      "cell_type": "code",
      "metadata": {
        "colab": {
          "base_uri": "https://localhost:8080/"
        },
        "id": "M6tap6mxPz2q",
        "outputId": "14cf78ea-9f9c-4bf4-d1b3-397f3656c66c"
      },
      "source": [
        "import pandas as pd\n",
        "ser1 = pd.Series([1,2,3,4], index=['shivam','singh','charles','potter'])\n",
        "print(ser1['charles'])\n",
        "print()"
      ],
      "execution_count": null,
      "outputs": [
        {
          "output_type": "stream",
          "text": [
            "3\n",
            "\n"
          ],
          "name": "stdout"
        }
      ]
    },
    {
      "cell_type": "markdown",
      "metadata": {
        "id": "FLaqIoHeptZc"
      },
      "source": [
        "**ACCESSING ELEMENTS**"
      ]
    },
    {
      "cell_type": "code",
      "metadata": {
        "colab": {
          "base_uri": "https://localhost:8080/"
        },
        "id": "yCvBhk51qAdR",
        "outputId": "334a0e3f-da00-4bff-d0d0-ebca6a15bd79"
      },
      "source": [
        "ser1 = pd.Series(['s','h','i','v','a','m'])\n",
        "ser1"
      ],
      "execution_count": null,
      "outputs": [
        {
          "output_type": "execute_result",
          "data": {
            "text/plain": [
              "0    s\n",
              "1    h\n",
              "2    i\n",
              "3    v\n",
              "4    a\n",
              "5    m\n",
              "dtype: object"
            ]
          },
          "metadata": {
            "tags": []
          },
          "execution_count": 4
        }
      ]
    },
    {
      "cell_type": "code",
      "metadata": {
        "colab": {
          "base_uri": "https://localhost:8080/",
          "height": 35
        },
        "id": "uiYuK4F6qQVz",
        "outputId": "5f52467f-4940-496f-bed9-72da9f039989"
      },
      "source": [
        "ser1[2]"
      ],
      "execution_count": null,
      "outputs": [
        {
          "output_type": "execute_result",
          "data": {
            "application/vnd.google.colaboratory.intrinsic+json": {
              "type": "string"
            },
            "text/plain": [
              "'i'"
            ]
          },
          "metadata": {
            "tags": []
          },
          "execution_count": 5
        }
      ]
    },
    {
      "cell_type": "code",
      "metadata": {
        "colab": {
          "base_uri": "https://localhost:8080/"
        },
        "id": "FKmsqilJqaPc",
        "outputId": "8eb81837-2864-47e7-e9b9-6fc79fbfa946"
      },
      "source": [
        "ser1[0:4] #slicing"
      ],
      "execution_count": null,
      "outputs": [
        {
          "output_type": "execute_result",
          "data": {
            "text/plain": [
              "0    s\n",
              "1    h\n",
              "2    i\n",
              "3    v\n",
              "dtype: object"
            ]
          },
          "metadata": {
            "tags": []
          },
          "execution_count": 6
        }
      ]
    },
    {
      "cell_type": "code",
      "metadata": {
        "colab": {
          "base_uri": "https://localhost:8080/"
        },
        "id": "eB_-1Z5RqhPk",
        "outputId": "7d10a7a7-204a-49d8-d8f9-7081e610d303"
      },
      "source": [
        "ser1.values #value is an attribute and not a function"
      ],
      "execution_count": null,
      "outputs": [
        {
          "output_type": "execute_result",
          "data": {
            "text/plain": [
              "array(['s', 'h', 'i', 'v', 'a', 'm'], dtype=object)"
            ]
          },
          "metadata": {
            "tags": []
          },
          "execution_count": 7
        }
      ]
    },
    {
      "cell_type": "code",
      "metadata": {
        "colab": {
          "base_uri": "https://localhost:8080/"
        },
        "id": "XOo7E7oSqrVW",
        "outputId": "ee9f6ba6-df68-43ed-e0d9-227471920657"
      },
      "source": [
        "ser2 = pd.Series(['god','is','good','and','great'],[1,2,3,4,5])\n",
        "ser2"
      ],
      "execution_count": null,
      "outputs": [
        {
          "output_type": "execute_result",
          "data": {
            "text/plain": [
              "1      god\n",
              "2       is\n",
              "3     good\n",
              "4      and\n",
              "5    great\n",
              "dtype: object"
            ]
          },
          "metadata": {
            "tags": []
          },
          "execution_count": 8
        }
      ]
    },
    {
      "cell_type": "code",
      "metadata": {
        "colab": {
          "base_uri": "https://localhost:8080/"
        },
        "id": "Smbxdb1GrAFT",
        "outputId": "dd33ddb0-8cf9-4dec-a7c3-e784c5f98377"
      },
      "source": [
        "ser2[:3]"
      ],
      "execution_count": null,
      "outputs": [
        {
          "output_type": "execute_result",
          "data": {
            "text/plain": [
              "1     god\n",
              "2      is\n",
              "3    good\n",
              "dtype: object"
            ]
          },
          "metadata": {
            "tags": []
          },
          "execution_count": 9
        }
      ]
    },
    {
      "cell_type": "code",
      "metadata": {
        "colab": {
          "base_uri": "https://localhost:8080/"
        },
        "id": "dSCqy52-rZ-v",
        "outputId": "cbe5d323-8bf1-478c-ea47-179d26d69134"
      },
      "source": [
        "ser2.index"
      ],
      "execution_count": null,
      "outputs": [
        {
          "output_type": "execute_result",
          "data": {
            "text/plain": [
              "Int64Index([1, 2, 3, 4, 5], dtype='int64')"
            ]
          },
          "metadata": {
            "tags": []
          },
          "execution_count": 12
        }
      ]
    },
    {
      "cell_type": "code",
      "metadata": {
        "colab": {
          "base_uri": "https://localhost:8080/"
        },
        "id": "fDmxg6K2rGpb",
        "outputId": "9a7b8dc4-27e4-423e-9f54-0806a5cab744"
      },
      "source": [
        "ser2.values #to find out the values in the object"
      ],
      "execution_count": null,
      "outputs": [
        {
          "output_type": "execute_result",
          "data": {
            "text/plain": [
              "array(['god', 'is', 'good', 'and', 'great'], dtype=object)"
            ]
          },
          "metadata": {
            "tags": []
          },
          "execution_count": 13
        }
      ]
    },
    {
      "cell_type": "code",
      "metadata": {
        "colab": {
          "base_uri": "https://localhost:8080/"
        },
        "id": "QI_65pGtrdVQ",
        "outputId": "87dfa2a4-62de-41f4-afde-a3a94ad8149c"
      },
      "source": [
        "ser3 = pd.Series(['kol','devina','lorenzo','clearice','tom','cole','klaues'])\n",
        "ser3\n",
        "ser3.index\n",
        "ser3.values"
      ],
      "execution_count": null,
      "outputs": [
        {
          "output_type": "execute_result",
          "data": {
            "text/plain": [
              "array(['kol', 'devina', 'lorenzo', 'clearice', 'tom', 'cole', 'klaues'],\n",
              "      dtype=object)"
            ]
          },
          "metadata": {
            "tags": []
          },
          "execution_count": 16
        }
      ]
    },
    {
      "cell_type": "code",
      "metadata": {
        "colab": {
          "base_uri": "https://localhost:8080/"
        },
        "id": "o3S7ezmRsBke",
        "outputId": "14d6f68c-4f5a-4966-ca29-d00fef394864"
      },
      "source": [
        "ser3.drop(0,inplace=True)\n",
        "ser3"
      ],
      "execution_count": null,
      "outputs": [
        {
          "output_type": "execute_result",
          "data": {
            "text/plain": [
              "1      devina\n",
              "2     lorenzo\n",
              "3    clearice\n",
              "4         tom\n",
              "5        cole\n",
              "6      klaues\n",
              "dtype: object"
            ]
          },
          "metadata": {
            "tags": []
          },
          "execution_count": 18
        }
      ]
    },
    {
      "cell_type": "code",
      "metadata": {
        "colab": {
          "base_uri": "https://localhost:8080/"
        },
        "id": "NQ-We0l7sUYS",
        "outputId": "1cea4d3d-daca-4007-ab16-f54dedde7076"
      },
      "source": [
        "ser3.drop(3, inplace=True)\n",
        "ser3"
      ],
      "execution_count": null,
      "outputs": [
        {
          "output_type": "execute_result",
          "data": {
            "text/plain": [
              "1     devina\n",
              "2    lorenzo\n",
              "4        tom\n",
              "5       cole\n",
              "6     klaues\n",
              "dtype: object"
            ]
          },
          "metadata": {
            "tags": []
          },
          "execution_count": 19
        }
      ]
    },
    {
      "cell_type": "code",
      "metadata": {
        "colab": {
          "base_uri": "https://localhost:8080/"
        },
        "id": "Yx5QSg8ZslWI",
        "outputId": "f54663af-cc4a-4fdc-a995-41f8016e4ba0"
      },
      "source": [
        "ser3[3] = 'nick'\n",
        "ser3"
      ],
      "execution_count": null,
      "outputs": [
        {
          "output_type": "execute_result",
          "data": {
            "text/plain": [
              "1     devina\n",
              "2    lorenzo\n",
              "4        tom\n",
              "5       cole\n",
              "6     klaues\n",
              "3       nick\n",
              "dtype: object"
            ]
          },
          "metadata": {
            "tags": []
          },
          "execution_count": 20
        }
      ]
    },
    {
      "cell_type": "markdown",
      "metadata": {
        "id": "c_AURm9gsxDn"
      },
      "source": [
        "**DATAFRMAES**\n",
        "\n",
        "> included in pandas\n",
        "row measures\n",
        "column data for the variable under study\n",
        "\n",
        "2D data\n",
        "Data frames consists of\n",
        "\n"
      ]
    }
  ]
}