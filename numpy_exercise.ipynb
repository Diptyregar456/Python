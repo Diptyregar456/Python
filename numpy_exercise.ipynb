{
  "nbformat": 4,
  "nbformat_minor": 0,
  "metadata": {
    "colab": {
      "name": "numpy exercise",
      "provenance": [],
      "collapsed_sections": [],
      "authorship_tag": "ABX9TyNwkk+ffPTl7Ir0PKn3IeCQ",
      "include_colab_link": true
    },
    "kernelspec": {
      "name": "python3",
      "display_name": "Python 3"
    },
    "language_info": {
      "name": "python"
    }
  },
  "cells": [
    {
      "cell_type": "markdown",
      "metadata": {
        "id": "view-in-github",
        "colab_type": "text"
      },
      "source": [
        "<a href=\"https://colab.research.google.com/github/Diptyregar456/Python/blob/main/numpy_exercise.ipynb\" target=\"_parent\"><img src=\"https://colab.research.google.com/assets/colab-badge.svg\" alt=\"Open In Colab\"/></a>"
      ]
    },
    {
      "cell_type": "markdown",
      "metadata": {
        "id": "3DFWytpVSl5F"
      },
      "source": [
        "**IMPORT THE NUMPY PACKAGE UNDER THE NAME NP**"
      ]
    },
    {
      "cell_type": "code",
      "metadata": {
        "id": "wFJZyUIxSsd3"
      },
      "source": [
        "import numpy as np"
      ],
      "execution_count": null,
      "outputs": []
    },
    {
      "cell_type": "markdown",
      "metadata": {
        "id": "jPK-ehMmUN5G"
      },
      "source": [
        "**PRINT THE NUMPY VERSION AND THE CONFIGURATION**"
      ]
    },
    {
      "cell_type": "code",
      "metadata": {
        "colab": {
          "base_uri": "https://localhost:8080/"
        },
        "id": "eRsvzlnfUUtZ",
        "outputId": "02d5be94-dff2-4ee2-b702-5caa0b64043b"
      },
      "source": [
        "print(np.__version__)\n",
        "np.show_config()"
      ],
      "execution_count": null,
      "outputs": [
        {
          "output_type": "stream",
          "text": [
            "1.19.5\n",
            "blas_mkl_info:\n",
            "  NOT AVAILABLE\n",
            "blis_info:\n",
            "  NOT AVAILABLE\n",
            "openblas_info:\n",
            "    libraries = ['openblas', 'openblas']\n",
            "    library_dirs = ['/usr/local/lib']\n",
            "    language = c\n",
            "    define_macros = [('HAVE_CBLAS', None)]\n",
            "blas_opt_info:\n",
            "    libraries = ['openblas', 'openblas']\n",
            "    library_dirs = ['/usr/local/lib']\n",
            "    language = c\n",
            "    define_macros = [('HAVE_CBLAS', None)]\n",
            "lapack_mkl_info:\n",
            "  NOT AVAILABLE\n",
            "openblas_lapack_info:\n",
            "    libraries = ['openblas', 'openblas']\n",
            "    library_dirs = ['/usr/local/lib']\n",
            "    language = c\n",
            "    define_macros = [('HAVE_CBLAS', None)]\n",
            "lapack_opt_info:\n",
            "    libraries = ['openblas', 'openblas']\n",
            "    library_dirs = ['/usr/local/lib']\n",
            "    language = c\n",
            "    define_macros = [('HAVE_CBLAS', None)]\n"
          ],
          "name": "stdout"
        }
      ]
    },
    {
      "cell_type": "markdown",
      "metadata": {
        "id": "J0Y05fUyVFSi"
      },
      "source": [
        "**CREATE A NULL FECTOR OD SIZE 10**"
      ]
    },
    {
      "cell_type": "code",
      "metadata": {
        "colab": {
          "base_uri": "https://localhost:8080/"
        },
        "id": "A5APUw7mVKMA",
        "outputId": "14be5f8f-88c9-4c90-ca99-55cc1513ab03"
      },
      "source": [
        "Z = np.zeros(10)\n",
        "Z"
      ],
      "execution_count": null,
      "outputs": [
        {
          "output_type": "execute_result",
          "data": {
            "text/plain": [
              "array([0., 0., 0., 0., 0., 0., 0., 0., 0., 0.])"
            ]
          },
          "metadata": {
            "tags": []
          },
          "execution_count": 3
        }
      ]
    },
    {
      "cell_type": "markdown",
      "metadata": {
        "id": "pm4zHB4AVb2U"
      },
      "source": [
        "**HOW TO GET DOCUMENTATION OF NUMPY ADD FUNCTION FROM THE COMMAND LINE**"
      ]
    },
    {
      "cell_type": "code",
      "metadata": {
        "id": "ov-QD9tsVkR3"
      },
      "source": [
        "#python-c import {\"numpy; numpy.info(numpy.add)\"}"
      ],
      "execution_count": null,
      "outputs": []
    },
    {
      "cell_type": "markdown",
      "metadata": {
        "id": "_yBd2vqXWPFB"
      },
      "source": [
        "**CREATE A NULL VECTOR OF SIZE 10 BUT THE FIFTH VALUE WHICH IS 1**"
      ]
    },
    {
      "cell_type": "code",
      "metadata": {
        "colab": {
          "base_uri": "https://localhost:8080/"
        },
        "id": "s9WKSoujWYaY",
        "outputId": "51714549-b931-4aa5-93df-b3401f47f48e"
      },
      "source": [
        "z = np.zeros(10)\n",
        "z[4] = 1\n",
        "z[6] = 2\n",
        "z"
      ],
      "execution_count": null,
      "outputs": [
        {
          "output_type": "execute_result",
          "data": {
            "text/plain": [
              "array([0., 0., 0., 0., 1., 0., 2., 0., 0., 0.])"
            ]
          },
          "metadata": {
            "tags": []
          },
          "execution_count": 11
        }
      ]
    },
    {
      "cell_type": "markdown",
      "metadata": {
        "id": "oa_SAa3xWtO9"
      },
      "source": [
        "**CREATE A VECTOR WITH VALUES RANGING FROM 10 TO 49**"
      ]
    },
    {
      "cell_type": "code",
      "metadata": {
        "colab": {
          "base_uri": "https://localhost:8080/"
        },
        "id": "1g4z7CKgW8l8",
        "outputId": "9974e72e-1830-4353-e0ff-ddc07ba9541f"
      },
      "source": [
        "z = np.arange(10,49)\n",
        "z"
      ],
      "execution_count": null,
      "outputs": [
        {
          "output_type": "execute_result",
          "data": {
            "text/plain": [
              "array([10, 11, 12, 13, 14, 15, 16, 17, 18, 19, 20, 21, 22, 23, 24, 25, 26,\n",
              "       27, 28, 29, 30, 31, 32, 33, 34, 35, 36, 37, 38, 39, 40, 41, 42, 43,\n",
              "       44, 45, 46, 47, 48])"
            ]
          },
          "metadata": {
            "tags": []
          },
          "execution_count": 12
        }
      ]
    },
    {
      "cell_type": "markdown",
      "metadata": {
        "id": "dNrKiFkyXLQO"
      },
      "source": [
        "**REVERSE A VECTOR(FIRST ELEMENT BECOMES LAST)**"
      ]
    },
    {
      "cell_type": "code",
      "metadata": {
        "colab": {
          "base_uri": "https://localhost:8080/"
        },
        "id": "cX4dYTP2XsKB",
        "outputId": "b0a61670-51ca-4aa7-e9b6-ef6acb4daea0"
      },
      "source": [
        "Z = np.arange(50)\n",
        "Z = Z[::-1]\n",
        "Z"
      ],
      "execution_count": null,
      "outputs": [
        {
          "output_type": "execute_result",
          "data": {
            "text/plain": [
              "array([49, 48, 47, 46, 45, 44, 43, 42, 41, 40, 39, 38, 37, 36, 35, 34, 33,\n",
              "       32, 31, 30, 29, 28, 27, 26, 25, 24, 23, 22, 21, 20, 19, 18, 17, 16,\n",
              "       15, 14, 13, 12, 11, 10,  9,  8,  7,  6,  5,  4,  3,  2,  1,  0])"
            ]
          },
          "metadata": {
            "tags": []
          },
          "execution_count": 14
        }
      ]
    },
    {
      "cell_type": "markdown",
      "metadata": {
        "id": "tGvFgGAdYK2y"
      },
      "source": [
        "**CREATE A 3*3 MATRIX WITH THE VALUES RANGING FROM 0 TO 8**"
      ]
    },
    {
      "cell_type": "code",
      "metadata": {
        "colab": {
          "base_uri": "https://localhost:8080/"
        },
        "id": "5Z7UO3HfYVNs",
        "outputId": "08a118e8-f7d5-4ae5-c4f7-0cb2c7a6e6c3"
      },
      "source": [
        "z = np.arange(9).reshape(3,3)\n",
        "z"
      ],
      "execution_count": null,
      "outputs": [
        {
          "output_type": "execute_result",
          "data": {
            "text/plain": [
              "array([[0, 1, 2],\n",
              "       [3, 4, 5],\n",
              "       [6, 7, 8]])"
            ]
          },
          "metadata": {
            "tags": []
          },
          "execution_count": 18
        }
      ]
    },
    {
      "cell_type": "markdown",
      "metadata": {
        "id": "y4AtKSStY327"
      },
      "source": [
        "FIND INDICES OF NON-ZERO ELEMENTS FROM [1,2,0,0,4,0]"
      ]
    },
    {
      "cell_type": "code",
      "metadata": {
        "colab": {
          "base_uri": "https://localhost:8080/"
        },
        "id": "XpvcCls8ZCr3",
        "outputId": "127accf8-4ab7-4aa3-ccc4-ee24e88feca9"
      },
      "source": [
        "z = np.nonzero([1,2,0,0,4,0])\n",
        "z\n",
        "z = np.arange(1,9)\n",
        "z"
      ],
      "execution_count": null,
      "outputs": [
        {
          "output_type": "execute_result",
          "data": {
            "text/plain": [
              "array([1, 2, 3, 4, 5, 6, 7, 8])"
            ]
          },
          "metadata": {
            "tags": []
          },
          "execution_count": 25
        }
      ]
    },
    {
      "cell_type": "markdown",
      "metadata": {
        "id": "KLndSbEnaLjR"
      },
      "source": [
        "CREATE 3*3 IDENTITY matrix\n",
        "\n"
      ]
    },
    {
      "cell_type": "code",
      "metadata": {
        "colab": {
          "base_uri": "https://localhost:8080/"
        },
        "id": "-Prp_7QEo_1N",
        "outputId": "8fec4ce1-8ac9-46fd-b0c0-b1ffd3d8daee"
      },
      "source": [
        "import numpy as np\n",
        "z = np.eye(3)\n",
        "z"
      ],
      "execution_count": null,
      "outputs": [
        {
          "output_type": "execute_result",
          "data": {
            "text/plain": [
              "array([[1., 0., 0.],\n",
              "       [0., 1., 0.],\n",
              "       [0., 0., 1.]])"
            ]
          },
          "metadata": {
            "tags": []
          },
          "execution_count": 2
        }
      ]
    },
    {
      "cell_type": "code",
      "metadata": {
        "colab": {
          "base_uri": "https://localhost:8080/"
        },
        "id": "rs6lelDppcXx",
        "outputId": "43d14209-20f6-4d70-86ac-dc5ae99d987c"
      },
      "source": [
        "z = np.eye(3)\n",
        "z"
      ],
      "execution_count": null,
      "outputs": [
        {
          "output_type": "execute_result",
          "data": {
            "text/plain": [
              "array([[1., 0., 0.],\n",
              "       [0., 1., 0.],\n",
              "       [0., 0., 1.]])"
            ]
          },
          "metadata": {
            "tags": []
          },
          "execution_count": 3
        }
      ]
    },
    {
      "cell_type": "markdown",
      "metadata": {
        "id": "0j12-Fvzpjbj"
      },
      "source": [
        "**CREATE 3X3X3 ARRAY WITH RANDOM VALUES**"
      ]
    },
    {
      "cell_type": "code",
      "metadata": {
        "colab": {
          "base_uri": "https://localhost:8080/"
        },
        "id": "h4zySgizpsE2",
        "outputId": "c3d3bc58-5830-4230-aeba-b68b1daaf9f8"
      },
      "source": [
        "z = np.random.random((3,3,3))\n",
        "z"
      ],
      "execution_count": null,
      "outputs": [
        {
          "output_type": "execute_result",
          "data": {
            "text/plain": [
              "array([[[0.48526807, 0.3131007 , 0.90535717],\n",
              "        [0.77781871, 0.12165774, 0.54699355],\n",
              "        [0.12892484, 0.98336543, 0.41932789]],\n",
              "\n",
              "       [[0.81471237, 0.00173151, 0.80640371],\n",
              "        [0.48991584, 0.68340786, 0.49046123],\n",
              "        [0.90110926, 0.30344956, 0.90103523]],\n",
              "\n",
              "       [[0.77948959, 0.04946879, 0.25935624],\n",
              "        [0.16671407, 0.2440538 , 0.515258  ],\n",
              "        [0.15140111, 0.50416686, 0.38323058]]])"
            ]
          },
          "metadata": {
            "tags": []
          },
          "execution_count": 4
        }
      ]
    },
    {
      "cell_type": "code",
      "metadata": {
        "colab": {
          "base_uri": "https://localhost:8080/"
        },
        "id": "eVT5vlqPpgip",
        "outputId": "69e5552c-31e7-4209-aca9-e3c8949b6373"
      },
      "source": [
        "z = np.random.randn(3,3)\n",
        "z"
      ],
      "execution_count": null,
      "outputs": [
        {
          "output_type": "execute_result",
          "data": {
            "text/plain": [
              "array([[-0.96194712,  0.20682266,  0.15313474],\n",
              "       [-1.68109021, -0.94071285, -0.34467517],\n",
              "       [ 1.07603047, -0.83756113, -0.88815081]])"
            ]
          },
          "metadata": {
            "tags": []
          },
          "execution_count": 6
        }
      ]
    },
    {
      "cell_type": "markdown",
      "metadata": {
        "id": "CMJx7pIKqCxV"
      },
      "source": [
        "**CREATE A 10X10 ARRAY WITH RANDOM VALUES AAND FIND THE MINIMUM AND MAXIMUM VALUES**"
      ]
    },
    {
      "cell_type": "code",
      "metadata": {
        "colab": {
          "base_uri": "https://localhost:8080/"
        },
        "id": "hr7sOt-vqP0Z",
        "outputId": "4ccaf633-e866-4993-caa6-3f26b56d79f6"
      },
      "source": [
        "z = np.random.randn(10,10)\n",
        "Zmin = z.min()\n",
        "z\n",
        "Zmax = z.max()\n",
        "z\n",
        "Zmean = z.mean()\n",
        "z\n",
        "Zstd = z.std()\n",
        "z"
      ],
      "execution_count": null,
      "outputs": [
        {
          "output_type": "execute_result",
          "data": {
            "text/plain": [
              "array([[-0.56111877, -0.15550086, -0.50247054,  1.0706219 , -0.19776222,\n",
              "         0.10425498,  0.73521978,  0.66347178,  0.43290139, -2.17165487],\n",
              "       [ 0.14674205, -1.39213263, -0.12558176,  1.15958293,  0.79537737,\n",
              "        -0.71059705,  0.47828422,  1.79525789,  0.97398621,  0.65332065],\n",
              "       [-0.54791588,  1.48024753, -0.31630142,  0.03574591,  1.05053256,\n",
              "         0.20657307,  0.23284223, -1.44566213,  0.45618435,  0.43770671],\n",
              "       [ 1.31636197,  1.53157778,  1.2970364 , -0.17254205, -0.88606915,\n",
              "        -1.91461669, -0.58126177, -1.2123435 , -1.12433119,  1.14182889],\n",
              "       [-0.93474481,  0.88775474,  0.75702502,  1.50116564,  0.8476439 ,\n",
              "        -0.11951077,  0.21541265, -0.4897184 , -0.14012315, -1.09173035],\n",
              "       [-1.1503273 , -1.46676488, -0.44529266,  1.07592598, -0.71955391,\n",
              "        -0.12848358,  0.89336201, -0.29992744, -0.06586135, -0.89453919],\n",
              "       [ 0.20519823,  0.57887837, -1.53365603,  1.43900515, -1.72438683,\n",
              "         0.50814094, -0.35357105, -0.17654876, -0.21368182,  0.19012934],\n",
              "       [ 0.72484091,  0.29791844,  0.70903411,  2.36200517,  1.45342433,\n",
              "         0.3368356 ,  0.38113116, -0.13643378,  1.10642074, -0.99724601],\n",
              "       [-0.3682593 , -1.3913255 ,  2.62056094,  1.8139725 ,  1.55684429,\n",
              "         0.37176371,  0.96131818, -0.06052625, -0.09223188, -0.34925205],\n",
              "       [ 0.33169711,  0.64299723,  0.73588622,  1.55496568, -0.72870318,\n",
              "         0.94140994, -1.1648208 ,  1.56899043,  1.40235457, -0.30127599]])"
            ]
          },
          "metadata": {
            "tags": []
          },
          "execution_count": 9
        }
      ]
    },
    {
      "cell_type": "markdown",
      "metadata": {
        "id": "Lhhbevb0rY-4"
      },
      "source": [
        "**CREATE A RANDOM VECTOR OF SIZE 30 AND FIND THE MEAN VALUE**"
      ]
    },
    {
      "cell_type": "code",
      "metadata": {
        "colab": {
          "base_uri": "https://localhost:8080/"
        },
        "id": "a_aW4b0pshOB",
        "outputId": "400c5364-c926-49e3-b218-bbe23fc70afb"
      },
      "source": [
        "z = np.random.rand(30)\n",
        "m = z.mean()\n",
        "m"
      ],
      "execution_count": null,
      "outputs": [
        {
          "output_type": "execute_result",
          "data": {
            "text/plain": [
              "0.5277923736889063"
            ]
          },
          "metadata": {
            "tags": []
          },
          "execution_count": 10
        }
      ]
    },
    {
      "cell_type": "markdown",
      "metadata": {
        "id": "aRIWIBQiswig"
      },
      "source": [
        "**CREATE 2D ARRAY WITH 1 ON THE BORDER AND 0 INSIDE**"
      ]
    },
    {
      "cell_type": "code",
      "metadata": {
        "id": "ggu4cVZVsuKw",
        "colab": {
          "base_uri": "https://localhost:8080/"
        },
        "outputId": "21ae9ac9-6f41-4300-ff2a-71972e600dd1"
      },
      "source": [
        "import numpy as np\n",
        "z = np.array((2,2))\n",
        "z"
      ],
      "execution_count": null,
      "outputs": [
        {
          "output_type": "execute_result",
          "data": {
            "text/plain": [
              "array([2, 2])"
            ]
          },
          "metadata": {
            "tags": []
          },
          "execution_count": 4
        }
      ]
    },
    {
      "cell_type": "code",
      "metadata": {
        "colab": {
          "base_uri": "https://localhost:8080/"
        },
        "id": "CfMoCOhz2FKA",
        "outputId": "17635a05-a5b4-453d-9098-77211d4632d8"
      },
      "source": [
        "z = np.ones((10,10))\n",
        "z[1:-1,1:-1] = 0\n",
        "z"
      ],
      "execution_count": null,
      "outputs": [
        {
          "output_type": "execute_result",
          "data": {
            "text/plain": [
              "array([[1., 1., 1., 1., 1., 1., 1., 1., 1., 1.],\n",
              "       [1., 0., 0., 0., 0., 0., 0., 0., 0., 1.],\n",
              "       [1., 0., 0., 0., 0., 0., 0., 0., 0., 1.],\n",
              "       [1., 0., 0., 0., 0., 0., 0., 0., 0., 1.],\n",
              "       [1., 0., 0., 0., 0., 0., 0., 0., 0., 1.],\n",
              "       [1., 0., 0., 0., 0., 0., 0., 0., 0., 1.],\n",
              "       [1., 0., 0., 0., 0., 0., 0., 0., 0., 1.],\n",
              "       [1., 0., 0., 0., 0., 0., 0., 0., 0., 1.],\n",
              "       [1., 0., 0., 0., 0., 0., 0., 0., 0., 1.],\n",
              "       [1., 1., 1., 1., 1., 1., 1., 1., 1., 1.]])"
            ]
          },
          "metadata": {
            "tags": []
          },
          "execution_count": 6
        }
      ]
    },
    {
      "cell_type": "code",
      "metadata": {
        "colab": {
          "base_uri": "https://localhost:8080/"
        },
        "id": "rzEmDwP23Gzj",
        "outputId": "178fdf6d-8068-44f6-abfb-deaaafb723f9"
      },
      "source": [
        "z = np.eye(10,10)\n",
        "z[1:-1,1:-1]=0\n",
        "z   #so we use ones because we need 1 on the border and 0 inside the border"
      ],
      "execution_count": null,
      "outputs": [
        {
          "output_type": "execute_result",
          "data": {
            "text/plain": [
              "array([[1., 0., 0., 0., 0., 0., 0., 0., 0., 0.],\n",
              "       [0., 0., 0., 0., 0., 0., 0., 0., 0., 0.],\n",
              "       [0., 0., 0., 0., 0., 0., 0., 0., 0., 0.],\n",
              "       [0., 0., 0., 0., 0., 0., 0., 0., 0., 0.],\n",
              "       [0., 0., 0., 0., 0., 0., 0., 0., 0., 0.],\n",
              "       [0., 0., 0., 0., 0., 0., 0., 0., 0., 0.],\n",
              "       [0., 0., 0., 0., 0., 0., 0., 0., 0., 0.],\n",
              "       [0., 0., 0., 0., 0., 0., 0., 0., 0., 0.],\n",
              "       [0., 0., 0., 0., 0., 0., 0., 0., 0., 0.],\n",
              "       [0., 0., 0., 0., 0., 0., 0., 0., 0., 1.]])"
            ]
          },
          "metadata": {
            "tags": []
          },
          "execution_count": 8
        }
      ]
    },
    {
      "cell_type": "markdown",
      "metadata": {
        "id": "tm_uIauL3m2R"
      },
      "source": [
        "**WHAT IS THE RESULT OF THE FOLLOWING EXPRESSION**"
      ]
    },
    {
      "cell_type": "code",
      "metadata": {
        "colab": {
          "base_uri": "https://localhost:8080/"
        },
        "id": "K_B30STm3w3w",
        "outputId": "89838df0-17e0-4466-f463-561b632aece2"
      },
      "source": [
        "0*np.nan\n",
        "np.nan == np.nan\n",
        "np.inf > np.nan\n",
        "np.nan - np.nan\n",
        "0.3 == 3*0.1"
      ],
      "execution_count": null,
      "outputs": [
        {
          "output_type": "execute_result",
          "data": {
            "text/plain": [
              "False"
            ]
          },
          "metadata": {
            "tags": []
          },
          "execution_count": 9
        }
      ]
    },
    {
      "cell_type": "markdown",
      "metadata": {
        "id": "3n5ZhjJ04XCY"
      },
      "source": [
        "**CREATE A 5X5 MATRIX WITH VALUES 1,2,3,4 JUST BELOW THE DIAGONAL**"
      ]
    },
    {
      "cell_type": "code",
      "metadata": {
        "colab": {
          "base_uri": "https://localhost:8080/"
        },
        "id": "WQHu93V34kml",
        "outputId": "62c681b8-8e12-40cf-e311-6412fb3f784a"
      },
      "source": [
        "z = np.diag(1+np.arange(5))\n",
        "z"
      ],
      "execution_count": null,
      "outputs": [
        {
          "output_type": "execute_result",
          "data": {
            "text/plain": [
              "array([[1, 0, 0, 0, 0],\n",
              "       [0, 2, 0, 0, 0],\n",
              "       [0, 0, 3, 0, 0],\n",
              "       [0, 0, 0, 4, 0],\n",
              "       [0, 0, 0, 0, 5]])"
            ]
          },
          "metadata": {
            "tags": []
          },
          "execution_count": 19
        }
      ]
    },
    {
      "cell_type": "markdown",
      "metadata": {
        "id": "eohtR9wD69VT"
      },
      "source": [
        "**CREATE 8X8 matrix and fill it with a checkerboard pattern**"
      ]
    },
    {
      "cell_type": "code",
      "metadata": {
        "colab": {
          "base_uri": "https://localhost:8080/"
        },
        "id": "GuDXQr1h68V6",
        "outputId": "1c143395-3b06-4752-c649-8c2c956cb703"
      },
      "source": [
        "z = np.diag(1+np.arange(8))\n",
        "z"
      ],
      "execution_count": null,
      "outputs": [
        {
          "output_type": "execute_result",
          "data": {
            "text/plain": [
              "array([[1, 0, 0, 0, 0, 0, 0, 0],\n",
              "       [0, 2, 0, 0, 0, 0, 0, 0],\n",
              "       [0, 0, 3, 0, 0, 0, 0, 0],\n",
              "       [0, 0, 0, 4, 0, 0, 0, 0],\n",
              "       [0, 0, 0, 0, 5, 0, 0, 0],\n",
              "       [0, 0, 0, 0, 0, 6, 0, 0],\n",
              "       [0, 0, 0, 0, 0, 0, 7, 0],\n",
              "       [0, 0, 0, 0, 0, 0, 0, 8]])"
            ]
          },
          "metadata": {
            "tags": []
          },
          "execution_count": 20
        }
      ]
    },
    {
      "cell_type": "code",
      "metadata": {
        "colab": {
          "base_uri": "https://localhost:8080/"
        },
        "id": "WxCOh82q7kjg",
        "outputId": "cb30eea0-9af5-4210-ae0e-dc5fd48a7746"
      },
      "source": [
        "#fill it with checker board\n",
        "z = np.zeros((8,8), dtype=int)\n",
        "z[1::2,::2] = 1\n",
        "z[::2,1::2] = 1\n",
        "z"
      ],
      "execution_count": null,
      "outputs": [
        {
          "output_type": "execute_result",
          "data": {
            "text/plain": [
              "array([[0, 1, 0, 1, 0, 1, 0, 1],\n",
              "       [1, 0, 1, 0, 1, 0, 1, 0],\n",
              "       [0, 1, 0, 1, 0, 1, 0, 1],\n",
              "       [1, 0, 1, 0, 1, 0, 1, 0],\n",
              "       [0, 1, 0, 1, 0, 1, 0, 1],\n",
              "       [1, 0, 1, 0, 1, 0, 1, 0],\n",
              "       [0, 1, 0, 1, 0, 1, 0, 1],\n",
              "       [1, 0, 1, 0, 1, 0, 1, 0]])"
            ]
          },
          "metadata": {
            "tags": []
          },
          "execution_count": 21
        }
      ]
    },
    {
      "cell_type": "markdown",
      "metadata": {
        "id": "SwnvO_dS8hGL"
      },
      "source": [
        "**CONSIDER A (6,7,8) SHAPE ARRAY ,WHAT IS THE INDEX (X,Y,Z) OF THE 100 TH ELEMENT **"
      ]
    },
    {
      "cell_type": "code",
      "metadata": {
        "colab": {
          "base_uri": "https://localhost:8080/"
        },
        "id": "9qZro3mR8wT8",
        "outputId": "a5680a94-4cc2-4869-df20-6b094772f265"
      },
      "source": [
        "print(np.unravel_index(100,(6,7,8)))"
      ],
      "execution_count": null,
      "outputs": [
        {
          "output_type": "stream",
          "text": [
            "(1, 5, 4)\n"
          ],
          "name": "stdout"
        }
      ]
    },
    {
      "cell_type": "markdown",
      "metadata": {
        "id": "xOpfBpRs87yv"
      },
      "source": [
        "**create cheacer board 8x8 matrix with tile function**"
      ]
    },
    {
      "cell_type": "code",
      "metadata": {
        "colab": {
          "base_uri": "https://localhost:8080/"
        },
        "id": "LUEtiHRL9EG2",
        "outputId": "dd8cbbc2-bb61-45fe-8d55-e943fe6a4a3e"
      },
      "source": [
        "z = np.tile(np.array([[0,1],[1,0]]),(4,4))\n",
        "z"
      ],
      "execution_count": null,
      "outputs": [
        {
          "output_type": "execute_result",
          "data": {
            "text/plain": [
              "array([[0, 1, 0, 1, 0, 1, 0, 1],\n",
              "       [1, 0, 1, 0, 1, 0, 1, 0],\n",
              "       [0, 1, 0, 1, 0, 1, 0, 1],\n",
              "       [1, 0, 1, 0, 1, 0, 1, 0],\n",
              "       [0, 1, 0, 1, 0, 1, 0, 1],\n",
              "       [1, 0, 1, 0, 1, 0, 1, 0],\n",
              "       [0, 1, 0, 1, 0, 1, 0, 1],\n",
              "       [1, 0, 1, 0, 1, 0, 1, 0]])"
            ]
          },
          "metadata": {
            "tags": []
          },
          "execution_count": 26
        }
      ]
    },
    {
      "cell_type": "markdown",
      "metadata": {
        "id": "F3zcCnHf9bvC"
      },
      "source": [
        "**5x5 random matrix**"
      ]
    },
    {
      "cell_type": "code",
      "metadata": {
        "colab": {
          "base_uri": "https://localhost:8080/"
        },
        "id": "LJInZtUt9lRT",
        "outputId": "905eb9de-1a0a-49a8-a23d-43562e354c5f"
      },
      "source": [
        "z = np.random.random((5,5))\n",
        "z\n",
        "z = np.random.random((5,5))\n",
        "zmax,zmin = z.max(), z.min()\n",
        "z = (z-zmin)/(zmax-zmin)\n",
        "z"
      ],
      "execution_count": null,
      "outputs": [
        {
          "output_type": "execute_result",
          "data": {
            "text/plain": [
              "array([[0.1332465 , 0.        , 0.62068986, 0.17805565, 0.17926077],\n",
              "       [0.39158522, 0.84066926, 0.84511752, 0.10974067, 0.64186861],\n",
              "       [0.46577074, 0.15985734, 0.41411822, 0.42715008, 0.64448775],\n",
              "       [0.90312914, 0.2777928 , 0.63326917, 0.90375298, 0.54335933],\n",
              "       [1.        , 0.18045973, 0.35699979, 0.17489539, 0.81147412]])"
            ]
          },
          "metadata": {
            "tags": []
          },
          "execution_count": 28
        }
      ]
    },
    {
      "cell_type": "markdown",
      "metadata": {
        "id": "eNxnJgRP9_Yh"
      },
      "source": [
        "CREATE A CUSTOM DTYPE THAT DESCRIBE A COLOR AS FOUR UNISGNED BYTES(RGBA)****"
      ]
    },
    {
      "cell_type": "code",
      "metadata": {
        "id": "5DW_PTbf-QJO"
      },
      "source": [
        "color = np.dtype([('r',np.unyte,1)])"
      ],
      "execution_count": null,
      "outputs": []
    },
    {
      "cell_type": "markdown",
      "metadata": {
        "id": "rZNqe9od-iBz"
      },
      "source": [
        "**MULTIPLY A 5X3 MATRIX BY 3X2**"
      ]
    },
    {
      "cell_type": "code",
      "metadata": {
        "colab": {
          "base_uri": "https://localhost:8080/"
        },
        "id": "XvuqWA2n-ofM",
        "outputId": "f68f7d78-f12a-44d6-d047-8037107f7f2b"
      },
      "source": [
        "z = np.dot(np.ones((5,3)),np.ones((3,2)))\n",
        "z"
      ],
      "execution_count": null,
      "outputs": [
        {
          "output_type": "execute_result",
          "data": {
            "text/plain": [
              "array([[3., 3.],\n",
              "       [3., 3.],\n",
              "       [3., 3.],\n",
              "       [3., 3.],\n",
              "       [3., 3.]])"
            ]
          },
          "metadata": {
            "tags": []
          },
          "execution_count": 30
        }
      ]
    },
    {
      "cell_type": "code",
      "metadata": {
        "colab": {
          "base_uri": "https://localhost:8080/"
        },
        "id": "GjvQDLM4_Jsd",
        "outputId": "9d08cae5-e07e-42a4-803b-648c939a4622"
      },
      "source": [
        "z = np.dot(np.arange(5,3),np.arange(3,2))\n",
        "z"
      ],
      "execution_count": null,
      "outputs": [
        {
          "output_type": "execute_result",
          "data": {
            "text/plain": [
              "0"
            ]
          },
          "metadata": {
            "tags": []
          },
          "execution_count": 32
        }
      ]
    },
    {
      "cell_type": "code",
      "metadata": {
        "colab": {
          "base_uri": "https://localhost:8080/"
        },
        "id": "DJeA9ieIAZfS",
        "outputId": "6545371f-2bec-489e-cf30-a5f620cba595"
      },
      "source": [
        "z = np.dot(np.eye(5,3),np.eye(3,2))\n",
        "z"
      ],
      "execution_count": null,
      "outputs": [
        {
          "output_type": "execute_result",
          "data": {
            "text/plain": [
              "array([[1., 0.],\n",
              "       [0., 1.],\n",
              "       [0., 0.],\n",
              "       [0., 0.],\n",
              "       [0., 0.]])"
            ]
          },
          "metadata": {
            "tags": []
          },
          "execution_count": 33
        }
      ]
    },
    {
      "cell_type": "markdown",
      "metadata": {
        "id": "0-Grp_anArJF"
      },
      "source": [
        "**WHAT IS THE RESULT OF FOLLOWING EXPRESSION**"
      ]
    },
    {
      "cell_type": "code",
      "metadata": {
        "colab": {
          "base_uri": "https://localhost:8080/"
        },
        "id": "WZ7u4PzaAwTF",
        "outputId": "d22fe2bd-a867-4c59-eff0-8985fdfe53ba"
      },
      "source": [
        "np.array(0)//np.array(0)"
      ],
      "execution_count": null,
      "outputs": [
        {
          "output_type": "stream",
          "text": [
            "/usr/local/lib/python3.7/dist-packages/ipykernel_launcher.py:1: RuntimeWarning: divide by zero encountered in floor_divide\n",
            "  \"\"\"Entry point for launching an IPython kernel.\n"
          ],
          "name": "stderr"
        },
        {
          "output_type": "execute_result",
          "data": {
            "text/plain": [
              "0"
            ]
          },
          "metadata": {
            "tags": []
          },
          "execution_count": 34
        }
      ]
    },
    {
      "cell_type": "code",
      "metadata": {
        "colab": {
          "base_uri": "https://localhost:8080/"
        },
        "id": "mpR_ag6TA4lp",
        "outputId": "26b332a2-b65c-4b5d-b21d-67c6d3d13106"
      },
      "source": [
        "np.array(0)//np.array(0.)"
      ],
      "execution_count": null,
      "outputs": [
        {
          "output_type": "stream",
          "text": [
            "/usr/local/lib/python3.7/dist-packages/ipykernel_launcher.py:1: RuntimeWarning: invalid value encountered in floor_divide\n",
            "  \"\"\"Entry point for launching an IPython kernel.\n"
          ],
          "name": "stderr"
        },
        {
          "output_type": "execute_result",
          "data": {
            "text/plain": [
              "nan"
            ]
          },
          "metadata": {
            "tags": []
          },
          "execution_count": 35
        }
      ]
    },
    {
      "cell_type": "code",
      "metadata": {
        "colab": {
          "base_uri": "https://localhost:8080/"
        },
        "id": "vi361uZ4BDtt",
        "outputId": "807c9ec8-5799-44f9-b8bc-2b889cfcd70f"
      },
      "source": [
        "np.array(0)/np.array(0)"
      ],
      "execution_count": null,
      "outputs": [
        {
          "output_type": "stream",
          "text": [
            "/usr/local/lib/python3.7/dist-packages/ipykernel_launcher.py:1: RuntimeWarning: invalid value encountered in true_divide\n",
            "  \"\"\"Entry point for launching an IPython kernel.\n"
          ],
          "name": "stderr"
        },
        {
          "output_type": "execute_result",
          "data": {
            "text/plain": [
              "nan"
            ]
          },
          "metadata": {
            "tags": []
          },
          "execution_count": 36
        }
      ]
    },
    {
      "cell_type": "code",
      "metadata": {
        "colab": {
          "base_uri": "https://localhost:8080/"
        },
        "id": "oPjb7a3fBJqC",
        "outputId": "91ff0c5c-a1a6-44b5-c770-4b8dd26733c7"
      },
      "source": [
        "np.array(0)/np.array(0.)"
      ],
      "execution_count": null,
      "outputs": [
        {
          "output_type": "stream",
          "text": [
            "/usr/local/lib/python3.7/dist-packages/ipykernel_launcher.py:1: RuntimeWarning: invalid value encountered in true_divide\n",
            "  \"\"\"Entry point for launching an IPython kernel.\n"
          ],
          "name": "stderr"
        },
        {
          "output_type": "execute_result",
          "data": {
            "text/plain": [
              "nan"
            ]
          },
          "metadata": {
            "tags": []
          },
          "execution_count": 37
        }
      ]
    },
    {
      "cell_type": "code",
      "metadata": {
        "id": "XaY-yZS1BQM5"
      },
      "source": [
        "#nan = Convert a string or number to a floating point number, if possible."
      ],
      "execution_count": null,
      "outputs": []
    },
    {
      "cell_type": "code",
      "metadata": {
        "colab": {
          "base_uri": "https://localhost:8080/"
        },
        "id": "vEy1PYzXB76E",
        "outputId": "82e2ba17-e25a-4b05-d9fa-ff614c6e9aa7"
      },
      "source": [
        "#5x5 matrix with row values ranging from 0 to 4\n",
        "z = np.zeros((5,5))\n",
        "z += np.arange(5)\n",
        "z "
      ],
      "execution_count": null,
      "outputs": [
        {
          "output_type": "execute_result",
          "data": {
            "text/plain": [
              "array([[0., 1., 2., 3., 4.],\n",
              "       [0., 1., 2., 3., 4.],\n",
              "       [0., 1., 2., 3., 4.],\n",
              "       [0., 1., 2., 3., 4.],\n",
              "       [0., 1., 2., 3., 4.]])"
            ]
          },
          "metadata": {
            "tags": []
          },
          "execution_count": 40
        }
      ]
    },
    {
      "cell_type": "code",
      "metadata": {
        "colab": {
          "base_uri": "https://localhost:8080/"
        },
        "id": "JAcAFY2iCeDM",
        "outputId": "9c8b7b2e-1de6-4c6d-a743-46bab5ccd357"
      },
      "source": [
        "z = np.random.random(10)\n",
        "z.sort()\n",
        "z"
      ],
      "execution_count": null,
      "outputs": [
        {
          "output_type": "execute_result",
          "data": {
            "text/plain": [
              "array([0.0481548 , 0.16280359, 0.17040703, 0.27236257, 0.43251089,\n",
              "       0.48715091, 0.91959646, 0.95247475, 0.96915669, 0.9756076 ])"
            ]
          },
          "metadata": {
            "tags": []
          },
          "execution_count": 42
        }
      ]
    },
    {
      "cell_type": "code",
      "metadata": {
        "colab": {
          "base_uri": "https://localhost:8080/"
        },
        "id": "7wOaxYG5CuE3",
        "outputId": "b709927d-60e9-4c6f-f277-902ac4aa20af"
      },
      "source": [
        "#consider 2 random array A and b check if they are equal\n",
        "A = np.random.randint(0,2,5)\n",
        "B = np.random.randint(0,2,5)\n",
        "equal = np.allclose(A,B)\n",
        "equal"
      ],
      "execution_count": null,
      "outputs": [
        {
          "output_type": "execute_result",
          "data": {
            "text/plain": [
              "False"
            ]
          },
          "metadata": {
            "tags": []
          },
          "execution_count": 43
        }
      ]
    },
    {
      "cell_type": "code",
      "metadata": {
        "id": "sxvuU3FNDLfx"
      },
      "source": [
        "#mZ[0] = 1"
      ],
      "execution_count": null,
      "outputs": []
    },
    {
      "cell_type": "code",
      "metadata": {
        "id": "ZkMRsNN5DpFh"
      },
      "source": [
        ""
      ],
      "execution_count": null,
      "outputs": []
    }
  ]
}