{
  "nbformat": 4,
  "nbformat_minor": 0,
  "metadata": {
    "colab": {
      "name": "preactice.ipynb",
      "provenance": [],
      "collapsed_sections": [],
      "authorship_tag": "ABX9TyNhAZK8VZ737wd4XoxXPWWF",
      "include_colab_link": true
    },
    "kernelspec": {
      "name": "python3",
      "display_name": "Python 3"
    },
    "language_info": {
      "name": "python"
    }
  },
  "cells": [
    {
      "cell_type": "markdown",
      "metadata": {
        "id": "view-in-github",
        "colab_type": "text"
      },
      "source": [
        "<a href=\"https://colab.research.google.com/github/Diptyregar456/Python/blob/main/preactice.ipynb\" target=\"_parent\"><img src=\"https://colab.research.google.com/assets/colab-badge.svg\" alt=\"Open In Colab\"/></a>"
      ]
    },
    {
      "cell_type": "markdown",
      "metadata": {
        "id": "i_B6nPSW-uo7"
      },
      "source": [
        "**PYTHON**"
      ]
    },
    {
      "cell_type": "code",
      "metadata": {
        "id": "_8_ULnWL-0mg",
        "colab": {
          "base_uri": "https://localhost:8080/"
        },
        "outputId": "4cc19b11-a63f-4962-f178-a7bd1d8e8371"
      },
      "source": [
        "name = input('what is your name?')\n",
        "print('hi' + name)"
      ],
      "execution_count": null,
      "outputs": [
        {
          "output_type": "stream",
          "name": "stdout",
          "text": [
            "what is your name?   Dipty regar\n",
            "hi   Dipty regar\n"
          ]
        }
      ]
    },
    {
      "cell_type": "markdown",
      "metadata": {
        "id": "bVR665L3j5t7"
      },
      "source": [
        "**Question 2\n",
        "\n",
        "```\n",
        "person\"s name?\n",
        "persons favorite coor?\n",
        "then print a message like 'Dipty likes purple'\n",
        "```\n",
        "\n",
        "**"
      ]
    },
    {
      "cell_type": "code",
      "metadata": {
        "colab": {
          "base_uri": "https://localhost:8080/"
        },
        "id": "ErihfUPhkOVU",
        "outputId": "e32213e6-3481-488e-8581-7b138db822cc"
      },
      "source": [
        "name = input('what is your name?')\n",
        "favourite_color = input('what is you favourite color?')\n",
        "print('Hi' + name)\n",
        "print('and my favourite color is' + favourite_color)"
      ],
      "execution_count": null,
      "outputs": [
        {
          "output_type": "stream",
          "name": "stdout",
          "text": [
            "what is your name?  Dipty regar\n",
            "what is you favourite color?  Purple\n",
            "Hi  Dipty regar\n",
            "and my favourite color is  Purple\n"
          ]
        }
      ]
    },
    {
      "cell_type": "code",
      "metadata": {
        "colab": {
          "base_uri": "https://localhost:8080/"
        },
        "id": "LT9_MECK1D9e",
        "outputId": "a3669bae-6ebd-4a1e-a891-4dde6a9154ef"
      },
      "source": [
        "birth_year = input('birth year:')\n",
        "age = 2021 - int(birth_year)\n",
        "print(type(age))\n",
        "print(type(birth_year))\n",
        "print(age)"
      ],
      "execution_count": null,
      "outputs": [
        {
          "output_type": "stream",
          "name": "stdout",
          "text": [
            "birth year:  1996\n",
            "<class 'int'>\n",
            "<class 'str'>\n",
            "25\n"
          ]
        }
      ]
    },
    {
      "cell_type": "code",
      "metadata": {
        "colab": {
          "base_uri": "https://localhost:8080/"
        },
        "id": "DDOb-dtk5ney",
        "outputId": "d1a7fd15-c3e5-4082-e5fa-d68039a68f2f"
      },
      "source": [
        "weight = input('weight (lbs):')\n",
        "in_kilogram = int(weight) * 0.45\n",
        "print(in_kilogram)\n",
        "print(type(weight))\n",
        "print(type(in_kilogram))"
      ],
      "execution_count": null,
      "outputs": [
        {
          "output_type": "stream",
          "name": "stdout",
          "text": [
            "weight (lbs): 150\n",
            "67.5\n",
            "<class 'str'>\n",
            "<class 'float'>\n"
          ]
        }
      ]
    },
    {
      "cell_type": "code",
      "metadata": {
        "colab": {
          "base_uri": "https://localhost:8080/"
        },
        "id": "ZBNUVXzS9vjF",
        "outputId": "b9bd9646-8d9c-4f4f-ae42-fa17e48ee2ca"
      },
      "source": [
        "import random\n",
        "course = 'python is for beginners'\n",
        "print(course[0])\n",
        "print(course[-1])\n",
        "print(course[4])\n",
        "print(course[-5])\n",
        "print(course[-7])\n",
        "random.choices(course)\n",
        "print(course[0:9])\n",
        "print(course[-1:])\n",
        "print(course[:8])\n",
        "print(course[5:-2])\n",
        "print(type(course))"
      ],
      "execution_count": null,
      "outputs": [
        {
          "output_type": "stream",
          "name": "stdout",
          "text": [
            "p\n",
            "s\n",
            "o\n",
            "n\n",
            "g\n",
            "python is\n",
            "s\n",
            "python i\n",
            "n is for beginne\n",
            "<class 'str'>\n"
          ]
        }
      ]
    },
    {
      "cell_type": "code",
      "metadata": {
        "colab": {
          "base_uri": "https://localhost:8080/"
        },
        "id": "kdajXEndCr6W",
        "outputId": "3d61f0ff-5190-4918-facd-ad3ba4211fc6"
      },
      "source": [
        "first = 'Dipty'\n",
        "last = 'Regar'\n",
        "message = f'{first} {last} is a coder'\n",
        "print(message)"
      ],
      "execution_count": null,
      "outputs": [
        {
          "output_type": "stream",
          "name": "stdout",
          "text": [
            "Dipty Regar is a coder\n"
          ]
        }
      ]
    },
    {
      "cell_type": "code",
      "metadata": {
        "colab": {
          "base_uri": "https://localhost:8080/"
        },
        "id": "ZERkJWR9HVOr",
        "outputId": "0f0576dc-037e-4d1a-dcb6-ffcdd1e49782"
      },
      "source": [
        "#methods of string\n",
        "course = 'Python for Beginners'\n",
        "print(len(course))\n",
        "print(course.upper())\n",
        "print(course.lower())\n",
        "print(course.find('B'))\n",
        "print(course.find(\"b\"))\n",
        "print(course.find('Beginners'))\n",
        "print(course.replace('Beginners', 'Absolute Beginners'))\n",
        "print(course.replace('beginners', 'absolute'))\n",
        "print('Python' in course)\n",
        "print('py' in course)\n",
        "print(course.title())"
      ],
      "execution_count": null,
      "outputs": [
        {
          "output_type": "stream",
          "name": "stdout",
          "text": [
            "20\n",
            "PYTHON FOR BEGINNERS\n",
            "python for beginners\n",
            "11\n",
            "-1\n",
            "11\n",
            "Python for Absolute Beginners\n",
            "Python for Beginners\n",
            "True\n",
            "False\n",
            "Python For Beginners\n"
          ]
        }
      ]
    },
    {
      "cell_type": "code",
      "metadata": {
        "colab": {
          "base_uri": "https://localhost:8080/"
        },
        "id": "EP-DNdtFPyYZ",
        "outputId": "fb5faa24-d767-4875-c8f8-7b6805966818"
      },
      "source": [
        "x = 10\n",
        "x += 3\n",
        "print(x)\n",
        "x -= 3\n",
        "print(x)\n",
        "x *= 3\n",
        "print(x)\n",
        "x /= 3\n",
        "print(x)\n",
        "x //= 3\n",
        "print(x)\n",
        "x = 3.85\n",
        "print(round(x))\n",
        "print(abs(-2.9))"
      ],
      "execution_count": null,
      "outputs": [
        {
          "output_type": "stream",
          "name": "stdout",
          "text": [
            "13\n",
            "10\n",
            "30\n",
            "10.0\n",
            "3.0\n",
            "4\n",
            "2.9\n"
          ]
        }
      ]
    },
    {
      "cell_type": "code",
      "metadata": {
        "colab": {
          "base_uri": "https://localhost:8080/"
        },
        "id": "bDvv0-yMiZFb",
        "outputId": "2a441f10-0a7f-45a0-c3e7-a56303cd8c44"
      },
      "source": [
        "is_hot = True\n",
        "if is_hot:\n",
        "  print('its a hot day')\n",
        "  print('drink water')\n",
        "print('enjoy your day')\n",
        "is_hot = False\n",
        "if is_hot:\n",
        "  print('its hot day')\n",
        "else:\n",
        "  print('its cold day')\n",
        "print('enjoy your day')"
      ],
      "execution_count": null,
      "outputs": [
        {
          "output_type": "stream",
          "name": "stdout",
          "text": [
            "its a hot day\n",
            "drink water\n",
            "enjoy your day\n",
            "its cold day\n",
            "enjoy your day\n"
          ]
        }
      ]
    },
    {
      "cell_type": "code",
      "metadata": {
        "colab": {
          "base_uri": "https://localhost:8080/"
        },
        "id": "Bf4v9exqj5Dq",
        "outputId": "6833ef2f-27e4-438d-8cb6-43d235c29f66"
      },
      "source": [
        "#elif\n",
        "is_hot = True\n",
        "is_cold = False\n",
        "if is_hot:\n",
        "  print('its a hot day')\n",
        "elif is_cold:\n",
        "  print('its cold day')\n",
        "else:\n",
        "  ('its a lovely day')"
      ],
      "execution_count": null,
      "outputs": [
        {
          "output_type": "stream",
          "name": "stdout",
          "text": [
            "its a hot day\n"
          ]
        }
      ]
    },
    {
      "cell_type": "markdown",
      "metadata": {
        "id": "bZ_1Vt1ylgUD"
      },
      "source": [
        "**question \n",
        "\n",
        "```price of a house is$1\n",
        "if buyer has a good credit\n",
        "put down 10%\n",
        "otherwise\n",
        "20%\n",
        "\n",
        "```\n",
        "\n",
        "**"
      ]
    },
    {
      "cell_type": "code",
      "metadata": {
        "colab": {
          "base_uri": "https://localhost:8080/"
        },
        "id": "xLTbnX2il1OA",
        "outputId": "cc68ba30-2b8f-4164-825e-f9ab346b319d"
      },
      "source": [
        "price = 1000000\n",
        "has_good_credit = True\n",
        "if has_good_credit:\n",
        "  down_payment = 0.1 * price\n",
        "else:\n",
        "  down_payment = 0.2 * price\n",
        "print(f'Down payment : ${down_payment}')\n",
        "income = True\n",
        "credit = True\n",
        "if income and credit:\n",
        "  print('eligible')\n",
        "else:\n",
        "  print('not eligible')\n",
        "income = True\n",
        "credit = False\n",
        "if income and\n",
        " not credit:\n",
        "  print(' not eligible')\n",
        "else:\n",
        "  print('eligible')\n",
        "  income = True\n",
        "credit = False\n",
        "if income or not credit:\n",
        "  print(' not eligible')\n",
        "else:\n",
        "  print('eligible')"
      ],
      "execution_count": null,
      "outputs": [
        {
          "output_type": "stream",
          "name": "stdout",
          "text": [
            "Down payment : $100000.0\n",
            "eligible\n",
            " not eligible\n",
            " not eligible\n"
          ]
        }
      ]
    },
    {
      "cell_type": "code",
      "metadata": {
        "colab": {
          "base_uri": "https://localhost:8080/"
        },
        "id": "OKql3T-1rtzi",
        "outputId": "a10bc58b-3f1a-44f2-c4fe-1af7d55b0c57"
      },
      "source": [
        "weight= int(input('weight:'))\n",
        "unit = input('(L)bs or (K)bs:')\n",
        "if unit.upper()== \"L\":\n",
        "  converted = weight *0.45\n",
        "  print(f\"you are {conv0erted} kilos\")\n",
        "else:\n",
        "  converted = weight/0.45\n",
        "  print(f\"you are {converted} pounds\")"
      ],
      "execution_count": null,
      "outputs": [
        {
          "output_type": "stream",
          "name": "stdout",
          "text": [
            "weight:  140\n",
            "(L)bs or (K)bs: L\n",
            "you are 311.1111111111111 pounds\n"
          ]
        }
      ]
    },
    {
      "cell_type": "code",
      "metadata": {
        "colab": {
          "base_uri": "https://localhost:8080/"
        },
        "id": "e5X-JO_GvKnK",
        "outputId": "4809f99f-0559-41ef-dc90-85435c9d6510"
      },
      "source": [
        "i = 1\n",
        "while i<=5:\n",
        "  print(i)\n",
        "  i = i+1\n",
        "print('done')\n",
        "i = 1\n",
        "while i<=5:\n",
        "  print('*' * i)\n",
        "  i = i+1\n",
        "print('done')"
      ],
      "execution_count": null,
      "outputs": [
        {
          "output_type": "stream",
          "name": "stdout",
          "text": [
            "1\n",
            "2\n",
            "3\n",
            "4\n",
            "5\n",
            "done\n",
            "*\n",
            "**\n",
            "***\n",
            "****\n",
            "*****\n",
            "done\n"
          ]
        }
      ]
    },
    {
      "cell_type": "code",
      "metadata": {
        "colab": {
          "base_uri": "https://localhost:8080/"
        },
        "id": "HVDp0GtA1JPt",
        "outputId": "19531b0a-66f2-4823-c354-ca7f100ba830"
      },
      "source": [
        "for item in \"PYTHON\":\n",
        "  print(item)\n",
        "for item in ['lili','mosh','toto','tintin']:\n",
        "  print(item)\n",
        "for item in [1,2,3,4,5,6]:\n",
        "  print(item)\n",
        "for item in range(11):\n",
        "  print(item)\n",
        "for item in range(5, 9, 2):\n",
        "  print(item)\n",
        "prices = [10,20,30] #use for loop to calculate the  totol cost all of the item\n",
        "total=0\n",
        "for price in prices:\n",
        "  total += total + price\n",
        "  print(total)\n",
        "  \n",
        "  "
      ],
      "execution_count": null,
      "outputs": [
        {
          "output_type": "stream",
          "name": "stdout",
          "text": [
            "P\n",
            "Y\n",
            "T\n",
            "H\n",
            "O\n",
            "N\n",
            "lili\n",
            "mosh\n",
            "toto\n",
            "tintin\n",
            "1\n",
            "2\n",
            "3\n",
            "4\n",
            "5\n",
            "6\n",
            "0\n",
            "1\n",
            "2\n",
            "3\n",
            "4\n",
            "5\n",
            "6\n",
            "7\n",
            "8\n",
            "9\n",
            "10\n",
            "5\n",
            "7\n",
            "10\n",
            "40\n",
            "110\n"
          ]
        }
      ]
    },
    {
      "cell_type": "code",
      "metadata": {
        "colab": {
          "base_uri": "https://localhost:8080/"
        },
        "id": "itqj706T45s5",
        "outputId": "9a6d564b-96c4-41f6-e1dc-60dcbe682bb6"
      },
      "source": [
        "num = [3,4,6,8,9,12,45,65]\n",
        "print(max(num))\n",
        "print(min(num))\n",
        "matrix = [\n",
        "          [1,2,3],\n",
        "          [4,5,6],\n",
        "          [7,8,9]\n",
        "]\n",
        "matrix[0][1] = 20\n",
        "print(matrix[0][1])\n",
        "for row in matrix:\n",
        "  for item in row:\n",
        "    print(item)"
      ],
      "execution_count": null,
      "outputs": [
        {
          "output_type": "stream",
          "name": "stdout",
          "text": [
            "65\n",
            "3\n",
            "20\n",
            "1\n",
            "20\n",
            "3\n",
            "4\n",
            "5\n",
            "6\n",
            "7\n",
            "8\n",
            "9\n"
          ]
        }
      ]
    }
  ]
}