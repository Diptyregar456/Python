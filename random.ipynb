{
  "nbformat": 4,
  "nbformat_minor": 0,
  "metadata": {
    "colab": {
      "name": "random.ipynb",
      "provenance": [],
      "collapsed_sections": [],
      "authorship_tag": "ABX9TyNPzB6Lm+Xn0A4FecE9GPwN",
      "include_colab_link": true
    },
    "kernelspec": {
      "name": "python3",
      "display_name": "Python 3"
    },
    "language_info": {
      "name": "python"
    }
  },
  "cells": [
    {
      "cell_type": "markdown",
      "metadata": {
        "id": "view-in-github",
        "colab_type": "text"
      },
      "source": [
        "<a href=\"https://colab.research.google.com/github/Diptyregar456/Python/blob/main/random.ipynb\" target=\"_parent\"><img src=\"https://colab.research.google.com/assets/colab-badge.svg\" alt=\"Open In Colab\"/></a>"
      ]
    },
    {
      "cell_type": "markdown",
      "metadata": {
        "id": "nmIsk6odIOwi"
      },
      "source": [
        "**BUILT-IN DATA TYPES\n",
        "\n",
        "```\n",
        "# 1) MUTABLE\n",
        "  2) IMMUTABLE\n",
        "```\n",
        "\n",
        "**"
      ]
    },
    {
      "cell_type": "markdown",
      "metadata": {
        "id": "6p2V4th3IbWe"
      },
      "source": [
        "**MUTABLE\n",
        "\n",
        "```\n",
        "# LIST, SETS, DICTIONARIES  (CAN BE MODIFIED)\n",
        "```\n",
        "\n",
        "**"
      ]
    },
    {
      "cell_type": "markdown",
      "metadata": {
        "id": "OWB9xPsiIw4N"
      },
      "source": [
        "**IMMUTABLE\n",
        "\n",
        "```\n",
        "\n",
        "```1) Tuple\n",
        "  2) String\n",
        "  3) Numbers\n",
        "**"
      ]
    },
    {
      "cell_type": "markdown",
      "metadata": {
        "id": "mPHlQIN_JR9U"
      },
      "source": [
        "**RANDOM\n",
        "\n",
        "#```If you  want to print a random number or value then  you use  random module and rendom function.\n",
        "\n",
        "```\n",
        "\n",
        "**"
      ]
    },
    {
      "cell_type": "code",
      "metadata": {
        "id": "Pny5HqRRP9xW"
      },
      "source": [
        "import random    #import the random module"
      ],
      "execution_count": null,
      "outputs": []
    },
    {
      "cell_type": "code",
      "metadata": {
        "colab": {
          "base_uri": "https://localhost:8080/"
        },
        "id": "Fco0OEZTP1LH",
        "outputId": "3e8d7cc6-4412-4436-d2d2-870ca8c117d6"
      },
      "source": [
        "random.random()  #random- x intervalvalue wouldbe(0,1]"
      ],
      "execution_count": null,
      "outputs": [
        {
          "output_type": "execute_result",
          "data": {
            "text/plain": [
              "0.591868644583546"
            ]
          },
          "metadata": {},
          "execution_count": 2
        }
      ]
    },
    {
      "cell_type": "code",
      "metadata": {
        "colab": {
          "base_uri": "https://localhost:8080/"
        },
        "id": "8M_3HD-kRDnd",
        "outputId": "74f62df3-f960-4ba1-dc08-0b60df81eb9d"
      },
      "source": [
        "random.random()"
      ],
      "execution_count": null,
      "outputs": [
        {
          "output_type": "execute_result",
          "data": {
            "text/plain": [
              "0.15574969097411284"
            ]
          },
          "metadata": {},
          "execution_count": 3
        }
      ]
    },
    {
      "cell_type": "code",
      "metadata": {
        "colab": {
          "base_uri": "https://localhost:8080/"
        },
        "id": "OEfiyFV5RJAK",
        "outputId": "09096726-6e62-4dbc-e9cd-f87ba5857335"
      },
      "source": [
        "#random.randint()  -- error variables are missing a,b\n",
        "random.randint(1,10)"
      ],
      "execution_count": null,
      "outputs": [
        {
          "output_type": "execute_result",
          "data": {
            "text/plain": [
              "3"
            ]
          },
          "metadata": {},
          "execution_count": 7
        }
      ]
    },
    {
      "cell_type": "code",
      "metadata": {
        "colab": {
          "base_uri": "https://localhost:8080/"
        },
        "id": "58Vvh393SFSB",
        "outputId": "4cfb6abb-5c7e-4820-f960-f49f6143802b"
      },
      "source": [
        "#random.randrange()  -- missing 1 required positional argument start---  error\n",
        "random.randrange(3) #by default its counting from  0-3\n",
        "random.randrange(5,10) #5-10"
      ],
      "execution_count": null,
      "outputs": [
        {
          "output_type": "execute_result",
          "data": {
            "text/plain": [
              "8"
            ]
          },
          "metadata": {},
          "execution_count": 26
        }
      ]
    },
    {
      "cell_type": "code",
      "metadata": {
        "colab": {
          "base_uri": "https://localhost:8080/"
        },
        "id": "39UnYh9nV-1z",
        "outputId": "4ef2ea87-8b4a-45b3-b730-169b9bfc5a10"
      },
      "source": [
        "l = [1,2,3,4,5]\n",
        "random.choice(l)\n",
        "random.randint(2,10)  #nessasory 2 arguments\n",
        "random.randrange(3)  #by default 0 to 3"
      ],
      "execution_count": null,
      "outputs": [
        {
          "output_type": "execute_result",
          "data": {
            "text/plain": [
              "1"
            ]
          },
          "metadata": {},
          "execution_count": 40
        }
      ]
    },
    {
      "cell_type": "code",
      "metadata": {
        "colab": {
          "base_uri": "https://localhost:8080/"
        },
        "id": "-VoHTUVeXgG8",
        "outputId": "beb07580-2896-4d90-daab-91ea194a9f6d"
      },
      "source": [
        "random.randint(1,3) #output canbe 1 /2/3"
      ],
      "execution_count": null,
      "outputs": [
        {
          "output_type": "execute_result",
          "data": {
            "text/plain": [
              "1"
            ]
          },
          "metadata": {},
          "execution_count": 48
        }
      ]
    },
    {
      "cell_type": "code",
      "metadata": {
        "colab": {
          "base_uri": "https://localhost:8080/"
        },
        "id": "epAWF-0gXygU",
        "outputId": "9c118546-00ee-4eca-ce8b-d07b1108a039"
      },
      "source": [
        "random.randrange(1,3)  #output will be 1/2"
      ],
      "execution_count": null,
      "outputs": [
        {
          "output_type": "execute_result",
          "data": {
            "text/plain": [
              "1"
            ]
          },
          "metadata": {},
          "execution_count": 57
        }
      ]
    },
    {
      "cell_type": "code",
      "metadata": {
        "colab": {
          "base_uri": "https://localhost:8080/",
          "height": 35
        },
        "id": "03Nl_cYAYKgy",
        "outputId": "b7e58c28-bd8d-4c08-ac82-aba5af01dd79"
      },
      "source": [
        "tuple = ('ben','lili','lolo','momo')\n",
        "# Q) PRINT ANY RANDOM VALUE FROM THIS TUPLE\n",
        "random.choice(tuple)"
      ],
      "execution_count": null,
      "outputs": [
        {
          "output_type": "execute_result",
          "data": {
            "application/vnd.google.colaboratory.intrinsic+json": {
              "type": "string"
            },
            "text/plain": [
              "'momo'"
            ]
          },
          "metadata": {},
          "execution_count": 60
        }
      ]
    },
    {
      "cell_type": "code",
      "metadata": {
        "colab": {
          "base_uri": "https://localhost:8080/"
        },
        "id": "-E8JbOHeYhqs",
        "outputId": "05722d42-6ac0-428e-8569-99fd3904e62c"
      },
      "source": [
        "t1 = ('ben','emma','rach','rose','rose')\n",
        "#t2 = (1,2,3,14)\n",
        "#random.choices(t1, t2)  POPULATION NEEDS TO BE MATCH OTHER WISE CANT PERFORM THE OPERATION\n",
        "top = (1,2,4,4,2)\n",
        "random.choices(t1, top)"
      ],
      "execution_count": null,
      "outputs": [
        {
          "output_type": "execute_result",
          "data": {
            "text/plain": [
              "['emma']"
            ]
          },
          "metadata": {},
          "execution_count": 70
        }
      ]
    },
    {
      "cell_type": "code",
      "metadata": {
        "colab": {
          "base_uri": "https://localhost:8080/"
        },
        "id": "n5hzF0HkZ8D3",
        "outputId": "89057724-0d35-4048-88d3-b883a282a7c1"
      },
      "source": [
        "l2 = ['a','b','c','d','e','e']\n",
        "l2"
      ],
      "execution_count": null,
      "outputs": [
        {
          "output_type": "execute_result",
          "data": {
            "text/plain": [
              "['a', 'b', 'c', 'd', 'e', 'e']"
            ]
          },
          "metadata": {},
          "execution_count": 80
        }
      ]
    },
    {
      "cell_type": "code",
      "metadata": {
        "colab": {
          "base_uri": "https://localhost:8080/"
        },
        "id": "Gh78D_mhakjP",
        "outputId": "e085e08e-5e90-434d-8a31-ad5e6c0d7b78"
      },
      "source": [
        "l1 = [1,2,4,5,5]\n",
        "print(l1)"
      ],
      "execution_count": null,
      "outputs": [
        {
          "output_type": "stream",
          "name": "stdout",
          "text": [
            "[1, 2, 4, 5, 5]\n"
          ]
        }
      ]
    },
    {
      "cell_type": "code",
      "metadata": {
        "colab": {
          "base_uri": "https://localhost:8080/"
        },
        "id": "g91LRgNGazkU",
        "outputId": "e7a6b37a-07aa-4140-b50c-e0e181c212ea"
      },
      "source": [
        "#random.choices(l2, top) #does not match the populations\n",
        "random.choices(l1, top) #population is same"
      ],
      "execution_count": null,
      "outputs": [
        {
          "output_type": "execute_result",
          "data": {
            "text/plain": [
              "[1]"
            ]
          },
          "metadata": {},
          "execution_count": 91
        }
      ]
    },
    {
      "cell_type": "code",
      "metadata": {
        "colab": {
          "base_uri": "https://localhost:8080/",
          "height": 35
        },
        "id": "5z3hIv0Ib5iQ",
        "outputId": "f98372f5-e99d-406e-e710-08c34cf0fab2"
      },
      "source": [
        "s1 = 'Dipty'\n",
        "s2 =  'regar'\n",
        "#random.choices(l1, s1) # cant multiply non-int type\n",
        "#random.choices(s1,s2) cant perform\n",
        "random.choice(s1)\n",
        "#can perform singaly butcant multiply strings."
      ],
      "execution_count": null,
      "outputs": [
        {
          "output_type": "execute_result",
          "data": {
            "application/vnd.google.colaboratory.intrinsic+json": {
              "type": "string"
            },
            "text/plain": [
              "'y'"
            ]
          },
          "metadata": {},
          "execution_count": 95
        }
      ]
    },
    {
      "cell_type": "code",
      "metadata": {
        "colab": {
          "base_uri": "https://localhost:8080/"
        },
        "id": "innGtD-OgCLZ",
        "outputId": "84aefe15-d157-4dd6-dcd5-146215144b21"
      },
      "source": [
        "dic = {'name':'lili','age':'25','class':1}\n",
        "dic\n",
        "#for x in dic():\n",
        "  #print(dic)\n",
        "#random.choice(d1) #cant perform random on dict."
      ],
      "execution_count": null,
      "outputs": [
        {
          "output_type": "execute_result",
          "data": {
            "text/plain": [
              "{'age': '25', 'class': 1, 'name': 'lili'}"
            ]
          },
          "metadata": {},
          "execution_count": 104
        }
      ]
    }
  ]
}