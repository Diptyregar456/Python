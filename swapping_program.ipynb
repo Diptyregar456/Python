{
  "nbformat": 4,
  "nbformat_minor": 0,
  "metadata": {
    "colab": {
      "name": "swapping program.ipynb",
      "provenance": [],
      "collapsed_sections": [],
      "authorship_tag": "ABX9TyNLm8sYTZA8toZA1T4sB5gU",
      "include_colab_link": true
    },
    "kernelspec": {
      "name": "python3",
      "display_name": "Python 3"
    },
    "language_info": {
      "name": "python"
    }
  },
  "cells": [
    {
      "cell_type": "markdown",
      "metadata": {
        "id": "view-in-github",
        "colab_type": "text"
      },
      "source": [
        "<a href=\"https://colab.research.google.com/github/Diptyregar456/Python/blob/main/swapping_program.ipynb\" target=\"_parent\"><img src=\"https://colab.research.google.com/assets/colab-badge.svg\" alt=\"Open In Colab\"/></a>"
      ]
    },
    {
      "cell_type": "code",
      "metadata": {
        "colab": {
          "base_uri": "https://localhost:8080/"
        },
        "id": "YgzaovG5HWgS",
        "outputId": "c54d500a-f2c9-467f-cf9f-f488ca3583ed"
      },
      "source": [
        "#swapping two numbers or more numbers\n",
        "a, b = 3,4\n",
        "a,b = b, a\n",
        "print(a,b) # print(\"a,b\") it means you have to print the output so if you describe double quote then it will print something which is in double quote.\n",
        "print('a,b')\n",
        "print(a,b)\n",
        "#a,b=b,a '''so if you want an output so you have not to put double quote doble quote will be understandble when we want to print the statement or character and so on \n",
        "#for in numbers you do not have to put this quotation'''"
      ],
      "execution_count": null,
      "outputs": [
        {
          "output_type": "stream",
          "text": [
            "4 3\n",
            "a,b\n",
            "4 3\n"
          ],
          "name": "stdout"
        }
      ]
    },
    {
      "cell_type": "code",
      "metadata": {
        "colab": {
          "base_uri": "https://localhost:8080/"
        },
        "id": "s5C5drTCPf09",
        "outputId": "71ab9d6b-64c1-4624-abe1-73cf336db8c0"
      },
      "source": [
        "#other example of swapping numbers:-\n",
        "a=2\n",
        "b=3\n",
        "a,b = b,a\n",
        "print(a,b)\n",
        "print(b,a)\n",
        "c=4\n",
        "a,b,c=b,a,c\n",
        "print(a,b,c)\n",
        "print(b,a,c)"
      ],
      "execution_count": null,
      "outputs": [
        {
          "output_type": "stream",
          "text": [
            "3 2\n",
            "2 3\n",
            "2 3 4\n",
            "3 2 4\n"
          ],
          "name": "stdout"
        }
      ]
    },
    {
      "cell_type": "markdown",
      "metadata": {
        "id": "PIvJAOffuEtq"
      },
      "source": [
        "Indentation\n",
        "Variables\n",
        "Data types\n",
        "numbers\n",
        "comments\n"
      ]
    },
    {
      "cell_type": "code",
      "metadata": {
        "colab": {
          "base_uri": "https://localhost:8080/"
        },
        "id": "b7alVUaRrsbN",
        "outputId": "5334aea6-87c9-4d22-ca9c-b7d36f88225a"
      },
      "source": [
        "a=3\n",
        "b=2\n",
        "c=1\n",
        "d=3\n",
        "#a,b,c=1\n",
        "#a,b,c,d=b,a  '''value error (not enough values to unpack [expected 4, got 2])\n",
        "a,b,c,d=b,d,a,c\n",
        "print(a,b,c,d)\n",
        "print(b,a)\n",
        "print(c,a)\n",
        "print(c,d)\n",
        "print(a,d)\n",
        "print(a,c)\n",
        "print(a,b)"
      ],
      "execution_count": null,
      "outputs": [
        {
          "output_type": "stream",
          "text": [
            "2 3 3 1\n",
            "3 2\n",
            "3 2\n",
            "3 1\n",
            "2 1\n",
            "2 3\n",
            "2 3\n"
          ],
          "name": "stdout"
        }
      ]
    }
  ]
}